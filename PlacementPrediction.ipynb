{
 "cells": [
  {
   "cell_type": "code",
   "execution_count": 16,
   "id": "96a9d83d",
   "metadata": {},
   "outputs": [],
   "source": [
    "from sklearn.linear_model import LogisticRegression\n",
    "from scipy import interp\n",
    "from sklearn.ensemble import RandomForestClassifier\n",
    "from sklearn.metrics import roc_curve,auc,classification_report,accuracy_score\n",
    "from sklearn.model_selection import StratifiedKFold\n",
    "import matplotlib.patches as patches\n",
    "import itertools\n",
    "\n",
    "import warnings\n",
    "from sklearn.svm import SVC\n",
    "from sklearn.metrics import f1_score,matthews_corrcoef,recall_score,precision_score\n",
    "from feature_selector import FeatureSelector\n",
    "from sklearn.model_selection import train_test_split\n",
    "from sklearn.preprocessing import StandardScaler\n",
    "from sklearn.decomposition import PCA\n",
    "from sklearn.ensemble import RandomForestClassifier\n",
    "from sklearn.svm import SVC\n",
    "from sklearn.metrics import confusion_matrix\n",
    "from sklearn import svm\n",
    "from sklearn.ensemble import RandomForestClassifier\n",
    "from sklearn.model_selection import GridSearchCV\n",
    "from sklearn.preprocessing import LabelEncoder\n",
    "import pandas as pd\n",
    "import numpy as np\n",
    "import matplotlib.pyplot as plt\n",
    "import seaborn as sns\n",
    "from sklearn.model_selection import KFold\n",
    "from sklearn.metrics import f1_score\n",
    "from sklearn.metrics import roc_auc_score\n",
    "from sklearn.metrics import recall_score\n",
    "from sklearn.metrics import precision_score\n",
    "from sklearn.metrics import matthews_corrcoef\n",
    "from sklearn.metrics import average_precision_score\n",
    "from sklearn.model_selection import LeaveOneOut\n",
    "warnings.filterwarnings(\"ignore\")\n",
    "plt.rcParams['figure.constrained_layout.use'] = True"
   ]
  },
  {
   "cell_type": "code",
   "execution_count": 17,
   "id": "3f56d57a",
   "metadata": {},
   "outputs": [],
   "source": [
    "def perf_measure(y_actual, y_hat):\n",
    "    TP = 0\n",
    "    FP = 0\n",
    "    TN = 0\n",
    "    FN = 0\n",
    "\n",
    "    for i in range(len(y_hat)): \n",
    "        if y_actual[i]==y_hat[i]==1:\n",
    "           TP += 1\n",
    "        if y_hat[i]==1 and y_actual[i]!=y_hat[i]:\n",
    "           FP += 1\n",
    "        if y_actual[i]==y_hat[i]==0:\n",
    "           TN += 1\n",
    "        if y_hat[i]==0 and y_actual[i]!=y_hat[i]:\n",
    "           FN += 1\n",
    "\n",
    "    return(TP, FP, TN, FN)"
   ]
  },
  {
   "cell_type": "code",
   "execution_count": 18,
   "id": "f0f8aa6f",
   "metadata": {},
   "outputs": [],
   "source": [
    "\n",
    "def printPerformance(actual,predicted):\n",
    "    \n",
    "    print(\"Mean Accuracy: {0}\".format(accuracy_score(actual,predicted)))\n",
    "    print(\"Mean Precision: {0}\".format(precision_score(actual,predicted)))\n",
    "    print(\"Mean Recall: {0}\".format(recall_score(actual,predicted)))\n",
    "    print(\"Mean MCC Score: {0}\".format(matthews_corrcoef(actual,predicted)))\n",
    "    print(\"Mean F1-Score: {0}\".format(f1_score(actual,predicted)))\n",
    "    tn, fp, fn, tp = confusion_matrix(actual, predicted).ravel()\n",
    "    specificity = tn / (tn+fp)\n",
    "    print(\"specificity: {0}\".format(specificity))"
   ]
  },
  {
   "cell_type": "code",
   "execution_count": 7,
   "id": "8796e2f7",
   "metadata": {},
   "outputs": [],
   "source": [
    "class_names=['Rural','Urban']"
   ]
  },
  {
   "cell_type": "code",
   "execution_count": 19,
   "id": "bf6ca79a",
   "metadata": {},
   "outputs": [],
   "source": [
    "df=pd.read_csv('CleanedData.csv')"
   ]
  },
  {
   "cell_type": "code",
   "execution_count": 20,
   "id": "0403f21d",
   "metadata": {},
   "outputs": [
    {
     "data": {
      "text/html": [
       "<div>\n",
       "<style scoped>\n",
       "    .dataframe tbody tr th:only-of-type {\n",
       "        vertical-align: middle;\n",
       "    }\n",
       "\n",
       "    .dataframe tbody tr th {\n",
       "        vertical-align: top;\n",
       "    }\n",
       "\n",
       "    .dataframe thead th {\n",
       "        text-align: right;\n",
       "    }\n",
       "</style>\n",
       "<table border=\"1\" class=\"dataframe\">\n",
       "  <thead>\n",
       "    <tr style=\"text-align: right;\">\n",
       "      <th></th>\n",
       "      <th>Unnamed: 0</th>\n",
       "      <th>UID</th>\n",
       "      <th>Current Stream</th>\n",
       "      <th>HigherStudyMarks</th>\n",
       "      <th>SecClassMarks</th>\n",
       "      <th>B.Tech CGPA</th>\n",
       "      <th>EnglishScore</th>\n",
       "      <th>QuntAbility</th>\n",
       "      <th>LogicalAbility</th>\n",
       "      <th>ProgrammingScore</th>\n",
       "      <th>DomaninKnowledge</th>\n",
       "      <th>AutomataScore</th>\n",
       "      <th>AutomataFixScore</th>\n",
       "      <th>EssayWritingScore</th>\n",
       "      <th>Backlog</th>\n",
       "      <th>Gender</th>\n",
       "      <th>PlacementStatus</th>\n",
       "      <th>OfferedSalary</th>\n",
       "    </tr>\n",
       "  </thead>\n",
       "  <tbody>\n",
       "    <tr>\n",
       "      <th>0</th>\n",
       "      <td>0</td>\n",
       "      <td>17BCS3755</td>\n",
       "      <td>0</td>\n",
       "      <td>79.8</td>\n",
       "      <td>64.4</td>\n",
       "      <td>48.7</td>\n",
       "      <td>615.0</td>\n",
       "      <td>380.0</td>\n",
       "      <td>250.0</td>\n",
       "      <td>370.0</td>\n",
       "      <td>340.0</td>\n",
       "      <td>9.0</td>\n",
       "      <td>0.0</td>\n",
       "      <td>306.0</td>\n",
       "      <td>4.0</td>\n",
       "      <td>1</td>\n",
       "      <td>0</td>\n",
       "      <td>0.0</td>\n",
       "    </tr>\n",
       "    <tr>\n",
       "      <th>1</th>\n",
       "      <td>1</td>\n",
       "      <td>17BCS3756</td>\n",
       "      <td>0</td>\n",
       "      <td>93.1</td>\n",
       "      <td>88.6</td>\n",
       "      <td>78.0</td>\n",
       "      <td>615.0</td>\n",
       "      <td>640.0</td>\n",
       "      <td>660.0</td>\n",
       "      <td>625.0</td>\n",
       "      <td>580.0</td>\n",
       "      <td>52.0</td>\n",
       "      <td>0.0</td>\n",
       "      <td>648.0</td>\n",
       "      <td>0.0</td>\n",
       "      <td>1</td>\n",
       "      <td>1</td>\n",
       "      <td>4.5</td>\n",
       "    </tr>\n",
       "    <tr>\n",
       "      <th>2</th>\n",
       "      <td>2</td>\n",
       "      <td>17BCS3757</td>\n",
       "      <td>0</td>\n",
       "      <td>74.0</td>\n",
       "      <td>70.6</td>\n",
       "      <td>63.1</td>\n",
       "      <td>645.0</td>\n",
       "      <td>410.0</td>\n",
       "      <td>610.0</td>\n",
       "      <td>240.0</td>\n",
       "      <td>380.0</td>\n",
       "      <td>7.0</td>\n",
       "      <td>0.0</td>\n",
       "      <td>612.0</td>\n",
       "      <td>0.0</td>\n",
       "      <td>0</td>\n",
       "      <td>0</td>\n",
       "      <td>0.0</td>\n",
       "    </tr>\n",
       "    <tr>\n",
       "      <th>3</th>\n",
       "      <td>3</td>\n",
       "      <td>17BCS3758</td>\n",
       "      <td>0</td>\n",
       "      <td>95.0</td>\n",
       "      <td>80.4</td>\n",
       "      <td>81.3</td>\n",
       "      <td>805.0</td>\n",
       "      <td>710.0</td>\n",
       "      <td>680.0</td>\n",
       "      <td>670.0</td>\n",
       "      <td>700.0</td>\n",
       "      <td>79.0</td>\n",
       "      <td>0.0</td>\n",
       "      <td>495.0</td>\n",
       "      <td>0.0</td>\n",
       "      <td>1</td>\n",
       "      <td>1</td>\n",
       "      <td>6.5</td>\n",
       "    </tr>\n",
       "    <tr>\n",
       "      <th>4</th>\n",
       "      <td>4</td>\n",
       "      <td>17BCS3759</td>\n",
       "      <td>0</td>\n",
       "      <td>87.4</td>\n",
       "      <td>70.8</td>\n",
       "      <td>76.8</td>\n",
       "      <td>735.0</td>\n",
       "      <td>505.0</td>\n",
       "      <td>585.0</td>\n",
       "      <td>375.0</td>\n",
       "      <td>420.0</td>\n",
       "      <td>4.0</td>\n",
       "      <td>0.0</td>\n",
       "      <td>567.0</td>\n",
       "      <td>0.0</td>\n",
       "      <td>0</td>\n",
       "      <td>0</td>\n",
       "      <td>0.0</td>\n",
       "    </tr>\n",
       "  </tbody>\n",
       "</table>\n",
       "</div>"
      ],
      "text/plain": [
       "   Unnamed: 0        UID  Current Stream  HigherStudyMarks  SecClassMarks  \\\n",
       "0           0  17BCS3755               0              79.8           64.4   \n",
       "1           1  17BCS3756               0              93.1           88.6   \n",
       "2           2  17BCS3757               0              74.0           70.6   \n",
       "3           3  17BCS3758               0              95.0           80.4   \n",
       "4           4  17BCS3759               0              87.4           70.8   \n",
       "\n",
       "   B.Tech CGPA  EnglishScore  QuntAbility  LogicalAbility  ProgrammingScore  \\\n",
       "0         48.7         615.0        380.0           250.0             370.0   \n",
       "1         78.0         615.0        640.0           660.0             625.0   \n",
       "2         63.1         645.0        410.0           610.0             240.0   \n",
       "3         81.3         805.0        710.0           680.0             670.0   \n",
       "4         76.8         735.0        505.0           585.0             375.0   \n",
       "\n",
       "   DomaninKnowledge  AutomataScore  AutomataFixScore  EssayWritingScore  \\\n",
       "0             340.0            9.0               0.0              306.0   \n",
       "1             580.0           52.0               0.0              648.0   \n",
       "2             380.0            7.0               0.0              612.0   \n",
       "3             700.0           79.0               0.0              495.0   \n",
       "4             420.0            4.0               0.0              567.0   \n",
       "\n",
       "   Backlog  Gender  PlacementStatus  OfferedSalary  \n",
       "0      4.0       1                0            0.0  \n",
       "1      0.0       1                1            4.5  \n",
       "2      0.0       0                0            0.0  \n",
       "3      0.0       1                1            6.5  \n",
       "4      0.0       0                0            0.0  "
      ]
     },
     "execution_count": 20,
     "metadata": {},
     "output_type": "execute_result"
    }
   ],
   "source": [
    "df.head()"
   ]
  },
  {
   "cell_type": "code",
   "execution_count": 21,
   "id": "2f7e1ce3",
   "metadata": {},
   "outputs": [
    {
     "data": {
      "text/plain": [
       "Unnamed: 0           0\n",
       "UID                  0\n",
       "Current Stream       0\n",
       "HigherStudyMarks     0\n",
       "SecClassMarks        0\n",
       "B.Tech CGPA          0\n",
       "EnglishScore         0\n",
       "QuntAbility          0\n",
       "LogicalAbility       0\n",
       "ProgrammingScore     0\n",
       "DomaninKnowledge     0\n",
       "AutomataScore        0\n",
       "AutomataFixScore     0\n",
       "EssayWritingScore    0\n",
       "Backlog              0\n",
       "Gender               0\n",
       "PlacementStatus      0\n",
       "OfferedSalary        0\n",
       "dtype: int64"
      ]
     },
     "execution_count": 21,
     "metadata": {},
     "output_type": "execute_result"
    }
   ],
   "source": [
    "df.isnull().sum()"
   ]
  },
  {
   "cell_type": "code",
   "execution_count": 22,
   "id": "1cd7af70",
   "metadata": {},
   "outputs": [],
   "source": [
    "df.dropna(inplace=True)"
   ]
  },
  {
   "cell_type": "code",
   "execution_count": 23,
   "id": "45cb1127",
   "metadata": {},
   "outputs": [
    {
     "data": {
      "text/plain": [
       "(515, 18)"
      ]
     },
     "execution_count": 23,
     "metadata": {},
     "output_type": "execute_result"
    }
   ],
   "source": [
    "df.shape"
   ]
  },
  {
   "cell_type": "code",
   "execution_count": 25,
   "id": "0cff937f",
   "metadata": {},
   "outputs": [],
   "source": [
    "y=df['PlacementStatus']\n",
    "final_df=df.drop(['PlacementStatus'],axis=1)"
   ]
  },
  {
   "cell_type": "code",
   "execution_count": 100,
   "id": "6c1f79e6",
   "metadata": {},
   "outputs": [
    {
     "data": {
      "text/plain": [
       "1    336\n",
       "0    179\n",
       "Name: PlacementStatus, dtype: int64"
      ]
     },
     "execution_count": 100,
     "metadata": {},
     "output_type": "execute_result"
    }
   ],
   "source": [
    "X=final_df.drop(['Unnamed: 0','UID'],axis=1,inplace=True)\n",
    "y.value_counts()\n"
   ]
  },
  {
   "cell_type": "code",
   "execution_count": 32,
   "id": "8fa9f6a4",
   "metadata": {},
   "outputs": [],
   "source": [
    "scaler=StandardScaler()\n",
    "Scaled_X=scaler.fit_transform(X)\n",
    "#xtest_scaled=scaler.transform(xtest)"
   ]
  },
  {
   "cell_type": "code",
   "execution_count": 34,
   "id": "379a1143",
   "metadata": {},
   "outputs": [],
   "source": [
    "def run_kfold(clf,X):\n",
    "    #kf=LeaveOneOut()\n",
    "    kf = StratifiedKFold(n_splits=10,shuffle=True,random_state=42)\n",
    "    #####,\n",
    "    AccList=np.array([])\n",
    "    F1List=np.array([])\n",
    "    mccList=np.array([])\n",
    "    recallList=np.array([])\n",
    "    precisionList=np.array([])\n",
    "    specificityList=np.array([])\n",
    "    predicted_targets = np.array([])\n",
    "    actual_targets = np.array([])\n",
    "    #######\n",
    "   \n",
    "    fold = 0\n",
    "    for train_index, test_index in kf.split(X,y):\n",
    "        fold += 1\n",
    "        Xtrain, Xtest = X[train_index], X[test_index]\n",
    "        ytrain, ytest = y[train_index], y[test_index]\n",
    "        clf.fit(Xtrain, ytrain)\n",
    "        predictions = clf.predict(Xtest)\n",
    "        #####\n",
    "        predicted_targets = np.append(predicted_targets, predictions)\n",
    "        actual_targets = np.append(actual_targets, ytest)\n",
    "        AccList=np.append(AccList,accuracy_score(ytest,predictions))\n",
    "        F1List=np.append(F1List,f1_score(ytest,predictions))\n",
    "        mccList=np.append(mccList,matthews_corrcoef(ytest,predictions))\n",
    "        recallList=np.append(recallList,recall_score(ytest,predictions))\n",
    "        precisionList=np.append(precisionList,precision_score(ytest,predictions))\n",
    "        tn, fp, fn, tp = confusion_matrix(ytest,predictions).ravel()\n",
    "        specificity = tn / (tn+fp)\n",
    "        specificityList=np.append(specificityList,specificity)\n",
    "        #####\n",
    "      \n",
    "    return predicted_targets, actual_targets,AccList,F1List,mccList,recallList,precisionList,specificityList"
   ]
  },
  {
   "cell_type": "code",
   "execution_count": 35,
   "id": "05bebde1",
   "metadata": {},
   "outputs": [
    {
     "name": "stdout",
     "output_type": "stream",
     "text": [
      "Mean Accuracy: 0.8621359223300971\n",
      "Mean Precision: 0.8441558441558441\n",
      "Mean Recall: 0.9672619047619048\n",
      "Mean MCC Score: 0.6928780442437962\n",
      "Mean F1-Score: 0.9015256588072121\n",
      "specificity: 0.664804469273743\n",
      "std dev Accuracy: 0.04491121188489398\n",
      "std dev F1-Score: 0.029874498198883624\n",
      "std dev mcc: 0.10289891463743062\n",
      "std dev recall score: 0.025229114309820794\n",
      "std dev precision score: 0.04511419593097736\n",
      "std dev specificity score: 0.1158564716793519\n"
     ]
    }
   ],
   "source": [
    "logreg = LogisticRegression(C= 0.01, penalty= 'l2', solver= 'newton-cg',random_state=0)\n",
    "lrpredicted_target, lractual_target,AccList,F1List,mccList,recallList,precisionList,specificityList=run_kfold(logreg,Scaled_X)\n",
    "printPerformance(lractual_target,lrpredicted_target)\n",
    "print(\"std dev Accuracy: {0}\".format(np.std(AccList)))\n",
    "print(\"std dev F1-Score: {0}\".format(np.std(F1List)))\n",
    "print(\"std dev mcc: {0}\".format(np.std(mccList)))\n",
    "print(\"std dev recall score: {0}\".format(np.std(recallList)))\n",
    "print(\"std dev precision score: {0}\".format(precisionList.std()))\n",
    "print(\"std dev specificity score: {0}\".format(specificityList.std()))"
   ]
  },
  {
   "cell_type": "code",
   "execution_count": 116,
   "id": "cbd61a02",
   "metadata": {},
   "outputs": [
    {
     "name": "stdout",
     "output_type": "stream",
     "text": [
      "Mean Accuracy: 1.0\n",
      "Mean Precision: 1.0\n",
      "Mean Recall: 1.0\n",
      "Mean MCC Score: 1.0\n",
      "Mean F1-Score: 1.0\n",
      "specificity: 1.0\n",
      "std dev Accuracy: 0.0\n",
      "std dev F1-Score: 0.0\n",
      "std dev mcc: 0.0\n",
      "std dev recall score: 0.0\n",
      "std dev precision score: 0.0\n",
      "std dev specificity score: 0.0\n"
     ]
    }
   ],
   "source": [
    "\n",
    "\n",
    "randomforest = RandomForestClassifier(random_state=0, criterion= 'gini',\n",
    "                            max_features= 5,\n",
    "                            min_samples_leaf=2,\n",
    "                            min_samples_split= 2,\n",
    "                            n_estimators=50,\n",
    "                            n_jobs=-1,\n",
    "                            oob_score= True,\n",
    "                            warm_start= True)\n",
    "rfpredicted_target, rfactual_target,AccList,F1List,mccList,recallList,precisionList,specificityList=run_kfold(randomforest,Scaled_X)\n",
    "printPerformance(rfactual_target,rfpredicted_target)\n",
    "print(\"std dev Accuracy: {0}\".format(np.std(AccList)))\n",
    "print(\"std dev F1-Score: {0}\".format(np.std(F1List)))\n",
    "print(\"std dev mcc: {0}\".format(np.std(mccList)))\n",
    "print(\"std dev recall score: {0}\".format(np.std(recallList)))\n",
    "print(\"std dev precision score: {0}\".format(precisionList.std()))\n",
    "print(\"std dev specificity score: {0}\".format(specificityList.std()))"
   ]
  },
  {
   "cell_type": "code",
   "execution_count": 37,
   "id": "4822f3b9",
   "metadata": {},
   "outputs": [
    {
     "name": "stdout",
     "output_type": "stream",
     "text": [
      "Mean Accuracy: 0.9902912621359223\n",
      "Mean Precision: 1.0\n",
      "Mean Recall: 0.9851190476190477\n",
      "Mean MCC Score: 0.9789532717558962\n",
      "Mean F1-Score: 0.9925037481259371\n",
      "specificity: 1.0\n",
      "std dev Accuracy: 0.013069895088082404\n",
      "std dev F1-Score: 0.010328919142142123\n",
      "std dev mcc: 0.027193963577189003\n",
      "std dev recall score: 0.020131754528428934\n",
      "std dev precision score: 0.0\n",
      "std dev specificity score: 0.0\n"
     ]
    }
   ],
   "source": [
    "\n",
    "\n",
    "sc = StandardScaler()\n",
    "svc = SVC(C= 100, gamma= 0.0001, kernel= 'rbf',random_state=0)\n",
    "#X_train = sc.fit_transform(X)\n",
    "kf = StratifiedKFold(n_splits=10,shuffle=True,random_state=42)\n",
    "    #####,\n",
    "svcAccList=np.array([])\n",
    "svcF1List=np.array([])\n",
    "svcmccList=np.array([])\n",
    "svcrecallList=np.array([])\n",
    "svcprecisionList=np.array([])\n",
    "svcspecificityList=np.array([])\n",
    "svcpredicted_targets = np.array([])\n",
    "svcactual_targets = np.array([])\n",
    "    #######\n",
    "   \n",
    "fold = 0\n",
    "for train_index, test_index in kf.split(X,y):\n",
    "    fold += 1\n",
    "    Xtrain, Xtest = X.iloc[train_index], X.iloc[test_index]\n",
    "    ytrain, ytest = y[train_index], y[test_index]\n",
    "    Xtrain=sc.fit_transform(Xtrain)\n",
    "    Xtest=sc.transform(Xtest)\n",
    "    svc.fit(Xtrain, ytrain)\n",
    "    svcpredictions = svc.predict(Xtest)\n",
    "    svcpredicted_targets = np.append(svcpredicted_targets, svcpredictions)\n",
    "    svcactual_targets = np.append(svcactual_targets, ytest)\n",
    "    svcAccList=np.append(svcAccList,accuracy_score(ytest,svcpredictions))\n",
    "    svcF1List=np.append(svcF1List,f1_score(ytest,svcpredictions))\n",
    "    svcmccList=np.append(svcmccList,matthews_corrcoef(ytest,svcpredictions))\n",
    "    svcrecallList=np.append(svcrecallList,recall_score(ytest,svcpredictions))\n",
    "    svcprecisionList=np.append(svcprecisionList,precision_score(ytest,svcpredictions))\n",
    "    tn, fp, fn, tp = confusion_matrix(ytest,svcpredictions).ravel()\n",
    "    svcspecificity = tn / (tn+fp)\n",
    "    svcspecificityList=np.append(svcspecificityList,svcspecificity)\n",
    "\n",
    "printPerformance(svcactual_targets,svcpredicted_targets)\n",
    "print(\"std dev Accuracy: {0}\".format(np.std(svcAccList)))\n",
    "print(\"std dev F1-Score: {0}\".format(np.std(svcF1List)))\n",
    "print(\"std dev mcc: {0}\".format(np.std(svcmccList)))\n",
    "print(\"std dev recall score: {0}\".format(np.std(svcrecallList)))\n",
    "print(\"std dev precision score: {0}\".format(svcprecisionList.std()))\n",
    "print(\"std dev specificity score: {0}\".format(svcspecificityList.std()))\n"
   ]
  },
  {
   "cell_type": "code",
   "execution_count": 90,
   "id": "479f0b05",
   "metadata": {},
   "outputs": [],
   "source": [
    "pca=PCA(n_components=9)\n",
    "x_pca=pca.fit_transform(scaler.fit_transform(X))\n"
   ]
  },
  {
   "cell_type": "code",
   "execution_count": 91,
   "id": "8c515c7e",
   "metadata": {},
   "outputs": [
    {
     "data": {
      "text/plain": [
       "(515, 9)"
      ]
     },
     "execution_count": 91,
     "metadata": {},
     "output_type": "execute_result"
    }
   ],
   "source": [
    "x_pca.shape"
   ]
  },
  {
   "cell_type": "code",
   "execution_count": 92,
   "id": "542de90e",
   "metadata": {},
   "outputs": [],
   "source": [
    "expl_var_pca = np.var(x_pca, axis=0)\n"
   ]
  },
  {
   "cell_type": "code",
   "execution_count": 93,
   "id": "1bd81db6",
   "metadata": {},
   "outputs": [
    {
     "data": {
      "text/plain": [
       "array([5.29254011, 1.50836669, 1.33063941, 1.03507682, 0.96572683,\n",
       "       0.82900994, 0.62402493, 0.57458131, 0.55293244])"
      ]
     },
     "execution_count": 93,
     "metadata": {},
     "output_type": "execute_result"
    }
   ],
   "source": [
    "expl_var_pca"
   ]
  },
  {
   "cell_type": "code",
   "execution_count": 94,
   "id": "265dcfa8",
   "metadata": {},
   "outputs": [],
   "source": [
    "eigenvalues=pca.components_"
   ]
  },
  {
   "cell_type": "code",
   "execution_count": 95,
   "id": "193e55b1",
   "metadata": {},
   "outputs": [
    {
     "data": {
      "text/plain": [
       "array([0.40757475, 0.37778508, 0.34788517, 0.34081562, 0.32221122,\n",
       "       0.31456903, 0.30600138, 0.29419586, 0.21380332, 0.09215609])"
      ]
     },
     "execution_count": 95,
     "metadata": {},
     "output_type": "execute_result"
    }
   ],
   "source": [
    "N_elements=10\n",
    "PC1=abs(eigenvalues[1,:])\n",
    "PC1.sort(axis=0)\n",
    "PC1=PC1[::-1]\n",
    "PC1=PC1[0:N_elements]\n",
    "PC1"
   ]
  },
  {
   "cell_type": "code",
   "execution_count": 96,
   "id": "7c4e0d36",
   "metadata": {},
   "outputs": [
    {
     "name": "stdout",
     "output_type": "stream",
     "text": [
      "Mean Accuracy: 0.8621359223300971\n",
      "Mean Precision: 0.8459530026109661\n",
      "Mean Recall: 0.9642857142857143\n",
      "Mean MCC Score: 0.6922491137009318\n",
      "Mean F1-Score: 0.9012517385257302\n",
      "specificity: 0.6703910614525139\n",
      "std dev Accuracy: 0.04219571583179374\n",
      "std dev F1-Score: 0.028716994469527888\n",
      "std dev mcc: 0.09723170784348953\n",
      "std dev recall score: 0.02946155241530528\n",
      "std dev precision score: 0.04046369648304076\n",
      "std dev specificity score: 0.10311273182780145\n"
     ]
    }
   ],
   "source": [
    "logreg = LogisticRegression(C= 0.01, penalty= 'l2', solver= 'newton-cg',random_state=0)\n",
    "lrpredicted_target, lractual_target,AccList,F1List,mccList,recallList,precisionList,specificityList=run_kfold(logreg,x_pca)\n",
    "printPerformance(lractual_target,lrpredicted_target)\n",
    "print(\"std dev Accuracy: {0}\".format(np.std(AccList)))\n",
    "print(\"std dev F1-Score: {0}\".format(np.std(F1List)))\n",
    "print(\"std dev mcc: {0}\".format(np.std(mccList)))\n",
    "print(\"std dev recall score: {0}\".format(np.std(recallList)))\n",
    "print(\"std dev precision score: {0}\".format(precisionList.std()))\n",
    "print(\"std dev specificity score: {0}\".format(specificityList.std()))"
   ]
  },
  {
   "cell_type": "code",
   "execution_count": 97,
   "id": "e71950a7",
   "metadata": {},
   "outputs": [
    {
     "name": "stdout",
     "output_type": "stream",
     "text": [
      "Mean Accuracy: 0.9902912621359223\n",
      "Mean Precision: 0.9910979228486647\n",
      "Mean Recall: 0.9940476190476191\n",
      "Mean MCC Score: 0.9785740587522237\n",
      "Mean F1-Score: 0.9925705794947994\n",
      "specificity: 0.9832402234636871\n",
      "std dev Accuracy: 0.023172840617928958\n",
      "std dev F1-Score: 0.017250997321486074\n",
      "std dev mcc: 0.051526547401248075\n",
      "std dev recall score: 0.011944621694992741\n",
      "std dev precision score: 0.025000000000000012\n",
      "std dev specificity score: 0.04999999999999999\n"
     ]
    }
   ],
   "source": [
    "\n",
    "randomforest = RandomForestClassifier(random_state=0, criterion= 'gini',\n",
    "                            max_features= 5,\n",
    "                            min_samples_leaf=2,\n",
    "                            min_samples_split= 2,\n",
    "                            n_estimators=50,\n",
    "                            n_jobs=-1,\n",
    "                            oob_score= True,\n",
    "                            warm_start= True)\n",
    "rfpredicted_target, rfactual_target,AccList,F1List,mccList,recallList,precisionList,specificityList=run_kfold(randomforest,x_pca)\n",
    "printPerformance(rfactual_target,rfpredicted_target)\n",
    "print(\"std dev Accuracy: {0}\".format(np.std(AccList)))\n",
    "print(\"std dev F1-Score: {0}\".format(np.std(F1List)))\n",
    "print(\"std dev mcc: {0}\".format(np.std(mccList)))\n",
    "print(\"std dev recall score: {0}\".format(np.std(recallList)))\n",
    "print(\"std dev precision score: {0}\".format(precisionList.std()))\n",
    "print(\"std dev specificity score: {0}\".format(specificityList.std()))"
   ]
  },
  {
   "cell_type": "code",
   "execution_count": 98,
   "id": "96b8c79d",
   "metadata": {},
   "outputs": [
    {
     "name": "stdout",
     "output_type": "stream",
     "text": [
      "Mean Accuracy: 0.9805825242718447\n",
      "Mean Precision: 0.9909638554216867\n",
      "Mean Recall: 0.9791666666666666\n",
      "Mean MCC Score: 0.9575474212888748\n",
      "Mean F1-Score: 0.9850299401197604\n",
      "specificity: 0.9832402234636871\n",
      "std dev Accuracy: 0.015092427267772322\n",
      "std dev F1-Score: 0.01175151970241389\n",
      "std dev mcc: 0.03214059149668204\n",
      "std dev recall score: 0.02330689358813711\n",
      "std dev precision score: 0.013478163808693652\n",
      "std dev specificity score: 0.025971655537654292\n"
     ]
    }
   ],
   "source": [
    "\n",
    "\n",
    "sc = StandardScaler()\n",
    "svc = SVC(C= 100, gamma= 0.0001, kernel= 'rbf',random_state=0)\n",
    "#X_train = sc.fit_transform(X)\n",
    "kf = StratifiedKFold(n_splits=10,shuffle=True,random_state=42)\n",
    "    #####,\n",
    "svcAccList=np.array([])\n",
    "svcF1List=np.array([])\n",
    "svcmccList=np.array([])\n",
    "svcrecallList=np.array([])\n",
    "svcprecisionList=np.array([])\n",
    "svcspecificityList=np.array([])\n",
    "svcpredicted_targets = np.array([])\n",
    "svcactual_targets = np.array([])\n",
    "    #######\n",
    "   \n",
    "fold = 0\n",
    "for train_index, test_index in kf.split(x_pca,y):\n",
    "    fold += 1\n",
    "    Xtrain, Xtest = x_pca[train_index], x_pca[test_index]\n",
    "    ytrain, ytest = y[train_index], y[test_index]\n",
    "    Xtrain=sc.fit_transform(Xtrain)\n",
    "    Xtest=sc.transform(Xtest)\n",
    "    svc.fit(Xtrain, ytrain)\n",
    "    svcpredictions = svc.predict(Xtest)\n",
    "    svcpredicted_targets = np.append(svcpredicted_targets, svcpredictions)\n",
    "    svcactual_targets = np.append(svcactual_targets, ytest)\n",
    "    svcAccList=np.append(svcAccList,accuracy_score(ytest,svcpredictions))\n",
    "    svcF1List=np.append(svcF1List,f1_score(ytest,svcpredictions))\n",
    "    svcmccList=np.append(svcmccList,matthews_corrcoef(ytest,svcpredictions))\n",
    "    svcrecallList=np.append(svcrecallList,recall_score(ytest,svcpredictions))\n",
    "    svcprecisionList=np.append(svcprecisionList,precision_score(ytest,svcpredictions))\n",
    "    tn, fp, fn, tp = confusion_matrix(ytest,svcpredictions).ravel()\n",
    "    svcspecificity = tn / (tn+fp)\n",
    "    svcspecificityList=np.append(svcspecificityList,svcspecificity)\n",
    "\n",
    "printPerformance(svcactual_targets,svcpredicted_targets)\n",
    "print(\"std dev Accuracy: {0}\".format(np.std(svcAccList)))\n",
    "print(\"std dev F1-Score: {0}\".format(np.std(svcF1List)))\n",
    "print(\"std dev mcc: {0}\".format(np.std(svcmccList)))\n",
    "print(\"std dev recall score: {0}\".format(np.std(svcrecallList)))\n",
    "print(\"std dev precision score: {0}\".format(svcprecisionList.std()))\n",
    "print(\"std dev specificity score: {0}\".format(svcspecificityList.std()))\n"
   ]
  },
  {
   "cell_type": "code",
   "execution_count": 101,
   "id": "fbff0423",
   "metadata": {},
   "outputs": [
    {
     "data": {
      "text/html": [
       "<div>\n",
       "<style scoped>\n",
       "    .dataframe tbody tr th:only-of-type {\n",
       "        vertical-align: middle;\n",
       "    }\n",
       "\n",
       "    .dataframe tbody tr th {\n",
       "        vertical-align: top;\n",
       "    }\n",
       "\n",
       "    .dataframe thead th {\n",
       "        text-align: right;\n",
       "    }\n",
       "</style>\n",
       "<table border=\"1\" class=\"dataframe\">\n",
       "  <thead>\n",
       "    <tr style=\"text-align: right;\">\n",
       "      <th></th>\n",
       "      <th>0</th>\n",
       "      <th>1</th>\n",
       "      <th>2</th>\n",
       "      <th>3</th>\n",
       "      <th>4</th>\n",
       "      <th>5</th>\n",
       "      <th>6</th>\n",
       "      <th>7</th>\n",
       "      <th>8</th>\n",
       "    </tr>\n",
       "  </thead>\n",
       "  <tbody>\n",
       "    <tr>\n",
       "      <th>Current Stream</th>\n",
       "      <td>0.089823</td>\n",
       "      <td>-0.072922</td>\n",
       "      <td>0.286858</td>\n",
       "      <td>-0.039826</td>\n",
       "      <td>0.878320</td>\n",
       "      <td>-0.293789</td>\n",
       "      <td>0.111886</td>\n",
       "      <td>0.026669</td>\n",
       "      <td>0.101772</td>\n",
       "    </tr>\n",
       "    <tr>\n",
       "      <th>HigherStudyMarks</th>\n",
       "      <td>-0.220860</td>\n",
       "      <td>0.294196</td>\n",
       "      <td>-0.361593</td>\n",
       "      <td>0.305016</td>\n",
       "      <td>0.118745</td>\n",
       "      <td>-0.343989</td>\n",
       "      <td>-0.101970</td>\n",
       "      <td>0.024907</td>\n",
       "      <td>-0.213603</td>\n",
       "    </tr>\n",
       "    <tr>\n",
       "      <th>SecClassMarks</th>\n",
       "      <td>-0.240198</td>\n",
       "      <td>0.314569</td>\n",
       "      <td>-0.208260</td>\n",
       "      <td>0.399241</td>\n",
       "      <td>-0.042348</td>\n",
       "      <td>-0.356157</td>\n",
       "      <td>0.040690</td>\n",
       "      <td>-0.059780</td>\n",
       "      <td>0.132392</td>\n",
       "    </tr>\n",
       "    <tr>\n",
       "      <th>B.Tech CGPA</th>\n",
       "      <td>-0.332776</td>\n",
       "      <td>0.347885</td>\n",
       "      <td>-0.057924</td>\n",
       "      <td>-0.283903</td>\n",
       "      <td>0.108940</td>\n",
       "      <td>-0.042685</td>\n",
       "      <td>-0.014933</td>\n",
       "      <td>0.012531</td>\n",
       "      <td>0.047927</td>\n",
       "    </tr>\n",
       "    <tr>\n",
       "      <th>EnglishScore</th>\n",
       "      <td>-0.273719</td>\n",
       "      <td>-0.407575</td>\n",
       "      <td>-0.145187</td>\n",
       "      <td>0.106220</td>\n",
       "      <td>-0.070953</td>\n",
       "      <td>-0.008025</td>\n",
       "      <td>0.065759</td>\n",
       "      <td>-0.155400</td>\n",
       "      <td>0.262230</td>\n",
       "    </tr>\n",
       "  </tbody>\n",
       "</table>\n",
       "</div>"
      ],
      "text/plain": [
       "                         0         1         2         3         4         5  \\\n",
       "Current Stream    0.089823 -0.072922  0.286858 -0.039826  0.878320 -0.293789   \n",
       "HigherStudyMarks -0.220860  0.294196 -0.361593  0.305016  0.118745 -0.343989   \n",
       "SecClassMarks    -0.240198  0.314569 -0.208260  0.399241 -0.042348 -0.356157   \n",
       "B.Tech CGPA      -0.332776  0.347885 -0.057924 -0.283903  0.108940 -0.042685   \n",
       "EnglishScore     -0.273719 -0.407575 -0.145187  0.106220 -0.070953 -0.008025   \n",
       "\n",
       "                         6         7         8  \n",
       "Current Stream    0.111886  0.026669  0.101772  \n",
       "HigherStudyMarks -0.101970  0.024907 -0.213603  \n",
       "SecClassMarks     0.040690 -0.059780  0.132392  \n",
       "B.Tech CGPA      -0.014933  0.012531  0.047927  \n",
       "EnglishScore      0.065759 -0.155400  0.262230  "
      ]
     },
     "execution_count": 101,
     "metadata": {},
     "output_type": "execute_result"
    }
   ],
   "source": [
    "map= pd.DataFrame(pca.components_.T,index=final_df.columns.values)\n",
    "map.head()"
   ]
  },
  {
   "cell_type": "code",
   "execution_count": 102,
   "id": "129d6788",
   "metadata": {},
   "outputs": [
    {
     "data": {
      "image/png": "[encoded data removed]",
      "text/plain": [
       "<Figure size 800x500 with 1 Axes>"
      ]
     },
     "metadata": {
      "needs_background": "light"
     },
     "output_type": "display_data"
    }
   ],
   "source": [
    "variance_exp_cumsum = pca.explained_variance_ratio_.cumsum().round(2)\n",
    "fig, axes = plt.subplots(1,1,figsize=(8,5), dpi=100)\n",
    "plt.plot(variance_exp_cumsum, color='firebrick')\n",
    "plt.title('Screeplot of Variance Explained %', fontsize=22)\n",
    "plt.xlabel('# of PCs', fontsize=16)\n",
    "plt.show()"
   ]
  },
  {
   "cell_type": "code",
   "execution_count": 103,
   "id": "d1f52c3a",
   "metadata": {},
   "outputs": [],
   "source": [
    "# original_num_df the original numeric dataframe\n",
    "# pca is the model\n",
    "def create_importance_dataframe(pca, original_num_df):\n",
    "\n",
    "    # Change pcs components ndarray to a dataframe\n",
    "    importance_df  = pd.DataFrame(pca.components_)\n",
    "\n",
    "    # Assign columns\n",
    "    importance_df.columns  = original_num_df.columns\n",
    "\n",
    "    # Change to absolute values\n",
    "    importance_df =importance_df.apply(np.abs)\n",
    "\n",
    "    # Transpose\n",
    "    importance_df=importance_df.transpose()\n",
    "\n",
    "    # Change column names again\n",
    "\n",
    "    ## First get number of pcs\n",
    "    num_pcs = importance_df.shape[1]\n",
    "\n",
    "    ## Generate the new column names\n",
    "    new_columns = [f'PC{i}' for i in range(1, num_pcs + 1)]\n",
    "\n",
    "    ## Now rename\n",
    "    importance_df.columns  =new_columns\n",
    "\n",
    "    # Return importance df\n",
    "    return importance_df\n",
    "\n"
   ]
  },
  {
   "cell_type": "code",
   "execution_count": 104,
   "id": "ce632000",
   "metadata": {},
   "outputs": [
    {
     "data": {
      "text/html": [
       "<div>\n",
       "<style scoped>\n",
       "    .dataframe tbody tr th:only-of-type {\n",
       "        vertical-align: middle;\n",
       "    }\n",
       "\n",
       "    .dataframe tbody tr th {\n",
       "        vertical-align: top;\n",
       "    }\n",
       "\n",
       "    .dataframe thead th {\n",
       "        text-align: right;\n",
       "    }\n",
       "</style>\n",
       "<table border=\"1\" class=\"dataframe\">\n",
       "  <thead>\n",
       "    <tr style=\"text-align: right;\">\n",
       "      <th></th>\n",
       "      <th>PC1</th>\n",
       "      <th>PC2</th>\n",
       "      <th>PC3</th>\n",
       "      <th>PC4</th>\n",
       "      <th>PC5</th>\n",
       "      <th>PC6</th>\n",
       "      <th>PC7</th>\n",
       "      <th>PC8</th>\n",
       "      <th>PC9</th>\n",
       "    </tr>\n",
       "  </thead>\n",
       "  <tbody>\n",
       "    <tr>\n",
       "      <th>Current Stream</th>\n",
       "      <td>0.089823</td>\n",
       "      <td>0.072922</td>\n",
       "      <td>0.286858</td>\n",
       "      <td>0.039826</td>\n",
       "      <td>0.878320</td>\n",
       "      <td>0.293789</td>\n",
       "      <td>0.111886</td>\n",
       "      <td>0.026669</td>\n",
       "      <td>0.101772</td>\n",
       "    </tr>\n",
       "    <tr>\n",
       "      <th>HigherStudyMarks</th>\n",
       "      <td>0.220860</td>\n",
       "      <td>0.294196</td>\n",
       "      <td>0.361593</td>\n",
       "      <td>0.305016</td>\n",
       "      <td>0.118745</td>\n",
       "      <td>0.343989</td>\n",
       "      <td>0.101970</td>\n",
       "      <td>0.024907</td>\n",
       "      <td>0.213603</td>\n",
       "    </tr>\n",
       "    <tr>\n",
       "      <th>SecClassMarks</th>\n",
       "      <td>0.240198</td>\n",
       "      <td>0.314569</td>\n",
       "      <td>0.208260</td>\n",
       "      <td>0.399241</td>\n",
       "      <td>0.042348</td>\n",
       "      <td>0.356157</td>\n",
       "      <td>0.040690</td>\n",
       "      <td>0.059780</td>\n",
       "      <td>0.132392</td>\n",
       "    </tr>\n",
       "    <tr>\n",
       "      <th>B.Tech CGPA</th>\n",
       "      <td>0.332776</td>\n",
       "      <td>0.347885</td>\n",
       "      <td>0.057924</td>\n",
       "      <td>0.283903</td>\n",
       "      <td>0.108940</td>\n",
       "      <td>0.042685</td>\n",
       "      <td>0.014933</td>\n",
       "      <td>0.012531</td>\n",
       "      <td>0.047927</td>\n",
       "    </tr>\n",
       "    <tr>\n",
       "      <th>EnglishScore</th>\n",
       "      <td>0.273719</td>\n",
       "      <td>0.407575</td>\n",
       "      <td>0.145187</td>\n",
       "      <td>0.106220</td>\n",
       "      <td>0.070953</td>\n",
       "      <td>0.008025</td>\n",
       "      <td>0.065759</td>\n",
       "      <td>0.155400</td>\n",
       "      <td>0.262230</td>\n",
       "    </tr>\n",
       "    <tr>\n",
       "      <th>QuntAbility</th>\n",
       "      <td>0.276660</td>\n",
       "      <td>0.322211</td>\n",
       "      <td>0.027096</td>\n",
       "      <td>0.161517</td>\n",
       "      <td>0.042210</td>\n",
       "      <td>0.180558</td>\n",
       "      <td>0.029345</td>\n",
       "      <td>0.436991</td>\n",
       "      <td>0.492976</td>\n",
       "    </tr>\n",
       "    <tr>\n",
       "      <th>LogicalAbility</th>\n",
       "      <td>0.321493</td>\n",
       "      <td>0.377785</td>\n",
       "      <td>0.061896</td>\n",
       "      <td>0.058233</td>\n",
       "      <td>0.003709</td>\n",
       "      <td>0.126164</td>\n",
       "      <td>0.053354</td>\n",
       "      <td>0.198665</td>\n",
       "      <td>0.020645</td>\n",
       "    </tr>\n",
       "    <tr>\n",
       "      <th>ProgrammingScore</th>\n",
       "      <td>0.301436</td>\n",
       "      <td>0.026243</td>\n",
       "      <td>0.221050</td>\n",
       "      <td>0.020359</td>\n",
       "      <td>0.051343</td>\n",
       "      <td>0.150779</td>\n",
       "      <td>0.265004</td>\n",
       "      <td>0.543899</td>\n",
       "      <td>0.375494</td>\n",
       "    </tr>\n",
       "    <tr>\n",
       "      <th>DomaninKnowledge</th>\n",
       "      <td>0.311428</td>\n",
       "      <td>0.074056</td>\n",
       "      <td>0.094472</td>\n",
       "      <td>0.032170</td>\n",
       "      <td>0.006357</td>\n",
       "      <td>0.015209</td>\n",
       "      <td>0.114289</td>\n",
       "      <td>0.126796</td>\n",
       "      <td>0.670407</td>\n",
       "    </tr>\n",
       "    <tr>\n",
       "      <th>AutomataScore</th>\n",
       "      <td>0.290723</td>\n",
       "      <td>0.071681</td>\n",
       "      <td>0.321579</td>\n",
       "      <td>0.213057</td>\n",
       "      <td>0.019490</td>\n",
       "      <td>0.164232</td>\n",
       "      <td>0.217876</td>\n",
       "      <td>0.020962</td>\n",
       "      <td>0.047181</td>\n",
       "    </tr>\n",
       "  </tbody>\n",
       "</table>\n",
       "</div>"
      ],
      "text/plain": [
       "                       PC1       PC2       PC3       PC4       PC5       PC6  \\\n",
       "Current Stream    0.089823  0.072922  0.286858  0.039826  0.878320  0.293789   \n",
       "HigherStudyMarks  0.220860  0.294196  0.361593  0.305016  0.118745  0.343989   \n",
       "SecClassMarks     0.240198  0.314569  0.208260  0.399241  0.042348  0.356157   \n",
       "B.Tech CGPA       0.332776  0.347885  0.057924  0.283903  0.108940  0.042685   \n",
       "EnglishScore      0.273719  0.407575  0.145187  0.106220  0.070953  0.008025   \n",
       "QuntAbility       0.276660  0.322211  0.027096  0.161517  0.042210  0.180558   \n",
       "LogicalAbility    0.321493  0.377785  0.061896  0.058233  0.003709  0.126164   \n",
       "ProgrammingScore  0.301436  0.026243  0.221050  0.020359  0.051343  0.150779   \n",
       "DomaninKnowledge  0.311428  0.074056  0.094472  0.032170  0.006357  0.015209   \n",
       "AutomataScore     0.290723  0.071681  0.321579  0.213057  0.019490  0.164232   \n",
       "\n",
       "                       PC7       PC8       PC9  \n",
       "Current Stream    0.111886  0.026669  0.101772  \n",
       "HigherStudyMarks  0.101970  0.024907  0.213603  \n",
       "SecClassMarks     0.040690  0.059780  0.132392  \n",
       "B.Tech CGPA       0.014933  0.012531  0.047927  \n",
       "EnglishScore      0.065759  0.155400  0.262230  \n",
       "QuntAbility       0.029345  0.436991  0.492976  \n",
       "LogicalAbility    0.053354  0.198665  0.020645  \n",
       "ProgrammingScore  0.265004  0.543899  0.375494  \n",
       "DomaninKnowledge  0.114289  0.126796  0.670407  \n",
       "AutomataScore     0.217876  0.020962  0.047181  "
      ]
     },
     "metadata": {},
     "output_type": "display_data"
    },
    {
     "name": "stdout",
     "output_type": "stream",
     "text": [
      "\n",
      "PC1 top 10 feautres are \n",
      "\n"
     ]
    },
    {
     "data": {
      "text/plain": [
       "B.Tech CGPA          0.332776\n",
       "LogicalAbility       0.321493\n",
       "DomaninKnowledge     0.311428\n",
       "ProgrammingScore     0.301436\n",
       "AutomataScore        0.290723\n",
       "AutomataFixScore     0.281176\n",
       "QuntAbility          0.276660\n",
       "EnglishScore         0.273719\n",
       "OfferedSalary        0.253447\n",
       "EssayWritingScore    0.252512\n",
       "Name: PC1, dtype: float64"
      ]
     },
     "metadata": {},
     "output_type": "display_data"
    },
    {
     "name": "stdout",
     "output_type": "stream",
     "text": [
      "\n",
      "PC2 top 10 feautres are \n",
      "\n"
     ]
    },
    {
     "data": {
      "text/plain": [
       "EnglishScore         0.407575\n",
       "LogicalAbility       0.377785\n",
       "B.Tech CGPA          0.347885\n",
       "EssayWritingScore    0.340816\n",
       "QuntAbility          0.322211\n",
       "SecClassMarks        0.314569\n",
       "Backlog              0.306001\n",
       "HigherStudyMarks     0.294196\n",
       "OfferedSalary        0.213803\n",
       "AutomataFixScore     0.092156\n",
       "Name: PC2, dtype: float64"
      ]
     },
     "metadata": {},
     "output_type": "display_data"
    }
   ],
   "source": [
    "# Call function to create importance df\n",
    "importance_df  =create_importance_dataframe(pca, final_df)\n",
    "\n",
    "# Show first few rows\n",
    "display(importance_df.head(10))\n",
    "\n",
    "# Sort depending on PC of interest\n",
    "\n",
    "## PC1 top 10 important features\n",
    "pc1_top_10_features = importance_df['PC1'].sort_values(ascending = False)[:10]\n",
    "print(), print(f'PC1 top 10 feautres are \\n')\n",
    "display(pc1_top_10_features )\n",
    "\n",
    "## PC2 top 10 important features\n",
    "pc2_top_10_features = importance_df['PC2'].sort_values(ascending = False)[:10]\n",
    "print(), print(f'PC2 top 10 feautres are \\n')\n",
    "\n",
    "display(pc2_top_10_features )"
   ]
  },
  {
   "cell_type": "code",
   "execution_count": 105,
   "id": "c716e894",
   "metadata": {},
   "outputs": [
    {
     "data": {
      "text/plain": [
       "array([0.35283601, 0.10055778, 0.08870929, 0.06900512, 0.06438179,\n",
       "       0.05526733, 0.04160166, 0.03830542, 0.03686216])"
      ]
     },
     "execution_count": 105,
     "metadata": {},
     "output_type": "execute_result"
    }
   ],
   "source": [
    "pca.explained_variance_ratio_"
   ]
  },
  {
   "cell_type": "code",
   "execution_count": 108,
   "id": "293b28a0",
   "metadata": {},
   "outputs": [
    {
     "data": {
      "text/plain": [
       "Text(0.5, 1.0, 'Contributions of variables to PC1')"
      ]
     },
     "execution_count": 108,
     "metadata": {},
     "output_type": "execute_result"
    },
    {
     "data": {
      "image/png": "[encoded data removed]",
      "text/plain": [
       "<Figure size 1080x360 with 1 Axes>"
      ]
     },
     "metadata": {
      "needs_background": "light"
     },
     "output_type": "display_data"
    }
   ],
   "source": [
    "\n",
    "plt.figure(figsize=(15,5))\n",
    "\n",
    "ax=sns.barplot(x=pc1_top_10_features.index,y=pc1_top_10_features,ci='none')\n",
    "for container in ax.containers:\n",
    "    ax.bar_label(container)\n",
    "plt.title('Contributions of variables to PC1')"
   ]
  },
  {
   "cell_type": "code",
   "execution_count": 110,
   "id": "35092aa2",
   "metadata": {},
   "outputs": [
    {
     "data": {
      "text/plain": [
       "Text(0.5, 1.0, 'Contributions of variables to PC2')"
      ]
     },
     "execution_count": 110,
     "metadata": {},
     "output_type": "execute_result"
    },
    {
     "data": {
      "image/png": "[encoded data removed]",
      "text/plain": [
       "<Figure size 1080x360 with 1 Axes>"
      ]
     },
     "metadata": {
      "needs_background": "light"
     },
     "output_type": "display_data"
    }
   ],
   "source": [
    "plt.figure(figsize=(15,5))\n",
    "ax=sns.barplot(x=pc2_top_10_features.index,y=pc2_top_10_features,ci='none')\n",
    "for container in ax.containers:\n",
    "    ax.bar_label(container)\n",
    "plt.title('Contributions of variables to PC2')"
   ]
  },
  {
   "cell_type": "code",
   "execution_count": 112,
   "id": "96f10976",
   "metadata": {},
   "outputs": [
    {
     "data": {
      "image/png": "[encoded data removed]",
      "text/plain": [
       "<Figure size 432x288 with 1 Axes>"
      ]
     },
     "metadata": {
      "needs_background": "light"
     },
     "output_type": "display_data"
    }
   ],
   "source": [
    "classes = ['Not Placed','Placed']\n",
    "ax=plt.scatter(x_pca[:,0], x_pca[:,1], c = y)\n",
    "plt.xlabel('PC1')\n",
    "plt.ylabel('PC2')\n",
    "\n",
    "plt.legend(handles=ax.legend_elements()[0],labels=classes)\n",
    "plt.show()"
   ]
  },
  {
   "cell_type": "code",
   "execution_count": null,
   "id": "3acb6dc8",
   "metadata": {},
   "outputs": [],
   "source": []
  }
 ],
 "metadata": {
  "kernelspec": {
   "display_name": "Python 3 (ipykernel)",
   "language": "python",
   "name": "python3"
  },
  "language_info": {
   "codemirror_mode": {
    "name": "ipython",
    "version": 3
   },
   "file_extension": ".py",
   "mimetype": "text/x-python",
   "name": "python",
   "nbconvert_exporter": "python",
   "pygments_lexer": "ipython3",
   "version": "3.9.7"
  }
 },
 "nbformat": 4,
 "nbformat_minor": 5
}
