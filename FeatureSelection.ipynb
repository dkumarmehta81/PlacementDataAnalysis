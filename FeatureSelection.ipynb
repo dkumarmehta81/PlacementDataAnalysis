{
 "cells": [
  {
   "cell_type": "code",
   "execution_count": 165,
   "id": "96a9d83d",
   "metadata": {},
   "outputs": [],
   "source": [
    "from sklearn.linear_model import LogisticRegression\n",
    "from scipy import interp\n",
    "from sklearn.ensemble import RandomForestClassifier\n",
    "from sklearn.metrics import roc_curve,auc,classification_report,accuracy_score\n",
    "from sklearn.model_selection import StratifiedKFold\n",
    "import matplotlib.patches as patches\n",
    "import itertools\n",
    "\n",
    "import warnings\n",
    "from sklearn.svm import SVC\n",
    "from sklearn.metrics import f1_score,matthews_corrcoef,recall_score,precision_score\n",
    "from feature_selector import FeatureSelector\n",
    "from sklearn.model_selection import train_test_split\n",
    "from sklearn.preprocessing import StandardScaler\n",
    "from sklearn.decomposition import PCA\n",
    "from sklearn.ensemble import RandomForestClassifier\n",
    "from sklearn.svm import SVC\n",
    "from sklearn.metrics import confusion_matrix\n",
    "from sklearn import svm\n",
    "from sklearn.ensemble import RandomForestClassifier\n",
    "from sklearn.model_selection import GridSearchCV\n",
    "from sklearn.preprocessing import LabelEncoder\n",
    "import pandas as pd\n",
    "import numpy as np\n",
    "import matplotlib.pyplot as plt\n",
    "import seaborn as sns\n",
    "from sklearn.model_selection import KFold\n",
    "from sklearn.metrics import f1_score\n",
    "from sklearn.metrics import roc_auc_score\n",
    "from sklearn.metrics import recall_score\n",
    "from sklearn.metrics import precision_score\n",
    "from sklearn.metrics import matthews_corrcoef\n",
    "from sklearn.metrics import average_precision_score\n",
    "from sklearn.model_selection import LeaveOneOut\n",
    "warnings.filterwarnings(\"ignore\")\n",
    "plt.rcParams['figure.constrained_layout.use'] = True"
   ]
  },
  {
   "cell_type": "code",
   "execution_count": 166,
   "id": "3f56d57a",
   "metadata": {},
   "outputs": [],
   "source": [
    "def perf_measure(y_actual, y_hat):\n",
    "    TP = 0\n",
    "    FP = 0\n",
    "    TN = 0\n",
    "    FN = 0\n",
    "\n",
    "    for i in range(len(y_hat)): \n",
    "        if y_actual[i]==y_hat[i]==1:\n",
    "           TP += 1\n",
    "        if y_hat[i]==1 and y_actual[i]!=y_hat[i]:\n",
    "           FP += 1\n",
    "        if y_actual[i]==y_hat[i]==0:\n",
    "           TN += 1\n",
    "        if y_hat[i]==0 and y_actual[i]!=y_hat[i]:\n",
    "           FN += 1\n",
    "\n",
    "    return(TP, FP, TN, FN)"
   ]
  },
  {
   "cell_type": "code",
   "execution_count": 167,
   "id": "f0f8aa6f",
   "metadata": {},
   "outputs": [],
   "source": [
    "\n",
    "def printPerformance(actual,predicted):\n",
    "    \n",
    "    print(\"Mean Accuracy: {0}\".format(accuracy_score(actual,predicted)))\n",
    "    print(\"Mean Precision: {0}\".format(precision_score(actual,predicted)))\n",
    "    print(\"Mean Recall: {0}\".format(recall_score(actual,predicted)))\n",
    "    print(\"Mean MCC Score: {0}\".format(matthews_corrcoef(actual,predicted)))\n",
    "    print(\"Mean F1-Score: {0}\".format(f1_score(actual,predicted)))\n",
    "    tn, fp, fn, tp = confusion_matrix(actual, predicted).ravel()\n",
    "    specificity = tn / (tn+fp)\n",
    "    print(\"specificity: {0}\".format(specificity))"
   ]
  },
  {
   "cell_type": "code",
   "execution_count": 168,
   "id": "8796e2f7",
   "metadata": {},
   "outputs": [],
   "source": [
    "class_names=['Rural','Urban']"
   ]
  },
  {
   "cell_type": "code",
   "execution_count": 169,
   "id": "bf6ca79a",
   "metadata": {},
   "outputs": [],
   "source": [
    "df=pd.read_csv('CleanedData.csv')"
   ]
  },
  {
   "cell_type": "code",
   "execution_count": 170,
   "id": "0403f21d",
   "metadata": {},
   "outputs": [
    {
     "data": {
      "text/html": [
       "<div>\n",
       "<style scoped>\n",
       "    .dataframe tbody tr th:only-of-type {\n",
       "        vertical-align: middle;\n",
       "    }\n",
       "\n",
       "    .dataframe tbody tr th {\n",
       "        vertical-align: top;\n",
       "    }\n",
       "\n",
       "    .dataframe thead th {\n",
       "        text-align: right;\n",
       "    }\n",
       "</style>\n",
       "<table border=\"1\" class=\"dataframe\">\n",
       "  <thead>\n",
       "    <tr style=\"text-align: right;\">\n",
       "      <th></th>\n",
       "      <th>Unnamed: 0</th>\n",
       "      <th>UID</th>\n",
       "      <th>Current Stream</th>\n",
       "      <th>HigherStudyMarks</th>\n",
       "      <th>SecClassMarks</th>\n",
       "      <th>B.Tech CGPA</th>\n",
       "      <th>EnglishScore</th>\n",
       "      <th>QuntAbility</th>\n",
       "      <th>LogicalAbility</th>\n",
       "      <th>ProgrammingScore</th>\n",
       "      <th>DomaninKnowledge</th>\n",
       "      <th>AutomataScore</th>\n",
       "      <th>AutomataFixScore</th>\n",
       "      <th>EssayWritingScore</th>\n",
       "      <th>Backlog</th>\n",
       "      <th>Gender</th>\n",
       "      <th>PlacementStatus</th>\n",
       "      <th>OfferedSalary</th>\n",
       "    </tr>\n",
       "  </thead>\n",
       "  <tbody>\n",
       "    <tr>\n",
       "      <th>0</th>\n",
       "      <td>0</td>\n",
       "      <td>17BCS3755</td>\n",
       "      <td>0</td>\n",
       "      <td>79.8</td>\n",
       "      <td>64.4</td>\n",
       "      <td>48.7</td>\n",
       "      <td>615.0</td>\n",
       "      <td>380.0</td>\n",
       "      <td>250.0</td>\n",
       "      <td>370.0</td>\n",
       "      <td>340.0</td>\n",
       "      <td>9.0</td>\n",
       "      <td>0.0</td>\n",
       "      <td>306.0</td>\n",
       "      <td>4.0</td>\n",
       "      <td>1</td>\n",
       "      <td>0</td>\n",
       "      <td>0.0</td>\n",
       "    </tr>\n",
       "    <tr>\n",
       "      <th>1</th>\n",
       "      <td>1</td>\n",
       "      <td>17BCS3756</td>\n",
       "      <td>0</td>\n",
       "      <td>93.1</td>\n",
       "      <td>88.6</td>\n",
       "      <td>78.0</td>\n",
       "      <td>615.0</td>\n",
       "      <td>640.0</td>\n",
       "      <td>660.0</td>\n",
       "      <td>625.0</td>\n",
       "      <td>580.0</td>\n",
       "      <td>52.0</td>\n",
       "      <td>0.0</td>\n",
       "      <td>648.0</td>\n",
       "      <td>0.0</td>\n",
       "      <td>1</td>\n",
       "      <td>1</td>\n",
       "      <td>4.5</td>\n",
       "    </tr>\n",
       "    <tr>\n",
       "      <th>2</th>\n",
       "      <td>2</td>\n",
       "      <td>17BCS3757</td>\n",
       "      <td>0</td>\n",
       "      <td>74.0</td>\n",
       "      <td>70.6</td>\n",
       "      <td>63.1</td>\n",
       "      <td>645.0</td>\n",
       "      <td>410.0</td>\n",
       "      <td>610.0</td>\n",
       "      <td>240.0</td>\n",
       "      <td>380.0</td>\n",
       "      <td>7.0</td>\n",
       "      <td>0.0</td>\n",
       "      <td>612.0</td>\n",
       "      <td>0.0</td>\n",
       "      <td>0</td>\n",
       "      <td>0</td>\n",
       "      <td>0.0</td>\n",
       "    </tr>\n",
       "    <tr>\n",
       "      <th>3</th>\n",
       "      <td>3</td>\n",
       "      <td>17BCS3758</td>\n",
       "      <td>0</td>\n",
       "      <td>95.0</td>\n",
       "      <td>80.4</td>\n",
       "      <td>81.3</td>\n",
       "      <td>805.0</td>\n",
       "      <td>710.0</td>\n",
       "      <td>680.0</td>\n",
       "      <td>670.0</td>\n",
       "      <td>700.0</td>\n",
       "      <td>79.0</td>\n",
       "      <td>0.0</td>\n",
       "      <td>495.0</td>\n",
       "      <td>0.0</td>\n",
       "      <td>1</td>\n",
       "      <td>1</td>\n",
       "      <td>6.5</td>\n",
       "    </tr>\n",
       "    <tr>\n",
       "      <th>4</th>\n",
       "      <td>4</td>\n",
       "      <td>17BCS3759</td>\n",
       "      <td>0</td>\n",
       "      <td>87.4</td>\n",
       "      <td>70.8</td>\n",
       "      <td>76.8</td>\n",
       "      <td>735.0</td>\n",
       "      <td>505.0</td>\n",
       "      <td>585.0</td>\n",
       "      <td>375.0</td>\n",
       "      <td>420.0</td>\n",
       "      <td>4.0</td>\n",
       "      <td>0.0</td>\n",
       "      <td>567.0</td>\n",
       "      <td>0.0</td>\n",
       "      <td>0</td>\n",
       "      <td>0</td>\n",
       "      <td>0.0</td>\n",
       "    </tr>\n",
       "  </tbody>\n",
       "</table>\n",
       "</div>"
      ],
      "text/plain": [
       "   Unnamed: 0        UID  Current Stream  HigherStudyMarks  SecClassMarks  \\\n",
       "0           0  17BCS3755               0              79.8           64.4   \n",
       "1           1  17BCS3756               0              93.1           88.6   \n",
       "2           2  17BCS3757               0              74.0           70.6   \n",
       "3           3  17BCS3758               0              95.0           80.4   \n",
       "4           4  17BCS3759               0              87.4           70.8   \n",
       "\n",
       "   B.Tech CGPA  EnglishScore  QuntAbility  LogicalAbility  ProgrammingScore  \\\n",
       "0         48.7         615.0        380.0           250.0             370.0   \n",
       "1         78.0         615.0        640.0           660.0             625.0   \n",
       "2         63.1         645.0        410.0           610.0             240.0   \n",
       "3         81.3         805.0        710.0           680.0             670.0   \n",
       "4         76.8         735.0        505.0           585.0             375.0   \n",
       "\n",
       "   DomaninKnowledge  AutomataScore  AutomataFixScore  EssayWritingScore  \\\n",
       "0             340.0            9.0               0.0              306.0   \n",
       "1             580.0           52.0               0.0              648.0   \n",
       "2             380.0            7.0               0.0              612.0   \n",
       "3             700.0           79.0               0.0              495.0   \n",
       "4             420.0            4.0               0.0              567.0   \n",
       "\n",
       "   Backlog  Gender  PlacementStatus  OfferedSalary  \n",
       "0      4.0       1                0            0.0  \n",
       "1      0.0       1                1            4.5  \n",
       "2      0.0       0                0            0.0  \n",
       "3      0.0       1                1            6.5  \n",
       "4      0.0       0                0            0.0  "
      ]
     },
     "execution_count": 170,
     "metadata": {},
     "output_type": "execute_result"
    }
   ],
   "source": [
    "df.head()"
   ]
  },
  {
   "cell_type": "code",
   "execution_count": 171,
   "id": "2f7e1ce3",
   "metadata": {},
   "outputs": [
    {
     "data": {
      "text/plain": [
       "Unnamed: 0           0\n",
       "UID                  0\n",
       "Current Stream       0\n",
       "HigherStudyMarks     0\n",
       "SecClassMarks        0\n",
       "B.Tech CGPA          0\n",
       "EnglishScore         0\n",
       "QuntAbility          0\n",
       "LogicalAbility       0\n",
       "ProgrammingScore     0\n",
       "DomaninKnowledge     0\n",
       "AutomataScore        0\n",
       "AutomataFixScore     0\n",
       "EssayWritingScore    0\n",
       "Backlog              0\n",
       "Gender               0\n",
       "PlacementStatus      0\n",
       "OfferedSalary        0\n",
       "dtype: int64"
      ]
     },
     "execution_count": 171,
     "metadata": {},
     "output_type": "execute_result"
    }
   ],
   "source": [
    "df.isnull().sum()"
   ]
  },
  {
   "cell_type": "code",
   "execution_count": 172,
   "id": "1cd7af70",
   "metadata": {},
   "outputs": [],
   "source": [
    "df.dropna(inplace=True)"
   ]
  },
  {
   "cell_type": "code",
   "execution_count": 173,
   "id": "45cb1127",
   "metadata": {},
   "outputs": [
    {
     "data": {
      "text/plain": [
       "(515, 18)"
      ]
     },
     "execution_count": 173,
     "metadata": {},
     "output_type": "execute_result"
    }
   ],
   "source": [
    "df.shape"
   ]
  },
  {
   "cell_type": "code",
   "execution_count": 174,
   "id": "0cff937f",
   "metadata": {},
   "outputs": [],
   "source": [
    "y=df['PlacementStatus']\n",
    "final_df=df.drop(['PlacementStatus'],axis=1)"
   ]
  },
  {
   "cell_type": "code",
   "execution_count": 175,
   "id": "6c1f79e6",
   "metadata": {},
   "outputs": [
    {
     "data": {
      "text/plain": [
       "1    336\n",
       "0    179\n",
       "Name: PlacementStatus, dtype: int64"
      ]
     },
     "execution_count": 175,
     "metadata": {},
     "output_type": "execute_result"
    }
   ],
   "source": [
    "final_df.drop(['Unnamed: 0','UID','OfferedSalary'],axis=1,inplace=True)\n",
    "y.value_counts()\n"
   ]
  },
  {
   "cell_type": "code",
   "execution_count": 176,
   "id": "0253a5b2",
   "metadata": {},
   "outputs": [],
   "source": [
    "X=final_df"
   ]
  },
  {
   "cell_type": "code",
   "execution_count": 177,
   "id": "8fa9f6a4",
   "metadata": {},
   "outputs": [],
   "source": [
    "scaler=StandardScaler()\n",
    "Scaled_X=scaler.fit_transform(X)\n",
    "#xtest_scaled=scaler.transform(xtest)"
   ]
  },
  {
   "cell_type": "code",
   "execution_count": 178,
   "id": "379a1143",
   "metadata": {},
   "outputs": [],
   "source": [
    "def run_kfold(clf,X):\n",
    "    #kf=LeaveOneOut()\n",
    "    kf = StratifiedKFold(n_splits=10,shuffle=True,random_state=42)\n",
    "    #####,\n",
    "    AccList=np.array([])\n",
    "    F1List=np.array([])\n",
    "    mccList=np.array([])\n",
    "    recallList=np.array([])\n",
    "    precisionList=np.array([])\n",
    "    specificityList=np.array([])\n",
    "    predicted_targets = np.array([])\n",
    "    actual_targets = np.array([])\n",
    "    #######\n",
    "   \n",
    "    fold = 0\n",
    "    for train_index, test_index in kf.split(X,y):\n",
    "        fold += 1\n",
    "        Xtrain, Xtest = X[train_index], X[test_index]\n",
    "        ytrain, ytest = y[train_index], y[test_index]\n",
    "        clf.fit(Xtrain, ytrain)\n",
    "        predictions = clf.predict(Xtest)\n",
    "        #####\n",
    "        predicted_targets = np.append(predicted_targets, predictions)\n",
    "        actual_targets = np.append(actual_targets, ytest)\n",
    "        AccList=np.append(AccList,accuracy_score(ytest,predictions))\n",
    "        F1List=np.append(F1List,f1_score(ytest,predictions))\n",
    "        mccList=np.append(mccList,matthews_corrcoef(ytest,predictions))\n",
    "        recallList=np.append(recallList,recall_score(ytest,predictions))\n",
    "        precisionList=np.append(precisionList,precision_score(ytest,predictions))\n",
    "        tn, fp, fn, tp = confusion_matrix(ytest,predictions).ravel()\n",
    "        specificity = tn / (tn+fp)\n",
    "        specificityList=np.append(specificityList,specificity)\n",
    "        #####\n",
    "      \n",
    "    return predicted_targets, actual_targets,AccList,F1List,mccList,recallList,precisionList,specificityList"
   ]
  },
  {
   "cell_type": "code",
   "execution_count": 179,
   "id": "05bebde1",
   "metadata": {},
   "outputs": [
    {
     "name": "stdout",
     "output_type": "stream",
     "text": [
      "Mean Accuracy: 0.7475728155339806\n",
      "Mean Precision: 0.748792270531401\n",
      "Mean Recall: 0.9226190476190477\n",
      "Mean MCC Score: 0.4097040642319716\n",
      "Mean F1-Score: 0.8266666666666668\n",
      "specificity: 0.41899441340782123\n",
      "std dev Accuracy: 0.03383437327748552\n",
      "std dev F1-Score: 0.02482794106003353\n",
      "std dev mcc: 0.08455401223735876\n",
      "std dev recall score: 0.04344405563976449\n",
      "std dev precision score: 0.027242240040578992\n",
      "std dev specificity score: 0.07923337234348622\n"
     ]
    }
   ],
   "source": [
    "logreg = LogisticRegression(C= 0.01, penalty= 'l2', solver= 'newton-cg',random_state=0)\n",
    "lrpredicted_target, lractual_target,AccList,F1List,mccList,recallList,precisionList,specificityList=run_kfold(logreg,Scaled_X)\n",
    "printPerformance(lractual_target,lrpredicted_target)\n",
    "print(\"std dev Accuracy: {0}\".format(np.std(AccList)))\n",
    "print(\"std dev F1-Score: {0}\".format(np.std(F1List)))\n",
    "print(\"std dev mcc: {0}\".format(np.std(mccList)))\n",
    "print(\"std dev recall score: {0}\".format(np.std(recallList)))\n",
    "print(\"std dev precision score: {0}\".format(precisionList.std()))\n",
    "print(\"std dev specificity score: {0}\".format(specificityList.std()))"
   ]
  },
  {
   "cell_type": "code",
   "execution_count": 180,
   "id": "cbd61a02",
   "metadata": {},
   "outputs": [
    {
     "name": "stdout",
     "output_type": "stream",
     "text": [
      "Mean Accuracy: 0.9689320388349515\n",
      "Mean Precision: 0.9705882352941176\n",
      "Mean Recall: 0.9821428571428571\n",
      "Mean MCC Score: 0.9312762370666195\n",
      "Mean F1-Score: 0.9763313609467456\n",
      "specificity: 0.9441340782122905\n",
      "std dev Accuracy: 0.050277909734461564\n",
      "std dev F1-Score: 0.03682713686092306\n",
      "std dev mcc: 0.11411720118343056\n",
      "std dev recall score: 0.02699652173950262\n",
      "std dev precision score: 0.0485328508430861\n",
      "std dev specificity score: 0.09938079899999067\n"
     ]
    }
   ],
   "source": [
    "\n",
    "\n",
    "randomforest = RandomForestClassifier(random_state=0, criterion= 'gini',\n",
    "                            max_features= 5,\n",
    "                            min_samples_leaf=2,\n",
    "                            min_samples_split= 2,\n",
    "                            n_estimators=50,\n",
    "                            n_jobs=-1,\n",
    "                            oob_score= True,\n",
    "                            warm_start= True)\n",
    "rfpredicted_target, rfactual_target,AccList,F1List,mccList,recallList,precisionList,specificityList=run_kfold(randomforest,Scaled_X)\n",
    "printPerformance(rfactual_target,rfpredicted_target)\n",
    "print(\"std dev Accuracy: {0}\".format(np.std(AccList)))\n",
    "print(\"std dev F1-Score: {0}\".format(np.std(F1List)))\n",
    "print(\"std dev mcc: {0}\".format(np.std(mccList)))\n",
    "print(\"std dev recall score: {0}\".format(np.std(recallList)))\n",
    "print(\"std dev precision score: {0}\".format(precisionList.std()))\n",
    "print(\"std dev specificity score: {0}\".format(specificityList.std()))"
   ]
  },
  {
   "cell_type": "code",
   "execution_count": 181,
   "id": "4822f3b9",
   "metadata": {},
   "outputs": [
    {
     "name": "stdout",
     "output_type": "stream",
     "text": [
      "Mean Accuracy: 0.7631067961165049\n",
      "Mean Precision: 0.7584541062801933\n",
      "Mean Recall: 0.9345238095238095\n",
      "Mean MCC Score: 0.45078215107699554\n",
      "Mean F1-Score: 0.8373333333333334\n",
      "specificity: 0.441340782122905\n",
      "std dev Accuracy: 0.029131125234920823\n",
      "std dev F1-Score: 0.023020385957148486\n",
      "std dev mcc: 0.0733978343485287\n",
      "std dev recall score: 0.04838480556279903\n",
      "std dev precision score: 0.021859369738981452\n",
      "std dev specificity score: 0.07095342474512469\n"
     ]
    }
   ],
   "source": [
    "\n",
    "\n",
    "sc = StandardScaler()\n",
    "svc = SVC(C= 100, gamma= 0.0001, kernel= 'rbf',random_state=0)\n",
    "#X_train = sc.fit_transform(X)\n",
    "kf = StratifiedKFold(n_splits=10,shuffle=True,random_state=42)\n",
    "    #####,\n",
    "svcAccList=np.array([])\n",
    "svcF1List=np.array([])\n",
    "svcmccList=np.array([])\n",
    "svcrecallList=np.array([])\n",
    "svcprecisionList=np.array([])\n",
    "svcspecificityList=np.array([])\n",
    "svcpredicted_targets = np.array([])\n",
    "svcactual_targets = np.array([])\n",
    "    #######\n",
    "   \n",
    "fold = 0\n",
    "for train_index, test_index in kf.split(X,y):\n",
    "    fold += 1\n",
    "    Xtrain, Xtest = X.iloc[train_index], X.iloc[test_index]\n",
    "    ytrain, ytest = y[train_index], y[test_index]\n",
    "    Xtrain=sc.fit_transform(Xtrain)\n",
    "    Xtest=sc.transform(Xtest)\n",
    "    svc.fit(Xtrain, ytrain)\n",
    "    svcpredictions = svc.predict(Xtest)\n",
    "    svcpredicted_targets = np.append(svcpredicted_targets, svcpredictions)\n",
    "    svcactual_targets = np.append(svcactual_targets, ytest)\n",
    "    svcAccList=np.append(svcAccList,accuracy_score(ytest,svcpredictions))\n",
    "    svcF1List=np.append(svcF1List,f1_score(ytest,svcpredictions))\n",
    "    svcmccList=np.append(svcmccList,matthews_corrcoef(ytest,svcpredictions))\n",
    "    svcrecallList=np.append(svcrecallList,recall_score(ytest,svcpredictions))\n",
    "    svcprecisionList=np.append(svcprecisionList,precision_score(ytest,svcpredictions))\n",
    "    tn, fp, fn, tp = confusion_matrix(ytest,svcpredictions).ravel()\n",
    "    svcspecificity = tn / (tn+fp)\n",
    "    svcspecificityList=np.append(svcspecificityList,svcspecificity)\n",
    "\n",
    "printPerformance(svcactual_targets,svcpredicted_targets)\n",
    "print(\"std dev Accuracy: {0}\".format(np.std(svcAccList)))\n",
    "print(\"std dev F1-Score: {0}\".format(np.std(svcF1List)))\n",
    "print(\"std dev mcc: {0}\".format(np.std(svcmccList)))\n",
    "print(\"std dev recall score: {0}\".format(np.std(svcrecallList)))\n",
    "print(\"std dev precision score: {0}\".format(svcprecisionList.std()))\n",
    "print(\"std dev specificity score: {0}\".format(svcspecificityList.std()))\n"
   ]
  },
  {
   "cell_type": "code",
   "execution_count": 182,
   "id": "479f0b05",
   "metadata": {},
   "outputs": [],
   "source": [
    "pca=PCA(n_components=9)\n",
    "x_pca=pca.fit_transform(scaler.fit_transform(X))\n"
   ]
  },
  {
   "cell_type": "code",
   "execution_count": 183,
   "id": "8c515c7e",
   "metadata": {},
   "outputs": [
    {
     "data": {
      "text/plain": [
       "(515, 9)"
      ]
     },
     "execution_count": 183,
     "metadata": {},
     "output_type": "execute_result"
    }
   ],
   "source": [
    "x_pca.shape"
   ]
  },
  {
   "cell_type": "code",
   "execution_count": 184,
   "id": "542de90e",
   "metadata": {},
   "outputs": [],
   "source": [
    "expl_var_pca = np.var(x_pca, axis=0)\n"
   ]
  },
  {
   "cell_type": "code",
   "execution_count": 185,
   "id": "1bd81db6",
   "metadata": {},
   "outputs": [
    {
     "data": {
      "text/plain": [
       "array([4.99882198, 1.47051912, 1.31313226, 1.0276621 , 0.96468406,\n",
       "       0.79358706, 0.57647982, 0.55377685, 0.53166136])"
      ]
     },
     "execution_count": 185,
     "metadata": {},
     "output_type": "execute_result"
    }
   ],
   "source": [
    "expl_var_pca"
   ]
  },
  {
   "cell_type": "code",
   "execution_count": 186,
   "id": "265dcfa8",
   "metadata": {},
   "outputs": [],
   "source": [
    "eigenvalues=pca.components_"
   ]
  },
  {
   "cell_type": "code",
   "execution_count": 187,
   "id": "193e55b1",
   "metadata": {},
   "outputs": [
    {
     "data": {
      "text/plain": [
       "array([0.38164568, 0.37665822, 0.36400414, 0.3596921 , 0.35864587,\n",
       "       0.34232312, 0.30358556, 0.29622903, 0.11844257, 0.06753684])"
      ]
     },
     "execution_count": 187,
     "metadata": {},
     "output_type": "execute_result"
    }
   ],
   "source": [
    "N_elements=10\n",
    "PC1=abs(eigenvalues[1,:])\n",
    "PC1.sort(axis=0)\n",
    "PC1=PC1[::-1]\n",
    "PC1=PC1[0:N_elements]\n",
    "PC1"
   ]
  },
  {
   "cell_type": "code",
   "execution_count": 188,
   "id": "7c4e0d36",
   "metadata": {},
   "outputs": [
    {
     "name": "stdout",
     "output_type": "stream",
     "text": [
      "Mean Accuracy: 0.7514563106796116\n",
      "Mean Precision: 0.7561576354679803\n",
      "Mean Recall: 0.9136904761904762\n",
      "Mean MCC Score: 0.4204042606597828\n",
      "Mean F1-Score: 0.8274932614555256\n",
      "specificity: 0.44692737430167595\n",
      "std dev Accuracy: 0.040347418978735165\n",
      "std dev F1-Score: 0.029097656986918664\n",
      "std dev mcc: 0.1027263542146675\n",
      "std dev recall score: 0.047516160062951514\n",
      "std dev precision score: 0.03097882347057801\n",
      "std dev specificity score: 0.08482202257486741\n"
     ]
    }
   ],
   "source": [
    "logreg = LogisticRegression(C= 0.01, penalty= 'l2', solver= 'newton-cg',random_state=0)\n",
    "lrpredicted_target, lractual_target,AccList,F1List,mccList,recallList,precisionList,specificityList=run_kfold(logreg,x_pca)\n",
    "printPerformance(lractual_target,lrpredicted_target)\n",
    "print(\"std dev Accuracy: {0}\".format(np.std(AccList)))\n",
    "print(\"std dev F1-Score: {0}\".format(np.std(F1List)))\n",
    "print(\"std dev mcc: {0}\".format(np.std(mccList)))\n",
    "print(\"std dev recall score: {0}\".format(np.std(recallList)))\n",
    "print(\"std dev precision score: {0}\".format(precisionList.std()))\n",
    "print(\"std dev specificity score: {0}\".format(specificityList.std()))"
   ]
  },
  {
   "cell_type": "code",
   "execution_count": 189,
   "id": "e71950a7",
   "metadata": {},
   "outputs": [
    {
     "name": "stdout",
     "output_type": "stream",
     "text": [
      "Mean Accuracy: 0.974757281553398\n",
      "Mean Precision: 0.9736070381231672\n",
      "Mean Recall: 0.9880952380952381\n",
      "Mean MCC Score: 0.9441955213641661\n",
      "Mean F1-Score: 0.980797636632201\n",
      "specificity: 0.9497206703910615\n",
      "std dev Accuracy: 0.05090784026361068\n",
      "std dev F1-Score: 0.03731181757764358\n",
      "std dev mcc: 0.11544518675000083\n",
      "std dev recall score: 0.026956327617387303\n",
      "std dev precision score: 0.04755535884884443\n",
      "std dev specificity score: 0.09768126375042828\n"
     ]
    }
   ],
   "source": [
    "\n",
    "randomforest = RandomForestClassifier(random_state=0, criterion= 'gini',\n",
    "                            max_features= 5,\n",
    "                            min_samples_leaf=2,\n",
    "                            min_samples_split= 2,\n",
    "                            n_estimators=50,\n",
    "                            n_jobs=-1,\n",
    "                            oob_score= True,\n",
    "                            warm_start= True)\n",
    "rfpredicted_target, rfactual_target,AccList,F1List,mccList,recallList,precisionList,specificityList=run_kfold(randomforest,x_pca)\n",
    "printPerformance(rfactual_target,rfpredicted_target)\n",
    "print(\"std dev Accuracy: {0}\".format(np.std(AccList)))\n",
    "print(\"std dev F1-Score: {0}\".format(np.std(F1List)))\n",
    "print(\"std dev mcc: {0}\".format(np.std(mccList)))\n",
    "print(\"std dev recall score: {0}\".format(np.std(recallList)))\n",
    "print(\"std dev precision score: {0}\".format(precisionList.std()))\n",
    "print(\"std dev specificity score: {0}\".format(specificityList.std()))"
   ]
  },
  {
   "cell_type": "code",
   "execution_count": 190,
   "id": "96b8c79d",
   "metadata": {},
   "outputs": [
    {
     "name": "stdout",
     "output_type": "stream",
     "text": [
      "Mean Accuracy: 0.7456310679611651\n",
      "Mean Precision: 0.7378190255220418\n",
      "Mean Recall: 0.9464285714285714\n",
      "Mean MCC Score: 0.4061873968211577\n",
      "Mean F1-Score: 0.8292046936114733\n",
      "specificity: 0.3687150837988827\n",
      "std dev Accuracy: 0.04671653528419913\n",
      "std dev F1-Score: 0.031414775582690097\n",
      "std dev mcc: 0.1338178314555741\n",
      "std dev recall score: 0.04623804830676943\n",
      "std dev precision score: 0.03259795122445356\n",
      "std dev specificity score: 0.09636700250219947\n"
     ]
    }
   ],
   "source": [
    "\n",
    "\n",
    "sc = StandardScaler()\n",
    "svc = SVC(C= 100, gamma= 0.0001, kernel= 'rbf',random_state=0)\n",
    "#X_train = sc.fit_transform(X)\n",
    "kf = StratifiedKFold(n_splits=10,shuffle=True,random_state=42)\n",
    "    #####,\n",
    "svcAccList=np.array([])\n",
    "svcF1List=np.array([])\n",
    "svcmccList=np.array([])\n",
    "svcrecallList=np.array([])\n",
    "svcprecisionList=np.array([])\n",
    "svcspecificityList=np.array([])\n",
    "svcpredicted_targets = np.array([])\n",
    "svcactual_targets = np.array([])\n",
    "    #######\n",
    "   \n",
    "fold = 0\n",
    "for train_index, test_index in kf.split(x_pca,y):\n",
    "    fold += 1\n",
    "    Xtrain, Xtest = x_pca[train_index], x_pca[test_index]\n",
    "    ytrain, ytest = y[train_index], y[test_index]\n",
    "    Xtrain=sc.fit_transform(Xtrain)\n",
    "    Xtest=sc.transform(Xtest)\n",
    "    svc.fit(Xtrain, ytrain)\n",
    "    svcpredictions = svc.predict(Xtest)\n",
    "    svcpredicted_targets = np.append(svcpredicted_targets, svcpredictions)\n",
    "    svcactual_targets = np.append(svcactual_targets, ytest)\n",
    "    svcAccList=np.append(svcAccList,accuracy_score(ytest,svcpredictions))\n",
    "    svcF1List=np.append(svcF1List,f1_score(ytest,svcpredictions))\n",
    "    svcmccList=np.append(svcmccList,matthews_corrcoef(ytest,svcpredictions))\n",
    "    svcrecallList=np.append(svcrecallList,recall_score(ytest,svcpredictions))\n",
    "    svcprecisionList=np.append(svcprecisionList,precision_score(ytest,svcpredictions))\n",
    "    tn, fp, fn, tp = confusion_matrix(ytest,svcpredictions).ravel()\n",
    "    svcspecificity = tn / (tn+fp)\n",
    "    svcspecificityList=np.append(svcspecificityList,svcspecificity)\n",
    "\n",
    "printPerformance(svcactual_targets,svcpredicted_targets)\n",
    "print(\"std dev Accuracy: {0}\".format(np.std(svcAccList)))\n",
    "print(\"std dev F1-Score: {0}\".format(np.std(svcF1List)))\n",
    "print(\"std dev mcc: {0}\".format(np.std(svcmccList)))\n",
    "print(\"std dev recall score: {0}\".format(np.std(svcrecallList)))\n",
    "print(\"std dev precision score: {0}\".format(svcprecisionList.std()))\n",
    "print(\"std dev specificity score: {0}\".format(svcspecificityList.std()))\n"
   ]
  },
  {
   "cell_type": "code",
   "execution_count": 191,
   "id": "fbff0423",
   "metadata": {},
   "outputs": [
    {
     "data": {
      "text/html": [
       "<div>\n",
       "<style scoped>\n",
       "    .dataframe tbody tr th:only-of-type {\n",
       "        vertical-align: middle;\n",
       "    }\n",
       "\n",
       "    .dataframe tbody tr th {\n",
       "        vertical-align: top;\n",
       "    }\n",
       "\n",
       "    .dataframe thead th {\n",
       "        text-align: right;\n",
       "    }\n",
       "</style>\n",
       "<table border=\"1\" class=\"dataframe\">\n",
       "  <thead>\n",
       "    <tr style=\"text-align: right;\">\n",
       "      <th></th>\n",
       "      <th>0</th>\n",
       "      <th>1</th>\n",
       "      <th>2</th>\n",
       "      <th>3</th>\n",
       "      <th>4</th>\n",
       "      <th>5</th>\n",
       "      <th>6</th>\n",
       "      <th>7</th>\n",
       "      <th>8</th>\n",
       "    </tr>\n",
       "  </thead>\n",
       "  <tbody>\n",
       "    <tr>\n",
       "      <th>Current Stream</th>\n",
       "      <td>0.093209</td>\n",
       "      <td>-0.118443</td>\n",
       "      <td>-0.270397</td>\n",
       "      <td>-0.054682</td>\n",
       "      <td>0.887245</td>\n",
       "      <td>-0.277128</td>\n",
       "      <td>0.052721</td>\n",
       "      <td>0.113221</td>\n",
       "      <td>0.084311</td>\n",
       "    </tr>\n",
       "    <tr>\n",
       "      <th>HigherStudyMarks</th>\n",
       "      <td>-0.227509</td>\n",
       "      <td>0.364004</td>\n",
       "      <td>0.298241</td>\n",
       "      <td>0.331171</td>\n",
       "      <td>0.148578</td>\n",
       "      <td>-0.279149</td>\n",
       "      <td>-0.021005</td>\n",
       "      <td>-0.239573</td>\n",
       "      <td>-0.081983</td>\n",
       "    </tr>\n",
       "    <tr>\n",
       "      <th>SecClassMarks</th>\n",
       "      <td>-0.245178</td>\n",
       "      <td>0.359692</td>\n",
       "      <td>0.145551</td>\n",
       "      <td>0.437376</td>\n",
       "      <td>-0.006896</td>\n",
       "      <td>-0.300648</td>\n",
       "      <td>-0.041109</td>\n",
       "      <td>0.144256</td>\n",
       "      <td>-0.000685</td>\n",
       "    </tr>\n",
       "    <tr>\n",
       "      <th>B.Tech CGPA</th>\n",
       "      <td>-0.338389</td>\n",
       "      <td>0.381646</td>\n",
       "      <td>-0.024031</td>\n",
       "      <td>-0.263386</td>\n",
       "      <td>0.106695</td>\n",
       "      <td>-0.015542</td>\n",
       "      <td>0.017583</td>\n",
       "      <td>0.053119</td>\n",
       "      <td>0.099105</td>\n",
       "    </tr>\n",
       "    <tr>\n",
       "      <th>EnglishScore</th>\n",
       "      <td>-0.288316</td>\n",
       "      <td>-0.376658</td>\n",
       "      <td>0.205036</td>\n",
       "      <td>0.089660</td>\n",
       "      <td>-0.073020</td>\n",
       "      <td>-0.042122</td>\n",
       "      <td>-0.125125</td>\n",
       "      <td>0.283841</td>\n",
       "      <td>0.214776</td>\n",
       "    </tr>\n",
       "  </tbody>\n",
       "</table>\n",
       "</div>"
      ],
      "text/plain": [
       "                         0         1         2         3         4         5  \\\n",
       "Current Stream    0.093209 -0.118443 -0.270397 -0.054682  0.887245 -0.277128   \n",
       "HigherStudyMarks -0.227509  0.364004  0.298241  0.331171  0.148578 -0.279149   \n",
       "SecClassMarks    -0.245178  0.359692  0.145551  0.437376 -0.006896 -0.300648   \n",
       "B.Tech CGPA      -0.338389  0.381646 -0.024031 -0.263386  0.106695 -0.015542   \n",
       "EnglishScore     -0.288316 -0.376658  0.205036  0.089660 -0.073020 -0.042122   \n",
       "\n",
       "                         6         7         8  \n",
       "Current Stream    0.052721  0.113221  0.084311  \n",
       "HigherStudyMarks -0.021005 -0.239573 -0.081983  \n",
       "SecClassMarks    -0.041109  0.144256 -0.000685  \n",
       "B.Tech CGPA       0.017583  0.053119  0.099105  \n",
       "EnglishScore     -0.125125  0.283841  0.214776  "
      ]
     },
     "execution_count": 191,
     "metadata": {},
     "output_type": "execute_result"
    }
   ],
   "source": [
    "map= pd.DataFrame(pca.components_.T,index=final_df.columns.values)\n",
    "map.head()"
   ]
  },
  {
   "cell_type": "code",
   "execution_count": 192,
   "id": "129d6788",
   "metadata": {},
   "outputs": [
    {
     "data": {
      "image/png": "[encoded data removed]",
      "text/plain": [
       "<Figure size 800x500 with 1 Axes>"
      ]
     },
     "metadata": {
      "needs_background": "light"
     },
     "output_type": "display_data"
    }
   ],
   "source": [
    "variance_exp_cumsum = pca.explained_variance_ratio_.cumsum().round(2)\n",
    "fig, axes = plt.subplots(1,1,figsize=(8,5), dpi=100)\n",
    "plt.plot(variance_exp_cumsum, color='firebrick')\n",
    "plt.title('Screeplot of Variance Explained %', fontsize=22)\n",
    "plt.xlabel('# of PCs', fontsize=16)\n",
    "plt.show()"
   ]
  },
  {
   "cell_type": "code",
   "execution_count": 193,
   "id": "d1f52c3a",
   "metadata": {},
   "outputs": [],
   "source": [
    "# original_num_df the original numeric dataframe\n",
    "# pca is the model\n",
    "def create_importance_dataframe(pca, original_num_df):\n",
    "\n",
    "    # Change pcs components ndarray to a dataframe\n",
    "    importance_df  = pd.DataFrame(pca.components_)\n",
    "\n",
    "    # Assign columns\n",
    "    importance_df.columns  = original_num_df.columns\n",
    "\n",
    "    # Change to absolute values\n",
    "    importance_df =importance_df.apply(np.abs)\n",
    "\n",
    "    # Transpose\n",
    "    importance_df=importance_df.transpose()\n",
    "\n",
    "    # Change column names again\n",
    "\n",
    "    ## First get number of pcs\n",
    "    num_pcs = importance_df.shape[1]\n",
    "\n",
    "    ## Generate the new column names\n",
    "    new_columns = [f'PC{i}' for i in range(1, num_pcs + 1)]\n",
    "\n",
    "    ## Now rename\n",
    "    importance_df.columns  =new_columns\n",
    "\n",
    "    # Return importance df\n",
    "    return importance_df\n",
    "\n"
   ]
  },
  {
   "cell_type": "code",
   "execution_count": 194,
   "id": "ce632000",
   "metadata": {},
   "outputs": [
    {
     "data": {
      "text/html": [
       "<div>\n",
       "<style scoped>\n",
       "    .dataframe tbody tr th:only-of-type {\n",
       "        vertical-align: middle;\n",
       "    }\n",
       "\n",
       "    .dataframe tbody tr th {\n",
       "        vertical-align: top;\n",
       "    }\n",
       "\n",
       "    .dataframe thead th {\n",
       "        text-align: right;\n",
       "    }\n",
       "</style>\n",
       "<table border=\"1\" class=\"dataframe\">\n",
       "  <thead>\n",
       "    <tr style=\"text-align: right;\">\n",
       "      <th></th>\n",
       "      <th>PC1</th>\n",
       "      <th>PC2</th>\n",
       "      <th>PC3</th>\n",
       "      <th>PC4</th>\n",
       "      <th>PC5</th>\n",
       "      <th>PC6</th>\n",
       "      <th>PC7</th>\n",
       "      <th>PC8</th>\n",
       "      <th>PC9</th>\n",
       "    </tr>\n",
       "  </thead>\n",
       "  <tbody>\n",
       "    <tr>\n",
       "      <th>Current Stream</th>\n",
       "      <td>0.093209</td>\n",
       "      <td>0.118443</td>\n",
       "      <td>0.270397</td>\n",
       "      <td>0.054682</td>\n",
       "      <td>0.887245</td>\n",
       "      <td>0.277128</td>\n",
       "      <td>0.052721</td>\n",
       "      <td>0.113221</td>\n",
       "      <td>0.084311</td>\n",
       "    </tr>\n",
       "    <tr>\n",
       "      <th>HigherStudyMarks</th>\n",
       "      <td>0.227509</td>\n",
       "      <td>0.364004</td>\n",
       "      <td>0.298241</td>\n",
       "      <td>0.331171</td>\n",
       "      <td>0.148578</td>\n",
       "      <td>0.279149</td>\n",
       "      <td>0.021005</td>\n",
       "      <td>0.239573</td>\n",
       "      <td>0.081983</td>\n",
       "    </tr>\n",
       "    <tr>\n",
       "      <th>SecClassMarks</th>\n",
       "      <td>0.245178</td>\n",
       "      <td>0.359692</td>\n",
       "      <td>0.145551</td>\n",
       "      <td>0.437376</td>\n",
       "      <td>0.006896</td>\n",
       "      <td>0.300648</td>\n",
       "      <td>0.041109</td>\n",
       "      <td>0.144256</td>\n",
       "      <td>0.000685</td>\n",
       "    </tr>\n",
       "    <tr>\n",
       "      <th>B.Tech CGPA</th>\n",
       "      <td>0.338389</td>\n",
       "      <td>0.381646</td>\n",
       "      <td>0.024031</td>\n",
       "      <td>0.263386</td>\n",
       "      <td>0.106695</td>\n",
       "      <td>0.015542</td>\n",
       "      <td>0.017583</td>\n",
       "      <td>0.053119</td>\n",
       "      <td>0.099105</td>\n",
       "    </tr>\n",
       "    <tr>\n",
       "      <th>EnglishScore</th>\n",
       "      <td>0.288316</td>\n",
       "      <td>0.376658</td>\n",
       "      <td>0.205036</td>\n",
       "      <td>0.089660</td>\n",
       "      <td>0.073020</td>\n",
       "      <td>0.042122</td>\n",
       "      <td>0.125125</td>\n",
       "      <td>0.283841</td>\n",
       "      <td>0.214776</td>\n",
       "    </tr>\n",
       "    <tr>\n",
       "      <th>QuntAbility</th>\n",
       "      <td>0.290967</td>\n",
       "      <td>0.303586</td>\n",
       "      <td>0.003792</td>\n",
       "      <td>0.159945</td>\n",
       "      <td>0.039349</td>\n",
       "      <td>0.211578</td>\n",
       "      <td>0.468102</td>\n",
       "      <td>0.478768</td>\n",
       "      <td>0.249899</td>\n",
       "    </tr>\n",
       "    <tr>\n",
       "      <th>LogicalAbility</th>\n",
       "      <td>0.339903</td>\n",
       "      <td>0.342323</td>\n",
       "      <td>0.099155</td>\n",
       "      <td>0.057474</td>\n",
       "      <td>0.004260</td>\n",
       "      <td>0.127845</td>\n",
       "      <td>0.208469</td>\n",
       "      <td>0.026830</td>\n",
       "      <td>0.053032</td>\n",
       "    </tr>\n",
       "    <tr>\n",
       "      <th>ProgrammingScore</th>\n",
       "      <td>0.309229</td>\n",
       "      <td>0.012603</td>\n",
       "      <td>0.239463</td>\n",
       "      <td>0.004693</td>\n",
       "      <td>0.055580</td>\n",
       "      <td>0.246538</td>\n",
       "      <td>0.448099</td>\n",
       "      <td>0.459624</td>\n",
       "      <td>0.366587</td>\n",
       "    </tr>\n",
       "    <tr>\n",
       "      <th>DomaninKnowledge</th>\n",
       "      <td>0.322045</td>\n",
       "      <td>0.067537</td>\n",
       "      <td>0.099368</td>\n",
       "      <td>0.020200</td>\n",
       "      <td>0.009796</td>\n",
       "      <td>0.059906</td>\n",
       "      <td>0.108928</td>\n",
       "      <td>0.608668</td>\n",
       "      <td>0.619040</td>\n",
       "    </tr>\n",
       "    <tr>\n",
       "      <th>AutomataScore</th>\n",
       "      <td>0.295278</td>\n",
       "      <td>0.034866</td>\n",
       "      <td>0.336245</td>\n",
       "      <td>0.233489</td>\n",
       "      <td>0.034294</td>\n",
       "      <td>0.277534</td>\n",
       "      <td>0.043298</td>\n",
       "      <td>0.037494</td>\n",
       "      <td>0.418206</td>\n",
       "    </tr>\n",
       "  </tbody>\n",
       "</table>\n",
       "</div>"
      ],
      "text/plain": [
       "                       PC1       PC2       PC3       PC4       PC5       PC6  \\\n",
       "Current Stream    0.093209  0.118443  0.270397  0.054682  0.887245  0.277128   \n",
       "HigherStudyMarks  0.227509  0.364004  0.298241  0.331171  0.148578  0.279149   \n",
       "SecClassMarks     0.245178  0.359692  0.145551  0.437376  0.006896  0.300648   \n",
       "B.Tech CGPA       0.338389  0.381646  0.024031  0.263386  0.106695  0.015542   \n",
       "EnglishScore      0.288316  0.376658  0.205036  0.089660  0.073020  0.042122   \n",
       "QuntAbility       0.290967  0.303586  0.003792  0.159945  0.039349  0.211578   \n",
       "LogicalAbility    0.339903  0.342323  0.099155  0.057474  0.004260  0.127845   \n",
       "ProgrammingScore  0.309229  0.012603  0.239463  0.004693  0.055580  0.246538   \n",
       "DomaninKnowledge  0.322045  0.067537  0.099368  0.020200  0.009796  0.059906   \n",
       "AutomataScore     0.295278  0.034866  0.336245  0.233489  0.034294  0.277534   \n",
       "\n",
       "                       PC7       PC8       PC9  \n",
       "Current Stream    0.052721  0.113221  0.084311  \n",
       "HigherStudyMarks  0.021005  0.239573  0.081983  \n",
       "SecClassMarks     0.041109  0.144256  0.000685  \n",
       "B.Tech CGPA       0.017583  0.053119  0.099105  \n",
       "EnglishScore      0.125125  0.283841  0.214776  \n",
       "QuntAbility       0.468102  0.478768  0.249899  \n",
       "LogicalAbility    0.208469  0.026830  0.053032  \n",
       "ProgrammingScore  0.448099  0.459624  0.366587  \n",
       "DomaninKnowledge  0.108928  0.608668  0.619040  \n",
       "AutomataScore     0.043298  0.037494  0.418206  "
      ]
     },
     "metadata": {},
     "output_type": "display_data"
    },
    {
     "name": "stdout",
     "output_type": "stream",
     "text": [
      "\n",
      "PC1 top 10 feautres are \n",
      "\n"
     ]
    },
    {
     "data": {
      "text/plain": [
       "LogicalAbility       0.339903\n",
       "B.Tech CGPA          0.338389\n",
       "DomaninKnowledge     0.322045\n",
       "ProgrammingScore     0.309229\n",
       "AutomataScore        0.295278\n",
       "QuntAbility          0.290967\n",
       "EnglishScore         0.288316\n",
       "AutomataFixScore     0.284405\n",
       "EssayWritingScore    0.266313\n",
       "SecClassMarks        0.245178\n",
       "Name: PC1, dtype: float64"
      ]
     },
     "metadata": {},
     "output_type": "display_data"
    },
    {
     "name": "stdout",
     "output_type": "stream",
     "text": [
      "\n",
      "PC2 top 10 feautres are \n",
      "\n"
     ]
    },
    {
     "data": {
      "text/plain": [
       "B.Tech CGPA          0.381646\n",
       "EnglishScore         0.376658\n",
       "HigherStudyMarks     0.364004\n",
       "SecClassMarks        0.359692\n",
       "Backlog              0.358646\n",
       "LogicalAbility       0.342323\n",
       "QuntAbility          0.303586\n",
       "EssayWritingScore    0.296229\n",
       "Current Stream       0.118443\n",
       "DomaninKnowledge     0.067537\n",
       "Name: PC2, dtype: float64"
      ]
     },
     "metadata": {},
     "output_type": "display_data"
    }
   ],
   "source": [
    "# Call function to create importance df\n",
    "importance_df  =create_importance_dataframe(pca, final_df)\n",
    "\n",
    "# Show first few rows\n",
    "display(importance_df.head(10))\n",
    "\n",
    "# Sort depending on PC of interest\n",
    "\n",
    "## PC1 top 10 important features\n",
    "pc1_top_10_features = importance_df['PC1'].sort_values(ascending = False)[:10]\n",
    "print(), print(f'PC1 top 10 feautres are \\n')\n",
    "display(pc1_top_10_features )\n",
    "\n",
    "## PC2 top 10 important features\n",
    "pc2_top_10_features = importance_df['PC2'].sort_values(ascending = False)[:10]\n",
    "print(), print(f'PC2 top 10 feautres are \\n')\n",
    "\n",
    "display(pc2_top_10_features )"
   ]
  },
  {
   "cell_type": "code",
   "execution_count": 195,
   "id": "c716e894",
   "metadata": {},
   "outputs": [
    {
     "data": {
      "text/plain": [
       "array([0.35705871, 0.10503708, 0.09379516, 0.07340444, 0.068906  ,\n",
       "       0.05668479, 0.04117713, 0.03955549, 0.03797581])"
      ]
     },
     "execution_count": 195,
     "metadata": {},
     "output_type": "execute_result"
    }
   ],
   "source": [
    "pca.explained_variance_ratio_"
   ]
  },
  {
   "cell_type": "code",
   "execution_count": 196,
   "id": "293b28a0",
   "metadata": {},
   "outputs": [
    {
     "data": {
      "text/plain": [
       "Text(0.5, 1.0, 'Contributions of variables to PC1')"
      ]
     },
     "execution_count": 196,
     "metadata": {},
     "output_type": "execute_result"
    },
    {
     "data": {
      "image/png": "[encoded data removed]",
      "text/plain": [
       "<Figure size 1080x360 with 1 Axes>"
      ]
     },
     "metadata": {
      "needs_background": "light"
     },
     "output_type": "display_data"
    }
   ],
   "source": [
    "\n",
    "plt.figure(figsize=(15,5))\n",
    "\n",
    "ax=sns.barplot(x=pc1_top_10_features.index,y=pc1_top_10_features,ci='none')\n",
    "for container in ax.containers:\n",
    "    ax.bar_label(container)\n",
    "plt.title('Contributions of variables to PC1')"
   ]
  },
  {
   "cell_type": "code",
   "execution_count": 197,
   "id": "35092aa2",
   "metadata": {},
   "outputs": [
    {
     "data": {
      "text/plain": [
       "Text(0.5, 1.0, 'Contributions of variables to PC2')"
      ]
     },
     "execution_count": 197,
     "metadata": {},
     "output_type": "execute_result"
    },
    {
     "data": {
      "image/png": "[encoded data removed]",
      "text/plain": [
       "<Figure size 1080x360 with 1 Axes>"
      ]
     },
     "metadata": {
      "needs_background": "light"
     },
     "output_type": "display_data"
    }
   ],
   "source": [
    "plt.figure(figsize=(15,5))\n",
    "ax=sns.barplot(x=pc2_top_10_features.index,y=pc2_top_10_features,ci='none')\n",
    "for container in ax.containers:\n",
    "    ax.bar_label(container)\n",
    "plt.title('Contributions of variables to PC2')"
   ]
  },
  {
   "cell_type": "code",
   "execution_count": 198,
   "id": "96f10976",
   "metadata": {},
   "outputs": [
    {
     "data": {
      "image/png": "[encoded data removed]",
      "text/plain": [
       "<Figure size 432x288 with 1 Axes>"
      ]
     },
     "metadata": {
      "needs_background": "light"
     },
     "output_type": "display_data"
    }
   ],
   "source": [
    "classes = ['Not Placed','Placed']\n",
    "ax=plt.scatter(x_pca[:,0], x_pca[:,1], c = y)\n",
    "plt.xlabel('PC1')\n",
    "plt.ylabel('PC2')\n",
    "\n",
    "plt.legend(handles=ax.legend_elements()[0],labels=classes)\n",
    "plt.show()"
   ]
  },
  {
   "cell_type": "code",
   "execution_count": 199,
   "id": "3acb6dc8",
   "metadata": {},
   "outputs": [],
   "source": [
    "fs = FeatureSelector(data =X , labels = y)"
   ]
  },
  {
   "cell_type": "code",
   "execution_count": 200,
   "id": "1a7ea510",
   "metadata": {},
   "outputs": [
    {
     "name": "stdout",
     "output_type": "stream",
     "text": [
      "Training Gradient Boosting Model\n",
      "\n",
      "\n",
      "0 features with zero importance after one-hot encoding.\n",
      "\n"
     ]
    }
   ],
   "source": [
    "fs.identify_zero_importance(task = 'classification', eval_metric = 'auc', \n",
    "                            n_iterations = 10, early_stopping = True)"
   ]
  },
  {
   "cell_type": "code",
   "execution_count": 201,
   "id": "2a4a1047",
   "metadata": {},
   "outputs": [
    {
     "name": "stdout",
     "output_type": "stream",
     "text": [
      "There are 14 original features\n",
      "There are 0 one-hot features\n"
     ]
    }
   ],
   "source": [
    "one_hot_features = fs.one_hot_features\n",
    "base_features = fs.base_features\n",
    "print('There are %d original features' % len(base_features))\n",
    "print('There are %d one-hot features' % len(one_hot_features))"
   ]
  },
  {
   "cell_type": "code",
   "execution_count": 202,
   "id": "5c015c08",
   "metadata": {},
   "outputs": [
    {
     "data": {
      "text/plain": [
       "[]"
      ]
     },
     "execution_count": 202,
     "metadata": {},
     "output_type": "execute_result"
    }
   ],
   "source": [
    "zero_importance_features = fs.ops['zero_importance']\n",
    "zero_importance_features[0:60]"
   ]
  },
  {
   "cell_type": "code",
   "execution_count": 203,
   "id": "04e867e4",
   "metadata": {},
   "outputs": [
    {
     "data": {
      "image/png": "[encoded data removed]",
      "text/plain": [
       "<Figure size 720x432 with 1 Axes>"
      ]
     },
     "metadata": {
      "needs_background": "light"
     },
     "output_type": "display_data"
    },
    {
     "data": {
      "image/png": "[encoded data removed]",
      "text/plain": [
       "<Figure size 432x288 with 1 Axes>"
      ]
     },
     "metadata": {
      "needs_background": "light"
     },
     "output_type": "display_data"
    },
    {
     "name": "stdout",
     "output_type": "stream",
     "text": [
      "13 features required for 0.99 of cumulative importance\n"
     ]
    }
   ],
   "source": [
    "fs.plot_feature_importances(threshold = 0.99, plot_n = 35)"
   ]
  },
  {
   "cell_type": "code",
   "execution_count": 204,
   "id": "6c7e86f8",
   "metadata": {},
   "outputs": [
    {
     "data": {
      "text/html": [
       "<div>\n",
       "<style scoped>\n",
       "    .dataframe tbody tr th:only-of-type {\n",
       "        vertical-align: middle;\n",
       "    }\n",
       "\n",
       "    .dataframe tbody tr th {\n",
       "        vertical-align: top;\n",
       "    }\n",
       "\n",
       "    .dataframe thead th {\n",
       "        text-align: right;\n",
       "    }\n",
       "</style>\n",
       "<table border=\"1\" class=\"dataframe\">\n",
       "  <thead>\n",
       "    <tr style=\"text-align: right;\">\n",
       "      <th></th>\n",
       "      <th>feature</th>\n",
       "      <th>importance</th>\n",
       "      <th>normalized_importance</th>\n",
       "      <th>cumulative_importance</th>\n",
       "    </tr>\n",
       "  </thead>\n",
       "  <tbody>\n",
       "    <tr>\n",
       "      <th>0</th>\n",
       "      <td>B.Tech CGPA</td>\n",
       "      <td>104.5</td>\n",
       "      <td>0.171227</td>\n",
       "      <td>0.171227</td>\n",
       "    </tr>\n",
       "    <tr>\n",
       "      <th>1</th>\n",
       "      <td>SecClassMarks</td>\n",
       "      <td>75.8</td>\n",
       "      <td>0.124201</td>\n",
       "      <td>0.295428</td>\n",
       "    </tr>\n",
       "    <tr>\n",
       "      <th>2</th>\n",
       "      <td>ProgrammingScore</td>\n",
       "      <td>60.0</td>\n",
       "      <td>0.098312</td>\n",
       "      <td>0.393741</td>\n",
       "    </tr>\n",
       "    <tr>\n",
       "      <th>3</th>\n",
       "      <td>AutomataScore</td>\n",
       "      <td>56.6</td>\n",
       "      <td>0.092741</td>\n",
       "      <td>0.486482</td>\n",
       "    </tr>\n",
       "    <tr>\n",
       "      <th>4</th>\n",
       "      <td>EnglishScore</td>\n",
       "      <td>52.4</td>\n",
       "      <td>0.085859</td>\n",
       "      <td>0.572341</td>\n",
       "    </tr>\n",
       "    <tr>\n",
       "      <th>5</th>\n",
       "      <td>HigherStudyMarks</td>\n",
       "      <td>49.1</td>\n",
       "      <td>0.080452</td>\n",
       "      <td>0.652794</td>\n",
       "    </tr>\n",
       "    <tr>\n",
       "      <th>6</th>\n",
       "      <td>EssayWritingScore</td>\n",
       "      <td>49.0</td>\n",
       "      <td>0.080288</td>\n",
       "      <td>0.733082</td>\n",
       "    </tr>\n",
       "    <tr>\n",
       "      <th>7</th>\n",
       "      <td>LogicalAbility</td>\n",
       "      <td>45.7</td>\n",
       "      <td>0.074881</td>\n",
       "      <td>0.807963</td>\n",
       "    </tr>\n",
       "    <tr>\n",
       "      <th>8</th>\n",
       "      <td>QuntAbility</td>\n",
       "      <td>35.9</td>\n",
       "      <td>0.058824</td>\n",
       "      <td>0.866787</td>\n",
       "    </tr>\n",
       "    <tr>\n",
       "      <th>9</th>\n",
       "      <td>DomaninKnowledge</td>\n",
       "      <td>34.1</td>\n",
       "      <td>0.055874</td>\n",
       "      <td>0.922661</td>\n",
       "    </tr>\n",
       "    <tr>\n",
       "      <th>10</th>\n",
       "      <td>Current Stream</td>\n",
       "      <td>18.4</td>\n",
       "      <td>0.030149</td>\n",
       "      <td>0.952810</td>\n",
       "    </tr>\n",
       "    <tr>\n",
       "      <th>11</th>\n",
       "      <td>AutomataFixScore</td>\n",
       "      <td>15.3</td>\n",
       "      <td>0.025070</td>\n",
       "      <td>0.977880</td>\n",
       "    </tr>\n",
       "    <tr>\n",
       "      <th>12</th>\n",
       "      <td>Backlog</td>\n",
       "      <td>7.8</td>\n",
       "      <td>0.012781</td>\n",
       "      <td>0.990660</td>\n",
       "    </tr>\n",
       "    <tr>\n",
       "      <th>13</th>\n",
       "      <td>Gender</td>\n",
       "      <td>5.7</td>\n",
       "      <td>0.009340</td>\n",
       "      <td>1.000000</td>\n",
       "    </tr>\n",
       "  </tbody>\n",
       "</table>\n",
       "</div>"
      ],
      "text/plain": [
       "              feature  importance  normalized_importance  \\\n",
       "0         B.Tech CGPA       104.5               0.171227   \n",
       "1       SecClassMarks        75.8               0.124201   \n",
       "2    ProgrammingScore        60.0               0.098312   \n",
       "3       AutomataScore        56.6               0.092741   \n",
       "4        EnglishScore        52.4               0.085859   \n",
       "5    HigherStudyMarks        49.1               0.080452   \n",
       "6   EssayWritingScore        49.0               0.080288   \n",
       "7      LogicalAbility        45.7               0.074881   \n",
       "8         QuntAbility        35.9               0.058824   \n",
       "9    DomaninKnowledge        34.1               0.055874   \n",
       "10     Current Stream        18.4               0.030149   \n",
       "11   AutomataFixScore        15.3               0.025070   \n",
       "12            Backlog         7.8               0.012781   \n",
       "13             Gender         5.7               0.009340   \n",
       "\n",
       "    cumulative_importance  \n",
       "0                0.171227  \n",
       "1                0.295428  \n",
       "2                0.393741  \n",
       "3                0.486482  \n",
       "4                0.572341  \n",
       "5                0.652794  \n",
       "6                0.733082  \n",
       "7                0.807963  \n",
       "8                0.866787  \n",
       "9                0.922661  \n",
       "10               0.952810  \n",
       "11               0.977880  \n",
       "12               0.990660  \n",
       "13               1.000000  "
      ]
     },
     "execution_count": 204,
     "metadata": {},
     "output_type": "execute_result"
    }
   ],
   "source": [
    "fs.feature_importances.head(54)"
   ]
  },
  {
   "cell_type": "code",
   "execution_count": 205,
   "id": "3050d186",
   "metadata": {},
   "outputs": [
    {
     "name": "stdout",
     "output_type": "stream",
     "text": [
      "0 features with greater than 0.60 missing values.\n",
      "\n",
      "0 features with a single unique value.\n",
      "\n",
      "0 features with a correlation magnitude greater than 0.98.\n",
      "\n",
      "Training Gradient Boosting Model\n",
      "\n",
      "\n",
      "0 features with zero importance after one-hot encoding.\n",
      "\n",
      "12 features required for cumulative importance of 0.99 after one hot encoding.\n",
      "2 features do not contribute to cumulative importance of 0.99.\n",
      "\n",
      "2 total features out of 14 identified for removal after one-hot encoding.\n",
      "\n"
     ]
    }
   ],
   "source": [
    "\n",
    "\n",
    "fs.identify_all(selection_params = {'missing_threshold': 0.6, 'correlation_threshold': 0.98, \n",
    "                                    'task': 'classification', 'eval_metric': 'auc', \n",
    "                                     'cumulative_importance': 0.99})"
   ]
  },
  {
   "cell_type": "code",
   "execution_count": 206,
   "id": "876b8666",
   "metadata": {},
   "outputs": [
    {
     "name": "stdout",
     "output_type": "stream",
     "text": [
      "['zero_importance', 'missing', 'single_unique', 'collinear', 'low_importance'] methods have been run\n",
      "\n",
      "Removed 2 features.\n"
     ]
    }
   ],
   "source": [
    "train_removed_all_once = fs.remove(methods = 'all', keep_one_hot = True)"
   ]
  },
  {
   "cell_type": "code",
   "execution_count": 207,
   "id": "43f5cb9b",
   "metadata": {},
   "outputs": [
    {
     "data": {
      "text/html": [
       "<div>\n",
       "<style scoped>\n",
       "    .dataframe tbody tr th:only-of-type {\n",
       "        vertical-align: middle;\n",
       "    }\n",
       "\n",
       "    .dataframe tbody tr th {\n",
       "        vertical-align: top;\n",
       "    }\n",
       "\n",
       "    .dataframe thead th {\n",
       "        text-align: right;\n",
       "    }\n",
       "</style>\n",
       "<table border=\"1\" class=\"dataframe\">\n",
       "  <thead>\n",
       "    <tr style=\"text-align: right;\">\n",
       "      <th></th>\n",
       "      <th>feature</th>\n",
       "      <th>importance</th>\n",
       "      <th>normalized_importance</th>\n",
       "      <th>cumulative_importance</th>\n",
       "    </tr>\n",
       "  </thead>\n",
       "  <tbody>\n",
       "    <tr>\n",
       "      <th>0</th>\n",
       "      <td>B.Tech CGPA</td>\n",
       "      <td>81.5</td>\n",
       "      <td>0.222738</td>\n",
       "      <td>0.222738</td>\n",
       "    </tr>\n",
       "    <tr>\n",
       "      <th>1</th>\n",
       "      <td>ProgrammingScore</td>\n",
       "      <td>41.1</td>\n",
       "      <td>0.112326</td>\n",
       "      <td>0.335064</td>\n",
       "    </tr>\n",
       "    <tr>\n",
       "      <th>2</th>\n",
       "      <td>SecClassMarks</td>\n",
       "      <td>39.5</td>\n",
       "      <td>0.107953</td>\n",
       "      <td>0.443017</td>\n",
       "    </tr>\n",
       "    <tr>\n",
       "      <th>3</th>\n",
       "      <td>AutomataScore</td>\n",
       "      <td>37.5</td>\n",
       "      <td>0.102487</td>\n",
       "      <td>0.545504</td>\n",
       "    </tr>\n",
       "    <tr>\n",
       "      <th>4</th>\n",
       "      <td>EssayWritingScore</td>\n",
       "      <td>31.5</td>\n",
       "      <td>0.086089</td>\n",
       "      <td>0.631593</td>\n",
       "    </tr>\n",
       "  </tbody>\n",
       "</table>\n",
       "</div>"
      ],
      "text/plain": [
       "             feature  importance  normalized_importance  cumulative_importance\n",
       "0        B.Tech CGPA        81.5               0.222738               0.222738\n",
       "1   ProgrammingScore        41.1               0.112326               0.335064\n",
       "2      SecClassMarks        39.5               0.107953               0.443017\n",
       "3      AutomataScore        37.5               0.102487               0.545504\n",
       "4  EssayWritingScore        31.5               0.086089               0.631593"
      ]
     },
     "execution_count": 207,
     "metadata": {},
     "output_type": "execute_result"
    }
   ],
   "source": [
    "fs.feature_importances.head()"
   ]
  },
  {
   "cell_type": "code",
   "execution_count": 208,
   "id": "73875f48",
   "metadata": {},
   "outputs": [
    {
     "data": {
      "text/plain": [
       "(515, 12)"
      ]
     },
     "execution_count": 208,
     "metadata": {},
     "output_type": "execute_result"
    }
   ],
   "source": [
    "train_removed_all_once.shape"
   ]
  },
  {
   "cell_type": "code",
   "execution_count": 209,
   "id": "1b25d6e9",
   "metadata": {},
   "outputs": [
    {
     "data": {
      "text/html": [
       "<div>\n",
       "<style scoped>\n",
       "    .dataframe tbody tr th:only-of-type {\n",
       "        vertical-align: middle;\n",
       "    }\n",
       "\n",
       "    .dataframe tbody tr th {\n",
       "        vertical-align: top;\n",
       "    }\n",
       "\n",
       "    .dataframe thead th {\n",
       "        text-align: right;\n",
       "    }\n",
       "</style>\n",
       "<table border=\"1\" class=\"dataframe\">\n",
       "  <thead>\n",
       "    <tr style=\"text-align: right;\">\n",
       "      <th></th>\n",
       "      <th>Current Stream</th>\n",
       "      <th>HigherStudyMarks</th>\n",
       "      <th>SecClassMarks</th>\n",
       "      <th>B.Tech CGPA</th>\n",
       "      <th>EnglishScore</th>\n",
       "      <th>QuntAbility</th>\n",
       "      <th>LogicalAbility</th>\n",
       "      <th>ProgrammingScore</th>\n",
       "      <th>DomaninKnowledge</th>\n",
       "      <th>AutomataScore</th>\n",
       "      <th>AutomataFixScore</th>\n",
       "      <th>EssayWritingScore</th>\n",
       "    </tr>\n",
       "  </thead>\n",
       "  <tbody>\n",
       "    <tr>\n",
       "      <th>0</th>\n",
       "      <td>0</td>\n",
       "      <td>79.8</td>\n",
       "      <td>64.4</td>\n",
       "      <td>48.7</td>\n",
       "      <td>615.0</td>\n",
       "      <td>380.0</td>\n",
       "      <td>250.0</td>\n",
       "      <td>370.0</td>\n",
       "      <td>340.0</td>\n",
       "      <td>9.0</td>\n",
       "      <td>0.0</td>\n",
       "      <td>306.0</td>\n",
       "    </tr>\n",
       "    <tr>\n",
       "      <th>1</th>\n",
       "      <td>0</td>\n",
       "      <td>93.1</td>\n",
       "      <td>88.6</td>\n",
       "      <td>78.0</td>\n",
       "      <td>615.0</td>\n",
       "      <td>640.0</td>\n",
       "      <td>660.0</td>\n",
       "      <td>625.0</td>\n",
       "      <td>580.0</td>\n",
       "      <td>52.0</td>\n",
       "      <td>0.0</td>\n",
       "      <td>648.0</td>\n",
       "    </tr>\n",
       "    <tr>\n",
       "      <th>2</th>\n",
       "      <td>0</td>\n",
       "      <td>74.0</td>\n",
       "      <td>70.6</td>\n",
       "      <td>63.1</td>\n",
       "      <td>645.0</td>\n",
       "      <td>410.0</td>\n",
       "      <td>610.0</td>\n",
       "      <td>240.0</td>\n",
       "      <td>380.0</td>\n",
       "      <td>7.0</td>\n",
       "      <td>0.0</td>\n",
       "      <td>612.0</td>\n",
       "    </tr>\n",
       "    <tr>\n",
       "      <th>3</th>\n",
       "      <td>0</td>\n",
       "      <td>95.0</td>\n",
       "      <td>80.4</td>\n",
       "      <td>81.3</td>\n",
       "      <td>805.0</td>\n",
       "      <td>710.0</td>\n",
       "      <td>680.0</td>\n",
       "      <td>670.0</td>\n",
       "      <td>700.0</td>\n",
       "      <td>79.0</td>\n",
       "      <td>0.0</td>\n",
       "      <td>495.0</td>\n",
       "    </tr>\n",
       "    <tr>\n",
       "      <th>4</th>\n",
       "      <td>0</td>\n",
       "      <td>87.4</td>\n",
       "      <td>70.8</td>\n",
       "      <td>76.8</td>\n",
       "      <td>735.0</td>\n",
       "      <td>505.0</td>\n",
       "      <td>585.0</td>\n",
       "      <td>375.0</td>\n",
       "      <td>420.0</td>\n",
       "      <td>4.0</td>\n",
       "      <td>0.0</td>\n",
       "      <td>567.0</td>\n",
       "    </tr>\n",
       "  </tbody>\n",
       "</table>\n",
       "</div>"
      ],
      "text/plain": [
       "   Current Stream  HigherStudyMarks  SecClassMarks  B.Tech CGPA  EnglishScore  \\\n",
       "0               0              79.8           64.4         48.7         615.0   \n",
       "1               0              93.1           88.6         78.0         615.0   \n",
       "2               0              74.0           70.6         63.1         645.0   \n",
       "3               0              95.0           80.4         81.3         805.0   \n",
       "4               0              87.4           70.8         76.8         735.0   \n",
       "\n",
       "   QuntAbility  LogicalAbility  ProgrammingScore  DomaninKnowledge  \\\n",
       "0        380.0           250.0             370.0             340.0   \n",
       "1        640.0           660.0             625.0             580.0   \n",
       "2        410.0           610.0             240.0             380.0   \n",
       "3        710.0           680.0             670.0             700.0   \n",
       "4        505.0           585.0             375.0             420.0   \n",
       "\n",
       "   AutomataScore  AutomataFixScore  EssayWritingScore  \n",
       "0            9.0               0.0              306.0  \n",
       "1           52.0               0.0              648.0  \n",
       "2            7.0               0.0              612.0  \n",
       "3           79.0               0.0              495.0  \n",
       "4            4.0               0.0              567.0  "
      ]
     },
     "execution_count": 209,
     "metadata": {},
     "output_type": "execute_result"
    }
   ],
   "source": [
    "train_removed_all_once.head()"
   ]
  },
  {
   "cell_type": "code",
   "execution_count": 210,
   "id": "cc6d2851",
   "metadata": {},
   "outputs": [
    {
     "data": {
      "image/png": "[encoded data removed]",
      "text/plain": [
       "<Figure size 720x432 with 1 Axes>"
      ]
     },
     "metadata": {
      "needs_background": "light"
     },
     "output_type": "display_data"
    },
    {
     "data": {
      "image/png": "[encoded data removed]",
      "text/plain": [
       "<Figure size 432x288 with 1 Axes>"
      ]
     },
     "metadata": {
      "needs_background": "light"
     },
     "output_type": "display_data"
    },
    {
     "name": "stdout",
     "output_type": "stream",
     "text": [
      "13 features required for 0.99 of cumulative importance\n"
     ]
    }
   ],
   "source": [
    "fs.plot_feature_importances(threshold = 0.99, plot_n = 10)"
   ]
  },
  {
   "cell_type": "code",
   "execution_count": 211,
   "id": "7b59ee1c",
   "metadata": {},
   "outputs": [
    {
     "name": "stdout",
     "output_type": "stream",
     "text": [
      "Mean Accuracy: 0.7475728155339806\n",
      "Mean Precision: 0.7768817204301075\n",
      "Mean Recall: 0.8601190476190477\n",
      "Mean MCC Score: 0.4215268624440371\n",
      "Mean F1-Score: 0.8163841807909604\n",
      "specificity: 0.5363128491620112\n",
      "std dev Accuracy: 0.05970217246294724\n",
      "std dev F1-Score: 0.04275392587670661\n",
      "std dev mcc: 0.14256655615271646\n",
      "std dev recall score: 0.050201993478461826\n",
      "std dev precision score: 0.04788787068355602\n",
      "std dev specificity score: 0.11544600432110418\n"
     ]
    }
   ],
   "source": [
    "logreg = LogisticRegression(C= 0.01, penalty= 'l2', solver= 'newton-cg',random_state=0)\n",
    "lrpredicted_target, lractual_target,AccList,F1List,mccList,recallList,precisionList,specificityList=run_kfold(logreg,np.array(train_removed_all_once))\n",
    "printPerformance(lractual_target,lrpredicted_target)\n",
    "print(\"std dev Accuracy: {0}\".format(np.std(AccList)))\n",
    "print(\"std dev F1-Score: {0}\".format(np.std(F1List)))\n",
    "print(\"std dev mcc: {0}\".format(np.std(mccList)))\n",
    "print(\"std dev recall score: {0}\".format(np.std(recallList)))\n",
    "print(\"std dev precision score: {0}\".format(precisionList.std()))\n",
    "print(\"std dev specificity score: {0}\".format(specificityList.std()))"
   ]
  },
  {
   "cell_type": "code",
   "execution_count": 212,
   "id": "efa7b1dd",
   "metadata": {},
   "outputs": [
    {
     "name": "stdout",
     "output_type": "stream",
     "text": [
      "Mean Accuracy: 0.9650485436893204\n",
      "Mean Precision: 0.9704142011834319\n",
      "Mean Recall: 0.9761904761904762\n",
      "Mean MCC Score: 0.9227672660323161\n",
      "Mean F1-Score: 0.973293768545994\n",
      "specificity: 0.9441340782122905\n",
      "std dev Accuracy: 0.06127886050223153\n",
      "std dev F1-Score: 0.04621305470738451\n",
      "std dev mcc: 0.13701325959178037\n",
      "std dev recall score: 0.04519560300520009\n",
      "std dev precision score: 0.049490240493762404\n",
      "std dev specificity score: 0.09622504486493763\n"
     ]
    }
   ],
   "source": [
    "\n",
    "randomforest = RandomForestClassifier(random_state=0, criterion= 'gini',\n",
    "                            max_features= 5,\n",
    "                            min_samples_leaf=2,\n",
    "                            min_samples_split= 2,\n",
    "                            n_estimators=50,\n",
    "                            n_jobs=-1,\n",
    "                            oob_score= True,\n",
    "                            warm_start= True)\n",
    "rfpredicted_target, rfactual_target,AccList,F1List,mccList,recallList,precisionList,specificityList=run_kfold(randomforest,np.array(train_removed_all_once))\n",
    "printPerformance(rfactual_target,rfpredicted_target)\n",
    "print(\"std dev Accuracy: {0}\".format(np.std(AccList)))\n",
    "print(\"std dev F1-Score: {0}\".format(np.std(F1List)))\n",
    "print(\"std dev mcc: {0}\".format(np.std(mccList)))\n",
    "print(\"std dev recall score: {0}\".format(np.std(recallList)))\n",
    "print(\"std dev precision score: {0}\".format(precisionList.std()))\n",
    "print(\"std dev specificity score: {0}\".format(specificityList.std()))"
   ]
  },
  {
   "cell_type": "code",
   "execution_count": 213,
   "id": "aa06fec5",
   "metadata": {},
   "outputs": [
    {
     "name": "stdout",
     "output_type": "stream",
     "text": [
      "Mean Accuracy: 0.7495145631067961\n",
      "Mean Precision: 0.7568238213399504\n",
      "Mean Recall: 0.9077380952380952\n",
      "Mean MCC Score: 0.41585420253948957\n",
      "Mean F1-Score: 0.8254397834912044\n",
      "specificity: 0.45251396648044695\n",
      "std dev Accuracy: 0.053021793865594385\n",
      "std dev F1-Score: 0.03925474829230867\n",
      "std dev mcc: 0.1283075059249978\n",
      "std dev recall score: 0.05306556744767095\n",
      "std dev precision score: 0.03503652264798762\n",
      "std dev specificity score: 0.07877376245725752\n"
     ]
    }
   ],
   "source": [
    "\n",
    "\n",
    "sc = StandardScaler()\n",
    "svc = SVC(C= 100, gamma= 0.0001, kernel= 'rbf',random_state=0)\n",
    "#X_train = sc.fit_transform(X)\n",
    "kf = StratifiedKFold(n_splits=10,shuffle=True,random_state=42)\n",
    "    #####,\n",
    "svcAccList=np.array([])\n",
    "svcF1List=np.array([])\n",
    "svcmccList=np.array([])\n",
    "svcrecallList=np.array([])\n",
    "svcprecisionList=np.array([])\n",
    "svcspecificityList=np.array([])\n",
    "svcpredicted_targets = np.array([])\n",
    "svcactual_targets = np.array([])\n",
    "    #######\n",
    "train_removed_all_once1=np.array(train_removed_all_once)\n",
    "fold = 0\n",
    "for train_index, test_index in kf.split(train_removed_all_once1,y):\n",
    "    fold += 1\n",
    "    Xtrain, Xtest = train_removed_all_once1[train_index], train_removed_all_once1[test_index]\n",
    "    ytrain, ytest = y[train_index], y[test_index]\n",
    "    Xtrain=sc.fit_transform(Xtrain)\n",
    "    Xtest=sc.transform(Xtest)\n",
    "    svc.fit(Xtrain, ytrain)\n",
    "    svcpredictions = svc.predict(Xtest)\n",
    "    svcpredicted_targets = np.append(svcpredicted_targets, svcpredictions)\n",
    "    svcactual_targets = np.append(svcactual_targets, ytest)\n",
    "    svcAccList=np.append(svcAccList,accuracy_score(ytest,svcpredictions))\n",
    "    svcF1List=np.append(svcF1List,f1_score(ytest,svcpredictions))\n",
    "    svcmccList=np.append(svcmccList,matthews_corrcoef(ytest,svcpredictions))\n",
    "    svcrecallList=np.append(svcrecallList,recall_score(ytest,svcpredictions))\n",
    "    svcprecisionList=np.append(svcprecisionList,precision_score(ytest,svcpredictions))\n",
    "    tn, fp, fn, tp = confusion_matrix(ytest,svcpredictions).ravel()\n",
    "    svcspecificity = tn / (tn+fp)\n",
    "    svcspecificityList=np.append(svcspecificityList,svcspecificity)\n",
    "\n",
    "printPerformance(svcactual_targets,svcpredicted_targets)\n",
    "print(\"std dev Accuracy: {0}\".format(np.std(svcAccList)))\n",
    "print(\"std dev F1-Score: {0}\".format(np.std(svcF1List)))\n",
    "print(\"std dev mcc: {0}\".format(np.std(svcmccList)))\n",
    "print(\"std dev recall score: {0}\".format(np.std(svcrecallList)))\n",
    "print(\"std dev precision score: {0}\".format(svcprecisionList.std()))\n",
    "print(\"std dev specificity score: {0}\".format(svcspecificityList.std()))\n"
   ]
  },
  {
   "cell_type": "code",
   "execution_count": 214,
   "id": "eedd0e26",
   "metadata": {},
   "outputs": [],
   "source": [
    "df1=final_df.copy()\n",
    "cols = df1.columns\n",
    "df1[cols] = df1.filter(cols).fillna(df1.mode().iloc[0])\n"
   ]
  },
  {
   "cell_type": "code",
   "execution_count": 215,
   "id": "f410bb62",
   "metadata": {},
   "outputs": [],
   "source": [
    "# Getting the target column and drop 'Patient ID' column\n",
    "y_train = y\n",
    "df1 = X"
   ]
  },
  {
   "cell_type": "code",
   "execution_count": 216,
   "id": "505e51f7",
   "metadata": {},
   "outputs": [],
   "source": [
    "from Py_FS.filter import MI as FS\n",
    "solution1=FS(X,y)"
   ]
  },
  {
   "cell_type": "code",
   "execution_count": 217,
   "id": "613ebdd3",
   "metadata": {},
   "outputs": [
    {
     "data": {
      "text/plain": [
       "array([13,  2,  1,  0, 10,  8,  6,  4, 11,  3,  7,  9,  5, 12],\n",
       "      dtype=int64)"
      ]
     },
     "execution_count": 217,
     "metadata": {},
     "output_type": "execute_result"
    }
   ],
   "source": [
    "solution1.ranks"
   ]
  },
  {
   "cell_type": "code",
   "execution_count": 218,
   "id": "5b209713",
   "metadata": {},
   "outputs": [
    {
     "data": {
      "text/plain": [
       "B.Tech CGPA          0.700000\n",
       "SecClassMarks        0.524867\n",
       "HigherStudyMarks     0.461011\n",
       "AutomataScore        0.453377\n",
       "ProgrammingScore     0.423553\n",
       "Backlog              0.419547\n",
       "LogicalAbility       0.400855\n",
       "AutomataFixScore     0.350174\n",
       "QuntAbility          0.348862\n",
       "EssayWritingScore    0.310873\n",
       "EnglishScore         0.303609\n",
       "DomaninKnowledge     0.301599\n",
       "Gender               0.301597\n",
       "Current Stream       0.262898\n",
       "dtype: float64"
      ]
     },
     "execution_count": 218,
     "metadata": {},
     "output_type": "execute_result"
    },
    {
     "data": {
      "image/png": "[encoded data removed]",
      "text/plain": [
       "<Figure size 432x288 with 1 Axes>"
      ]
     },
     "metadata": {
      "needs_background": "light"
     },
     "output_type": "display_data"
    }
   ],
   "source": [
    "feat_importances1 = pd.Series(solution1.scores, index=X.columns)\n",
    "feat_importances1.nlargest(X.columns.shape[0]).plot(kind='barh',color=['slategrey', 'cornflowerblue', 'crimson', 'navy', 'blueviolet','indigo','plum','purple','magenta'])\n",
    "feat_importances1.nlargest(X.columns.shape[0])\n",
    "#feat_importances.to_csv('Feature score HF prediction using xgb.csv ')\n",
    "#plt.savefig('infogain_fe.png')"
   ]
  },
  {
   "cell_type": "code",
   "execution_count": 219,
   "id": "cab2f914",
   "metadata": {},
   "outputs": [],
   "source": [
    "from Py_FS.filter import PCC as FS\n",
    "solution2=FS(X,y)"
   ]
  },
  {
   "cell_type": "code",
   "execution_count": 220,
   "id": "44deb755",
   "metadata": {},
   "outputs": [
    {
     "data": {
      "text/plain": [
       "B.Tech CGPA          0.700000\n",
       "Backlog              0.576144\n",
       "AutomataScore        0.552893\n",
       "ProgrammingScore     0.504195\n",
       "SecClassMarks        0.492734\n",
       "HigherStudyMarks     0.446019\n",
       "EssayWritingScore    0.411172\n",
       "DomaninKnowledge     0.395138\n",
       "AutomataFixScore     0.390449\n",
       "LogicalAbility       0.362773\n",
       "EnglishScore         0.361464\n",
       "QuntAbility          0.339222\n",
       "Gender               0.320835\n",
       "Current Stream       0.268403\n",
       "dtype: float64"
      ]
     },
     "execution_count": 220,
     "metadata": {},
     "output_type": "execute_result"
    },
    {
     "data": {
      "image/png": "[encoded data removed]",
      "text/plain": [
       "<Figure size 432x288 with 1 Axes>"
      ]
     },
     "metadata": {
      "needs_background": "light"
     },
     "output_type": "display_data"
    }
   ],
   "source": [
    "feat_importances2 = pd.Series(solution2.scores, index=X.columns)\n",
    "feat_importances2.nlargest(X.columns.shape[0]).plot(kind='barh',color=['slategrey', 'cornflowerblue', 'crimson', 'navy', 'blueviolet','indigo','plum','purple','magenta'])\n",
    "feat_importances2.nlargest(X.columns.shape[0])\n",
    "#feat_importances.to_csv('Feature score HF prediction using xgb.csv ')\n",
    "#plt.savefig('PCC_fe.png')"
   ]
  },
  {
   "cell_type": "code",
   "execution_count": 221,
   "id": "cd938aa2",
   "metadata": {},
   "outputs": [
    {
     "data": {
      "text/plain": [
       "(B.Tech CGPA          0.700000\n",
       " Backlog              0.576144\n",
       " AutomataScore        0.552893\n",
       " ProgrammingScore     0.504195\n",
       " SecClassMarks        0.492734\n",
       " HigherStudyMarks     0.446019\n",
       " EssayWritingScore    0.411172\n",
       " DomaninKnowledge     0.395138\n",
       " AutomataFixScore     0.390449\n",
       " LogicalAbility       0.362773\n",
       " EnglishScore         0.361464\n",
       " QuntAbility          0.339222\n",
       " Gender               0.320835\n",
       " Current Stream       0.268403\n",
       " dtype: float64,\n",
       " Index(['Current Stream', 'HigherStudyMarks', 'SecClassMarks', 'B.Tech CGPA',\n",
       "        'EnglishScore', 'QuntAbility', 'LogicalAbility', 'ProgrammingScore',\n",
       "        'DomaninKnowledge', 'AutomataScore', 'AutomataFixScore',\n",
       "        'EssayWritingScore', 'Backlog', 'Gender'],\n",
       "       dtype='object'))"
      ]
     },
     "execution_count": 221,
     "metadata": {},
     "output_type": "execute_result"
    }
   ],
   "source": [
    "feat_importances2.sort_values(ascending=False),final_df.columns\n"
   ]
  },
  {
   "cell_type": "code",
   "execution_count": 222,
   "id": "5d2c6dbd",
   "metadata": {},
   "outputs": [],
   "source": [
    "from Py_FS.filter import Relief as FS\n",
    "import numpy as np\n",
    "\n",
    "solution3 = FS(np.array(X), y)"
   ]
  },
  {
   "cell_type": "code",
   "execution_count": 223,
   "id": "d357c517",
   "metadata": {},
   "outputs": [
    {
     "data": {
      "text/plain": [
       "Backlog              1.000000\n",
       "Gender               0.742251\n",
       "AutomataFixScore     0.419250\n",
       "DomaninKnowledge     0.300163\n",
       "Current Stream       0.292007\n",
       "AutomataScore        0.120718\n",
       "HigherStudyMarks     0.060359\n",
       "EnglishScore         0.053834\n",
       "LogicalAbility       0.044046\n",
       "ProgrammingScore     0.044046\n",
       "QuntAbility          0.040783\n",
       "EssayWritingScore    0.029364\n",
       "SecClassMarks        0.001631\n",
       "B.Tech CGPA          0.000000\n",
       "dtype: float64"
      ]
     },
     "execution_count": 223,
     "metadata": {},
     "output_type": "execute_result"
    },
    {
     "data": {
      "image/png": "[encoded data removed]",
      "text/plain": [
       "<Figure size 432x288 with 1 Axes>"
      ]
     },
     "metadata": {
      "needs_background": "light"
     },
     "output_type": "display_data"
    }
   ],
   "source": [
    "feat_importances3 = pd.Series(solution3.scores, index=X.columns)\n",
    "feat_importances3.nlargest(X.columns.shape[0]).plot(kind='barh',color=['red', 'blue', 'purple', 'green', 'yellow','slategrey', 'cornflowerblue', 'crimson'])\n",
    "feat_importances3.nlargest(X.columns.shape[0])\n",
    "#feat_importances.to_csv('Feature score HF prediction using xgb.csv ')\n",
    "#plt.savefig('Relief_fe.png')"
   ]
  },
  {
   "cell_type": "code",
   "execution_count": 224,
   "id": "dd3ae633",
   "metadata": {},
   "outputs": [
    {
     "data": {
      "text/plain": [
       "(Backlog              1.000000\n",
       " Gender               0.742251\n",
       " AutomataFixScore     0.419250\n",
       " DomaninKnowledge     0.300163\n",
       " Current Stream       0.292007\n",
       " AutomataScore        0.120718\n",
       " HigherStudyMarks     0.060359\n",
       " EnglishScore         0.053834\n",
       " LogicalAbility       0.044046\n",
       " ProgrammingScore     0.044046\n",
       " QuntAbility          0.040783\n",
       " EssayWritingScore    0.029364\n",
       " SecClassMarks        0.001631\n",
       " B.Tech CGPA          0.000000\n",
       " dtype: float64,\n",
       " Index(['Current Stream', 'HigherStudyMarks', 'SecClassMarks', 'B.Tech CGPA',\n",
       "        'EnglishScore', 'QuntAbility', 'LogicalAbility', 'ProgrammingScore',\n",
       "        'DomaninKnowledge', 'AutomataScore', 'AutomataFixScore',\n",
       "        'EssayWritingScore', 'Backlog', 'Gender'],\n",
       "       dtype='object'))"
      ]
     },
     "execution_count": 224,
     "metadata": {},
     "output_type": "execute_result"
    }
   ],
   "source": [
    "feat_importances3.sort_values(ascending=False),final_df.columns\n"
   ]
  },
  {
   "cell_type": "code",
   "execution_count": 225,
   "id": "0d38e8e6",
   "metadata": {},
   "outputs": [],
   "source": [
    "from skfeature.function.similarity_based import fisher_score\n",
    "ranks=fisher_score.fisher_score(np.array(X),y,mode='rank')"
   ]
  },
  {
   "cell_type": "code",
   "execution_count": 226,
   "id": "04795472",
   "metadata": {},
   "outputs": [
    {
     "data": {
      "text/plain": [
       "<AxesSubplot:>"
      ]
     },
     "execution_count": 226,
     "metadata": {},
     "output_type": "execute_result"
    },
    {
     "data": {
      "image/png": "[encoded data removed]",
      "text/plain": [
       "<Figure size 432x288 with 1 Axes>"
      ]
     },
     "metadata": {
      "needs_background": "light"
     },
     "output_type": "display_data"
    }
   ],
   "source": [
    "feature_importances4=pd.Series(ranks,final_df.columns[0:len(final_df.columns)])\n",
    "feature_importances4.sort_values().plot(kind='barh',color='teal')\n",
    "#plt.savefig('fisherscore_fe.png')"
   ]
  },
  {
   "cell_type": "code",
   "execution_count": 227,
   "id": "828e4a1f",
   "metadata": {},
   "outputs": [
    {
     "data": {
      "text/plain": [
       "(Gender               13\n",
       " ProgrammingScore     12\n",
       " EnglishScore         11\n",
       " Current Stream       10\n",
       " AutomataFixScore      9\n",
       " EssayWritingScore     8\n",
       " LogicalAbility        7\n",
       " SecClassMarks         6\n",
       " QuntAbility           5\n",
       " HigherStudyMarks      4\n",
       " AutomataScore         3\n",
       " DomaninKnowledge      2\n",
       " B.Tech CGPA           1\n",
       " Backlog               0\n",
       " dtype: int32,\n",
       " Index(['Unnamed: 0', 'UID', 'Current Stream', 'HigherStudyMarks',\n",
       "        'SecClassMarks', 'B.Tech CGPA', 'EnglishScore', 'QuntAbility',\n",
       "        'LogicalAbility', 'ProgrammingScore', 'DomaninKnowledge',\n",
       "        'AutomataScore', 'AutomataFixScore', 'EssayWritingScore', 'Backlog',\n",
       "        'Gender', 'PlacementStatus', 'OfferedSalary'],\n",
       "       dtype='object'))"
      ]
     },
     "execution_count": 227,
     "metadata": {},
     "output_type": "execute_result"
    }
   ],
   "source": [
    "feature_importances4.sort_values(ascending=False),df.columns\n"
   ]
  },
  {
   "cell_type": "code",
   "execution_count": 228,
   "id": "14e6821d",
   "metadata": {},
   "outputs": [],
   "source": [
    "from Py_FS.filter import SCC as FS\n",
    "solution5=FS(X,y)"
   ]
  },
  {
   "cell_type": "code",
   "execution_count": 229,
   "id": "6b2ae4f5",
   "metadata": {},
   "outputs": [
    {
     "data": {
      "text/plain": [
       "B.Tech CGPA          0.700000\n",
       "EssayWritingScore    0.660496\n",
       "AutomataScore        0.654897\n",
       "DomaninKnowledge     0.646919\n",
       "EnglishScore         0.645994\n",
       "SecClassMarks        0.644490\n",
       "AutomataFixScore     0.641202\n",
       "ProgrammingScore     0.617094\n",
       "HigherStudyMarks     0.612616\n",
       "Gender               0.604996\n",
       "QuntAbility          0.597647\n",
       "LogicalAbility       0.585909\n",
       "Backlog              0.236275\n",
       "Current Stream       0.235971\n",
       "dtype: float64"
      ]
     },
     "execution_count": 229,
     "metadata": {},
     "output_type": "execute_result"
    },
    {
     "data": {
      "image/png": "[encoded data removed]",
      "text/plain": [
       "<Figure size 432x288 with 1 Axes>"
      ]
     },
     "metadata": {
      "needs_background": "light"
     },
     "output_type": "display_data"
    }
   ],
   "source": [
    "feat_importances5 = pd.Series(solution5.scores, index=X.columns)\n",
    "feat_importances5.nlargest(X.columns.shape[0]).plot(kind='barh',color=['red', 'blue', 'purple', 'green', 'yellow','slategrey', 'cornflowerblue', 'crimson', 'navy'])\n",
    "feat_importances5.nlargest(X.columns.shape[0])\n",
    "#feat_importances.to_csv('Feature score HF prediction using xgb.csv ')\n",
    "#plt.savefig('SCC_fe.png')"
   ]
  },
  {
   "cell_type": "code",
   "execution_count": 230,
   "id": "bbb80abc",
   "metadata": {},
   "outputs": [
    {
     "data": {
      "text/plain": [
       "(B.Tech CGPA          0.700000\n",
       " EssayWritingScore    0.660496\n",
       " AutomataScore        0.654897\n",
       " DomaninKnowledge     0.646919\n",
       " EnglishScore         0.645994\n",
       " SecClassMarks        0.644490\n",
       " AutomataFixScore     0.641202\n",
       " ProgrammingScore     0.617094\n",
       " HigherStudyMarks     0.612616\n",
       " Gender               0.604996\n",
       " QuntAbility          0.597647\n",
       " LogicalAbility       0.585909\n",
       " Backlog              0.236275\n",
       " Current Stream       0.235971\n",
       " dtype: float64,\n",
       " Index(['Unnamed: 0', 'UID', 'Current Stream', 'HigherStudyMarks',\n",
       "        'SecClassMarks', 'B.Tech CGPA', 'EnglishScore', 'QuntAbility',\n",
       "        'LogicalAbility', 'ProgrammingScore', 'DomaninKnowledge',\n",
       "        'AutomataScore', 'AutomataFixScore', 'EssayWritingScore', 'Backlog',\n",
       "        'Gender', 'PlacementStatus', 'OfferedSalary'],\n",
       "       dtype='object'))"
      ]
     },
     "execution_count": 230,
     "metadata": {},
     "output_type": "execute_result"
    }
   ],
   "source": [
    "feat_importances5.sort_values(ascending=False),df.columns\n"
   ]
  },
  {
   "cell_type": "code",
   "execution_count": null,
   "id": "b9ed3a13",
   "metadata": {},
   "outputs": [],
   "source": []
  },
  {
   "cell_type": "code",
   "execution_count": null,
   "id": "1441a6d8",
   "metadata": {},
   "outputs": [],
   "source": []
  }
 ],
 "metadata": {
  "kernelspec": {
   "display_name": "Python 3 (ipykernel)",
   "language": "python",
   "name": "python3"
  },
  "language_info": {
   "codemirror_mode": {
    "name": "ipython",
    "version": 3
   },
   "file_extension": ".py",
   "mimetype": "text/x-python",
   "name": "python",
   "nbconvert_exporter": "python",
   "pygments_lexer": "ipython3",
   "version": "3.9.7"
  }
 },
 "nbformat": 4,
 "nbformat_minor": 5
}
