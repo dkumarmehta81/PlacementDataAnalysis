{
 "cells": [
  {
   "cell_type": "code",
   "execution_count": 75,
   "id": "2b6ad7e0",
   "metadata": {},
   "outputs": [],
   "source": [
    "import pandas as pd\n",
    "import seaborn as sns\n",
    "import matplotlib.pyplot as plt\n",
    "from scipy import stats"
   ]
  },
  {
   "cell_type": "code",
   "execution_count": 76,
   "id": "cba70536",
   "metadata": {},
   "outputs": [],
   "source": [
    "import statsmodels.api as sm"
   ]
  },
  {
   "cell_type": "code",
   "execution_count": 77,
   "id": "c31c9db1",
   "metadata": {},
   "outputs": [],
   "source": [
    "from statsmodels.formula.api import ols"
   ]
  },
  {
   "cell_type": "code",
   "execution_count": 78,
   "id": "3014ed86",
   "metadata": {},
   "outputs": [],
   "source": [
    "df=pd.read_csv('CleanedData.csv')"
   ]
  },
  {
   "cell_type": "code",
   "execution_count": 79,
   "id": "3fb85f51",
   "metadata": {},
   "outputs": [
    {
     "data": {
      "text/html": [
       "<div>\n",
       "<style scoped>\n",
       "    .dataframe tbody tr th:only-of-type {\n",
       "        vertical-align: middle;\n",
       "    }\n",
       "\n",
       "    .dataframe tbody tr th {\n",
       "        vertical-align: top;\n",
       "    }\n",
       "\n",
       "    .dataframe thead th {\n",
       "        text-align: right;\n",
       "    }\n",
       "</style>\n",
       "<table border=\"1\" class=\"dataframe\">\n",
       "  <thead>\n",
       "    <tr style=\"text-align: right;\">\n",
       "      <th></th>\n",
       "      <th>Unnamed: 0</th>\n",
       "      <th>UID</th>\n",
       "      <th>Current Stream</th>\n",
       "      <th>HigherStudyMarks</th>\n",
       "      <th>SecClassMarks</th>\n",
       "      <th>B.Tech CGPA</th>\n",
       "      <th>EnglishScore</th>\n",
       "      <th>QuntAbility</th>\n",
       "      <th>LogicalAbility</th>\n",
       "      <th>ProgrammingScore</th>\n",
       "      <th>DomaninKnowledge</th>\n",
       "      <th>AutomataScore</th>\n",
       "      <th>AutomataFixScore</th>\n",
       "      <th>EssayWritingScore</th>\n",
       "      <th>Backlog</th>\n",
       "      <th>Gender</th>\n",
       "      <th>PlacementStatus</th>\n",
       "      <th>OfferedSalary</th>\n",
       "    </tr>\n",
       "  </thead>\n",
       "  <tbody>\n",
       "    <tr>\n",
       "      <th>0</th>\n",
       "      <td>0</td>\n",
       "      <td>17BCS3755</td>\n",
       "      <td>0</td>\n",
       "      <td>79.8</td>\n",
       "      <td>64.4</td>\n",
       "      <td>48.7</td>\n",
       "      <td>615.0</td>\n",
       "      <td>380.0</td>\n",
       "      <td>250.0</td>\n",
       "      <td>370.0</td>\n",
       "      <td>340.0</td>\n",
       "      <td>9.0</td>\n",
       "      <td>0.0</td>\n",
       "      <td>306.0</td>\n",
       "      <td>4.0</td>\n",
       "      <td>1</td>\n",
       "      <td>0</td>\n",
       "      <td>0.0</td>\n",
       "    </tr>\n",
       "    <tr>\n",
       "      <th>1</th>\n",
       "      <td>1</td>\n",
       "      <td>17BCS3756</td>\n",
       "      <td>0</td>\n",
       "      <td>93.1</td>\n",
       "      <td>88.6</td>\n",
       "      <td>78.0</td>\n",
       "      <td>615.0</td>\n",
       "      <td>640.0</td>\n",
       "      <td>660.0</td>\n",
       "      <td>625.0</td>\n",
       "      <td>580.0</td>\n",
       "      <td>52.0</td>\n",
       "      <td>0.0</td>\n",
       "      <td>648.0</td>\n",
       "      <td>0.0</td>\n",
       "      <td>1</td>\n",
       "      <td>1</td>\n",
       "      <td>4.5</td>\n",
       "    </tr>\n",
       "    <tr>\n",
       "      <th>2</th>\n",
       "      <td>2</td>\n",
       "      <td>17BCS3757</td>\n",
       "      <td>0</td>\n",
       "      <td>74.0</td>\n",
       "      <td>70.6</td>\n",
       "      <td>63.1</td>\n",
       "      <td>645.0</td>\n",
       "      <td>410.0</td>\n",
       "      <td>610.0</td>\n",
       "      <td>240.0</td>\n",
       "      <td>380.0</td>\n",
       "      <td>7.0</td>\n",
       "      <td>0.0</td>\n",
       "      <td>612.0</td>\n",
       "      <td>0.0</td>\n",
       "      <td>0</td>\n",
       "      <td>0</td>\n",
       "      <td>0.0</td>\n",
       "    </tr>\n",
       "    <tr>\n",
       "      <th>3</th>\n",
       "      <td>3</td>\n",
       "      <td>17BCS3758</td>\n",
       "      <td>0</td>\n",
       "      <td>95.0</td>\n",
       "      <td>80.4</td>\n",
       "      <td>81.3</td>\n",
       "      <td>805.0</td>\n",
       "      <td>710.0</td>\n",
       "      <td>680.0</td>\n",
       "      <td>670.0</td>\n",
       "      <td>700.0</td>\n",
       "      <td>79.0</td>\n",
       "      <td>0.0</td>\n",
       "      <td>495.0</td>\n",
       "      <td>0.0</td>\n",
       "      <td>1</td>\n",
       "      <td>1</td>\n",
       "      <td>6.5</td>\n",
       "    </tr>\n",
       "    <tr>\n",
       "      <th>4</th>\n",
       "      <td>4</td>\n",
       "      <td>17BCS3759</td>\n",
       "      <td>0</td>\n",
       "      <td>87.4</td>\n",
       "      <td>70.8</td>\n",
       "      <td>76.8</td>\n",
       "      <td>735.0</td>\n",
       "      <td>505.0</td>\n",
       "      <td>585.0</td>\n",
       "      <td>375.0</td>\n",
       "      <td>420.0</td>\n",
       "      <td>4.0</td>\n",
       "      <td>0.0</td>\n",
       "      <td>567.0</td>\n",
       "      <td>0.0</td>\n",
       "      <td>0</td>\n",
       "      <td>0</td>\n",
       "      <td>0.0</td>\n",
       "    </tr>\n",
       "  </tbody>\n",
       "</table>\n",
       "</div>"
      ],
      "text/plain": [
       "   Unnamed: 0        UID  Current Stream  HigherStudyMarks  SecClassMarks  \\\n",
       "0           0  17BCS3755               0              79.8           64.4   \n",
       "1           1  17BCS3756               0              93.1           88.6   \n",
       "2           2  17BCS3757               0              74.0           70.6   \n",
       "3           3  17BCS3758               0              95.0           80.4   \n",
       "4           4  17BCS3759               0              87.4           70.8   \n",
       "\n",
       "   B.Tech CGPA  EnglishScore  QuntAbility  LogicalAbility  ProgrammingScore  \\\n",
       "0         48.7         615.0        380.0           250.0             370.0   \n",
       "1         78.0         615.0        640.0           660.0             625.0   \n",
       "2         63.1         645.0        410.0           610.0             240.0   \n",
       "3         81.3         805.0        710.0           680.0             670.0   \n",
       "4         76.8         735.0        505.0           585.0             375.0   \n",
       "\n",
       "   DomaninKnowledge  AutomataScore  AutomataFixScore  EssayWritingScore  \\\n",
       "0             340.0            9.0               0.0              306.0   \n",
       "1             580.0           52.0               0.0              648.0   \n",
       "2             380.0            7.0               0.0              612.0   \n",
       "3             700.0           79.0               0.0              495.0   \n",
       "4             420.0            4.0               0.0              567.0   \n",
       "\n",
       "   Backlog  Gender  PlacementStatus  OfferedSalary  \n",
       "0      4.0       1                0            0.0  \n",
       "1      0.0       1                1            4.5  \n",
       "2      0.0       0                0            0.0  \n",
       "3      0.0       1                1            6.5  \n",
       "4      0.0       0                0            0.0  "
      ]
     },
     "execution_count": 79,
     "metadata": {},
     "output_type": "execute_result"
    }
   ],
   "source": [
    "df.head()"
   ]
  },
  {
   "cell_type": "code",
   "execution_count": 80,
   "id": "c7d09fe7",
   "metadata": {},
   "outputs": [],
   "source": [
    "df.rename({'Current Stream':'SpecializationLevels'},axis=1,inplace=True)"
   ]
  },
  {
   "cell_type": "code",
   "execution_count": 81,
   "id": "fef88809",
   "metadata": {},
   "outputs": [],
   "source": [
    "df.drop(['Unnamed: 0','UID'],axis=1,inplace=True)"
   ]
  },
  {
   "cell_type": "code",
   "execution_count": 82,
   "id": "e86d4660",
   "metadata": {},
   "outputs": [
    {
     "data": {
      "text/plain": [
       "0    164\n",
       "3    117\n",
       "1    101\n",
       "2     83\n",
       "4     50\n",
       "Name: SpecializationLevels, dtype: int64"
      ]
     },
     "execution_count": 82,
     "metadata": {},
     "output_type": "execute_result"
    }
   ],
   "source": [
    "df.SpecializationLevels.value_counts()"
   ]
  },
  {
   "cell_type": "code",
   "execution_count": 83,
   "id": "1953df3c",
   "metadata": {},
   "outputs": [],
   "source": [
    "df=df[df['OfferedSalary']>0]"
   ]
  },
  {
   "cell_type": "code",
   "execution_count": 85,
   "id": "b1575876",
   "metadata": {},
   "outputs": [],
   "source": [
    "gr=df.groupby(df.SpecializationLevels)\n",
    "\n",
    "gr0=gr.get_group(0)\n",
    "g0=gr0['OfferedSalary']\n",
    "\n",
    "gr1=gr.get_group(1)\n",
    "g1=gr1['OfferedSalary']\n",
    "\n",
    "gr2=gr.get_group(2)\n",
    "g2=gr2['OfferedSalary']\n",
    "\n",
    "gr3=gr.get_group(3)\n",
    "g3=gr3['OfferedSalary']\n",
    "\n",
    "gr4=gr.get_group(4)\n",
    "g4=gr4['OfferedSalary']"
   ]
  },
  {
   "cell_type": "code",
   "execution_count": 105,
   "id": "5b42c148",
   "metadata": {},
   "outputs": [
    {
     "data": {
      "text/plain": [
       "<AxesSubplot:xlabel='SpecializationLevels', ylabel='OfferedSalary'>"
      ]
     },
     "execution_count": 105,
     "metadata": {},
     "output_type": "execute_result"
    },
    {
     "data": {
      "image/png": "[encoded data removed]",
      "text/plain": [
       "<Figure size 432x288 with 1 Axes>"
      ]
     },
     "metadata": {},
     "output_type": "display_data"
    }
   ],
   "source": [
    "import seaborn as sns\n",
    "sns.set()\n",
    "sns.pointplot(data=df, x='SpecializationLevels', y='OfferedSalary', hue='PlacementStatus', dodge=True, markers=['o', 's'], capsize=.1, errwidth=1, palette='colorblind')"
   ]
  },
  {
   "cell_type": "code",
   "execution_count": 86,
   "id": "d8c544f7",
   "metadata": {},
   "outputs": [
    {
     "data": {
      "text/plain": [
       "[]"
      ]
     },
     "execution_count": 86,
     "metadata": {},
     "output_type": "execute_result"
    },
    {
     "data": {
      "image/png": "[encoded data removed]",
      "text/plain": [
       "<Figure size 432x288 with 5 Axes>"
      ]
     },
     "metadata": {},
     "output_type": "display_data"
    }
   ],
   "source": [
    "fig=plt.figure()\n",
    "ax1=fig.add_subplot(3,2,1)\n",
    "stats.probplot(g0,plot=plt)\n",
    "ax2=fig.add_subplot(3,2,2)\n",
    "stats.probplot(g1,plot=plt)\n",
    "ax3=fig.add_subplot(3,2,3)\n",
    "stats.probplot(g2,plot=plt)\n",
    "ax4=fig.add_subplot(3,2,4)\n",
    "stats.probplot(g3,plot=plt)\n",
    "ax2=fig.add_subplot(3,2,5)\n",
    "stats.probplot(g4,plot=plt)\n",
    "\n",
    "#fig=plt.figure()\n",
    "#ax=fig.add_subplot(111)\n",
    "#stats.probplot(g3,plot=plt)\n",
    "\n",
    "plt.plot()"
   ]
  },
  {
   "cell_type": "code",
   "execution_count": 87,
   "id": "48e47a32",
   "metadata": {},
   "outputs": [
    {
     "data": {
      "text/plain": [
       "2.097085368980124e-27"
      ]
     },
     "execution_count": 87,
     "metadata": {},
     "output_type": "execute_result"
    }
   ],
   "source": [
    "k2, p = stats.normaltest(g0)\n",
    "p"
   ]
  },
  {
   "cell_type": "code",
   "execution_count": 88,
   "id": "058a4657",
   "metadata": {},
   "outputs": [
    {
     "data": {
      "text/plain": [
       "0.009387747259033467"
      ]
     },
     "execution_count": 88,
     "metadata": {},
     "output_type": "execute_result"
    }
   ],
   "source": [
    "k2, p = stats.normaltest(g1)\n",
    "p"
   ]
  },
  {
   "cell_type": "code",
   "execution_count": 89,
   "id": "ddcf5dbe",
   "metadata": {},
   "outputs": [
    {
     "data": {
      "text/plain": [
       "0.0005688859107951181"
      ]
     },
     "execution_count": 89,
     "metadata": {},
     "output_type": "execute_result"
    }
   ],
   "source": [
    "k2, p = stats.normaltest(g2)\n",
    "p"
   ]
  },
  {
   "cell_type": "code",
   "execution_count": 90,
   "id": "197d807f",
   "metadata": {},
   "outputs": [
    {
     "data": {
      "text/plain": [
       "2.401924690974473e-24"
      ]
     },
     "execution_count": 90,
     "metadata": {},
     "output_type": "execute_result"
    }
   ],
   "source": [
    "k2, p = stats.normaltest(g3)\n",
    "p"
   ]
  },
  {
   "cell_type": "code",
   "execution_count": 91,
   "id": "e89f9043",
   "metadata": {},
   "outputs": [
    {
     "data": {
      "text/plain": [
       "6.143978505147848e-14"
      ]
     },
     "execution_count": 91,
     "metadata": {},
     "output_type": "execute_result"
    }
   ],
   "source": [
    "k2, p = stats.normaltest(g4)\n",
    "p"
   ]
  },
  {
   "cell_type": "code",
   "execution_count": 92,
   "id": "3be62287",
   "metadata": {},
   "outputs": [
    {
     "data": {
      "text/plain": [
       "0.2495117219029617"
      ]
     },
     "execution_count": 92,
     "metadata": {},
     "output_type": "execute_result"
    }
   ],
   "source": [
    "from scipy.stats import levene\n",
    "stats,p=levene(df[df['SpecializationLevels']==0]['OfferedSalary'],df[df['SpecializationLevels']==1]['OfferedSalary'],df[df['SpecializationLevels']==2]['OfferedSalary'],df[df['SpecializationLevels']==3]['OfferedSalary'],df[df['SpecializationLevels']==4]['OfferedSalary'])\n",
    "p           #The large p-value suggests that the populations do not have equal variances."
   ]
  },
  {
   "cell_type": "code",
   "execution_count": 93,
   "id": "3d59a1a0",
   "metadata": {},
   "outputs": [],
   "source": [
    "mod=ols('OfferedSalary~SpecializationLevels',data=df).fit()"
   ]
  },
  {
   "cell_type": "code",
   "execution_count": 94,
   "id": "a066d624",
   "metadata": {},
   "outputs": [],
   "source": [
    "aov=sm.stats.anova_lm(mod,type=2)"
   ]
  },
  {
   "cell_type": "code",
   "execution_count": 95,
   "id": "ad0822fa",
   "metadata": {},
   "outputs": [
    {
     "data": {
      "text/html": [
       "<div>\n",
       "<style scoped>\n",
       "    .dataframe tbody tr th:only-of-type {\n",
       "        vertical-align: middle;\n",
       "    }\n",
       "\n",
       "    .dataframe tbody tr th {\n",
       "        vertical-align: top;\n",
       "    }\n",
       "\n",
       "    .dataframe thead th {\n",
       "        text-align: right;\n",
       "    }\n",
       "</style>\n",
       "<table border=\"1\" class=\"dataframe\">\n",
       "  <thead>\n",
       "    <tr style=\"text-align: right;\">\n",
       "      <th></th>\n",
       "      <th>df</th>\n",
       "      <th>sum_sq</th>\n",
       "      <th>mean_sq</th>\n",
       "      <th>F</th>\n",
       "      <th>PR(&gt;F)</th>\n",
       "    </tr>\n",
       "  </thead>\n",
       "  <tbody>\n",
       "    <tr>\n",
       "      <th>SpecializationLevels</th>\n",
       "      <td>1.0</td>\n",
       "      <td>30.286793</td>\n",
       "      <td>30.286793</td>\n",
       "      <td>1.526814</td>\n",
       "      <td>0.21746</td>\n",
       "    </tr>\n",
       "    <tr>\n",
       "      <th>Residual</th>\n",
       "      <td>334.0</td>\n",
       "      <td>6625.422595</td>\n",
       "      <td>19.836595</td>\n",
       "      <td>NaN</td>\n",
       "      <td>NaN</td>\n",
       "    </tr>\n",
       "  </tbody>\n",
       "</table>\n",
       "</div>"
      ],
      "text/plain": [
       "                         df       sum_sq    mean_sq         F   PR(>F)\n",
       "SpecializationLevels    1.0    30.286793  30.286793  1.526814  0.21746\n",
       "Residual              334.0  6625.422595  19.836595       NaN      NaN"
      ]
     },
     "execution_count": 95,
     "metadata": {},
     "output_type": "execute_result"
    }
   ],
   "source": [
    "aov # significant difference found in salaries of all b.tech specialization levels"
   ]
  },
  {
   "cell_type": "code",
   "execution_count": 106,
   "id": "5957e85a",
   "metadata": {},
   "outputs": [],
   "source": [
    "#import pingouin as pg"
   ]
  },
  {
   "cell_type": "code",
   "execution_count": 97,
   "id": "5fa46e51",
   "metadata": {},
   "outputs": [],
   "source": [
    "#kruskal(data=df,dv='OfferedSalary',between='SpecializationLevels')#No significant difference found"
   ]
  },
  {
   "cell_type": "code",
   "execution_count": 98,
   "id": "df1e140f",
   "metadata": {},
   "outputs": [],
   "source": [
    "#from scipy.stats import kruskal as kr"
   ]
  },
  {
   "cell_type": "code",
   "execution_count": 99,
   "id": "8eb7e322",
   "metadata": {},
   "outputs": [],
   "source": [
    "\n",
    "#kr(g0,g1,g2,g3,g4)"
   ]
  },
  {
   "cell_type": "code",
   "execution_count": 100,
   "id": "d7d34c04",
   "metadata": {},
   "outputs": [],
   "source": [
    "#df=len(df['SpecializationLevels'].unique())-1"
   ]
  },
  {
   "cell_type": "code",
   "execution_count": 101,
   "id": "dd6254ee",
   "metadata": {},
   "outputs": [],
   "source": [
    "#df"
   ]
  },
  {
   "cell_type": "code",
   "execution_count": null,
   "id": "220b9fe3",
   "metadata": {},
   "outputs": [],
   "source": []
  },
  {
   "cell_type": "code",
   "execution_count": 103,
   "id": "54e6e04e",
   "metadata": {},
   "outputs": [],
   "source": [
    "#from bioinfokit.analys import stat\n",
    "# perform multiple pairwise comparison (Tukey's HSD)\n",
    "# unequal sample size data, tukey_hsd uses Tukey-Kramer test\n"
   ]
  },
  {
   "cell_type": "code",
   "execution_count": 104,
   "id": "5a5ef4f8",
   "metadata": {},
   "outputs": [],
   "source": [
    "#res = stat()\n"
   ]
  },
  {
   "cell_type": "code",
   "execution_count": 72,
   "id": "44422e2d",
   "metadata": {},
   "outputs": [],
   "source": [
    "#res.tukey_hsd(df=df, res_var='OfferedSalary', xfac_var='SpecializationLevels', anova_model='OfferedSalary ~ C(SpecializationLevels)')\n",
    "#res.tukey_summary"
   ]
  },
  {
   "cell_type": "code",
   "execution_count": null,
   "id": "2db02908",
   "metadata": {},
   "outputs": [],
   "source": []
  },
  {
   "cell_type": "code",
   "execution_count": null,
   "id": "5dc2169c",
   "metadata": {},
   "outputs": [],
   "source": []
  }
 ],
 "metadata": {
  "kernelspec": {
   "display_name": "Python 3 (ipykernel)",
   "language": "python",
   "name": "python3"
  },
  "language_info": {
   "codemirror_mode": {
    "name": "ipython",
    "version": 3
   },
   "file_extension": ".py",
   "mimetype": "text/x-python",
   "name": "python",
   "nbconvert_exporter": "python",
   "pygments_lexer": "ipython3",
   "version": "3.9.7"
  }
 },
 "nbformat": 4,
 "nbformat_minor": 5
}
