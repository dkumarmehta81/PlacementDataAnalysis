{
 "cells": [
  {
   "cell_type": "code",
   "execution_count": 31,
   "id": "2b6ad7e0",
   "metadata": {},
   "outputs": [],
   "source": [
    "import pandas as pd\n",
    "import seaborn as sns\n",
    "import matplotlib.pyplot as plt\n",
    "from scipy import stats"
   ]
  },
  {
   "cell_type": "code",
   "execution_count": 32,
   "id": "cba70536",
   "metadata": {},
   "outputs": [],
   "source": [
    "import statsmodels.api as sm"
   ]
  },
  {
   "cell_type": "code",
   "execution_count": 33,
   "id": "c31c9db1",
   "metadata": {},
   "outputs": [],
   "source": [
    "from statsmodels.formula.api import ols"
   ]
  },
  {
   "cell_type": "code",
   "execution_count": 34,
   "id": "3014ed86",
   "metadata": {},
   "outputs": [],
   "source": [
    "df=pd.read_csv('CleanedData.csv')"
   ]
  },
  {
   "cell_type": "code",
   "execution_count": 35,
   "id": "3fb85f51",
   "metadata": {},
   "outputs": [
    {
     "data": {
      "text/html": [
       "<div>\n",
       "<style scoped>\n",
       "    .dataframe tbody tr th:only-of-type {\n",
       "        vertical-align: middle;\n",
       "    }\n",
       "\n",
       "    .dataframe tbody tr th {\n",
       "        vertical-align: top;\n",
       "    }\n",
       "\n",
       "    .dataframe thead th {\n",
       "        text-align: right;\n",
       "    }\n",
       "</style>\n",
       "<table border=\"1\" class=\"dataframe\">\n",
       "  <thead>\n",
       "    <tr style=\"text-align: right;\">\n",
       "      <th></th>\n",
       "      <th>Unnamed: 0</th>\n",
       "      <th>UID</th>\n",
       "      <th>Current Stream</th>\n",
       "      <th>HigherStudyMarks</th>\n",
       "      <th>SecClassMarks</th>\n",
       "      <th>B.Tech CGPA</th>\n",
       "      <th>EnglishScore</th>\n",
       "      <th>QuntAbility</th>\n",
       "      <th>LogicalAbility</th>\n",
       "      <th>ProgrammingScore</th>\n",
       "      <th>DomaninKnowledge</th>\n",
       "      <th>AutomataScore</th>\n",
       "      <th>AutomataFixScore</th>\n",
       "      <th>EssayWritingScore</th>\n",
       "      <th>Backlog</th>\n",
       "      <th>Gender</th>\n",
       "      <th>PlacementStatus</th>\n",
       "      <th>OfferedSalary</th>\n",
       "    </tr>\n",
       "  </thead>\n",
       "  <tbody>\n",
       "    <tr>\n",
       "      <th>0</th>\n",
       "      <td>0</td>\n",
       "      <td>17BCS3755</td>\n",
       "      <td>0</td>\n",
       "      <td>79.8</td>\n",
       "      <td>64.4</td>\n",
       "      <td>48.7</td>\n",
       "      <td>615.0</td>\n",
       "      <td>380.0</td>\n",
       "      <td>250.0</td>\n",
       "      <td>370.0</td>\n",
       "      <td>340.0</td>\n",
       "      <td>9.0</td>\n",
       "      <td>0.0</td>\n",
       "      <td>306.0</td>\n",
       "      <td>4.0</td>\n",
       "      <td>1</td>\n",
       "      <td>0</td>\n",
       "      <td>0.0</td>\n",
       "    </tr>\n",
       "    <tr>\n",
       "      <th>1</th>\n",
       "      <td>1</td>\n",
       "      <td>17BCS3756</td>\n",
       "      <td>0</td>\n",
       "      <td>93.1</td>\n",
       "      <td>88.6</td>\n",
       "      <td>78.0</td>\n",
       "      <td>615.0</td>\n",
       "      <td>640.0</td>\n",
       "      <td>660.0</td>\n",
       "      <td>625.0</td>\n",
       "      <td>580.0</td>\n",
       "      <td>52.0</td>\n",
       "      <td>0.0</td>\n",
       "      <td>648.0</td>\n",
       "      <td>0.0</td>\n",
       "      <td>1</td>\n",
       "      <td>1</td>\n",
       "      <td>4.5</td>\n",
       "    </tr>\n",
       "    <tr>\n",
       "      <th>2</th>\n",
       "      <td>2</td>\n",
       "      <td>17BCS3757</td>\n",
       "      <td>0</td>\n",
       "      <td>74.0</td>\n",
       "      <td>70.6</td>\n",
       "      <td>63.1</td>\n",
       "      <td>645.0</td>\n",
       "      <td>410.0</td>\n",
       "      <td>610.0</td>\n",
       "      <td>240.0</td>\n",
       "      <td>380.0</td>\n",
       "      <td>7.0</td>\n",
       "      <td>0.0</td>\n",
       "      <td>612.0</td>\n",
       "      <td>0.0</td>\n",
       "      <td>0</td>\n",
       "      <td>0</td>\n",
       "      <td>0.0</td>\n",
       "    </tr>\n",
       "    <tr>\n",
       "      <th>3</th>\n",
       "      <td>3</td>\n",
       "      <td>17BCS3758</td>\n",
       "      <td>0</td>\n",
       "      <td>95.0</td>\n",
       "      <td>80.4</td>\n",
       "      <td>81.3</td>\n",
       "      <td>805.0</td>\n",
       "      <td>710.0</td>\n",
       "      <td>680.0</td>\n",
       "      <td>670.0</td>\n",
       "      <td>700.0</td>\n",
       "      <td>79.0</td>\n",
       "      <td>0.0</td>\n",
       "      <td>495.0</td>\n",
       "      <td>0.0</td>\n",
       "      <td>1</td>\n",
       "      <td>1</td>\n",
       "      <td>6.5</td>\n",
       "    </tr>\n",
       "    <tr>\n",
       "      <th>4</th>\n",
       "      <td>4</td>\n",
       "      <td>17BCS3759</td>\n",
       "      <td>0</td>\n",
       "      <td>87.4</td>\n",
       "      <td>70.8</td>\n",
       "      <td>76.8</td>\n",
       "      <td>735.0</td>\n",
       "      <td>505.0</td>\n",
       "      <td>585.0</td>\n",
       "      <td>375.0</td>\n",
       "      <td>420.0</td>\n",
       "      <td>4.0</td>\n",
       "      <td>0.0</td>\n",
       "      <td>567.0</td>\n",
       "      <td>0.0</td>\n",
       "      <td>0</td>\n",
       "      <td>0</td>\n",
       "      <td>0.0</td>\n",
       "    </tr>\n",
       "  </tbody>\n",
       "</table>\n",
       "</div>"
      ],
      "text/plain": [
       "   Unnamed: 0        UID  Current Stream  HigherStudyMarks  SecClassMarks  \\\n",
       "0           0  17BCS3755               0              79.8           64.4   \n",
       "1           1  17BCS3756               0              93.1           88.6   \n",
       "2           2  17BCS3757               0              74.0           70.6   \n",
       "3           3  17BCS3758               0              95.0           80.4   \n",
       "4           4  17BCS3759               0              87.4           70.8   \n",
       "\n",
       "   B.Tech CGPA  EnglishScore  QuntAbility  LogicalAbility  ProgrammingScore  \\\n",
       "0         48.7         615.0        380.0           250.0             370.0   \n",
       "1         78.0         615.0        640.0           660.0             625.0   \n",
       "2         63.1         645.0        410.0           610.0             240.0   \n",
       "3         81.3         805.0        710.0           680.0             670.0   \n",
       "4         76.8         735.0        505.0           585.0             375.0   \n",
       "\n",
       "   DomaninKnowledge  AutomataScore  AutomataFixScore  EssayWritingScore  \\\n",
       "0             340.0            9.0               0.0              306.0   \n",
       "1             580.0           52.0               0.0              648.0   \n",
       "2             380.0            7.0               0.0              612.0   \n",
       "3             700.0           79.0               0.0              495.0   \n",
       "4             420.0            4.0               0.0              567.0   \n",
       "\n",
       "   Backlog  Gender  PlacementStatus  OfferedSalary  \n",
       "0      4.0       1                0            0.0  \n",
       "1      0.0       1                1            4.5  \n",
       "2      0.0       0                0            0.0  \n",
       "3      0.0       1                1            6.5  \n",
       "4      0.0       0                0            0.0  "
      ]
     },
     "execution_count": 35,
     "metadata": {},
     "output_type": "execute_result"
    }
   ],
   "source": [
    "df.head()"
   ]
  },
  {
   "cell_type": "code",
   "execution_count": 36,
   "id": "c7d09fe7",
   "metadata": {},
   "outputs": [],
   "source": [
    "df.rename({'Current Stream':'SpecializationLevels'},axis=1,inplace=True)"
   ]
  },
  {
   "cell_type": "code",
   "execution_count": 37,
   "id": "fef88809",
   "metadata": {},
   "outputs": [],
   "source": [
    "df.drop(['Unnamed: 0','UID'],axis=1,inplace=True)"
   ]
  },
  {
   "cell_type": "code",
   "execution_count": 38,
   "id": "e86d4660",
   "metadata": {},
   "outputs": [
    {
     "data": {
      "text/plain": [
       "0    164\n",
       "3    117\n",
       "1    101\n",
       "2     83\n",
       "4     50\n",
       "Name: SpecializationLevels, dtype: int64"
      ]
     },
     "execution_count": 38,
     "metadata": {},
     "output_type": "execute_result"
    }
   ],
   "source": [
    "df.SpecializationLevels.value_counts()"
   ]
  },
  {
   "cell_type": "code",
   "execution_count": 39,
   "id": "b1575876",
   "metadata": {},
   "outputs": [],
   "source": [
    "gr=df.groupby(df.SpecializationLevels)\n",
    "\n",
    "gr0=gr.get_group(0)\n",
    "g0=gr0['OfferedSalary']\n",
    "\n",
    "gr1=gr.get_group(1)\n",
    "g1=gr1['OfferedSalary']\n",
    "\n",
    "gr2=gr.get_group(2)\n",
    "g2=gr2['OfferedSalary']\n",
    "\n",
    "gr3=gr.get_group(3)\n",
    "g3=gr3['OfferedSalary']\n",
    "\n",
    "gr4=gr.get_group(4)\n",
    "g4=gr4['OfferedSalary']"
   ]
  },
  {
   "cell_type": "code",
   "execution_count": 47,
   "id": "d8c544f7",
   "metadata": {},
   "outputs": [
    {
     "data": {
      "text/plain": [
       "[]"
      ]
     },
     "execution_count": 47,
     "metadata": {},
     "output_type": "execute_result"
    },
    {
     "data": {
      "image/png": "[encoded data removed]",
      "text/plain": [
       "<Figure size 432x288 with 5 Axes>"
      ]
     },
     "metadata": {
      "needs_background": "light"
     },
     "output_type": "display_data"
    }
   ],
   "source": [
    "fig=plt.figure()\n",
    "ax1=fig.add_subplot(3,2,1)\n",
    "stats.probplot(g0,plot=plt)\n",
    "ax2=fig.add_subplot(3,2,2)\n",
    "stats.probplot(g1,plot=plt)\n",
    "ax3=fig.add_subplot(3,2,3)\n",
    "stats.probplot(g2,plot=plt)\n",
    "ax4=fig.add_subplot(3,2,4)\n",
    "stats.probplot(g3,plot=plt)\n",
    "ax2=fig.add_subplot(3,2,5)\n",
    "stats.probplot(g4,plot=plt)\n",
    "\n",
    "#fig=plt.figure()\n",
    "#ax=fig.add_subplot(111)\n",
    "#stats.probplot(g3,plot=plt)\n",
    "\n",
    "plt.plot()"
   ]
  },
  {
   "cell_type": "code",
   "execution_count": 11,
   "id": "48e47a32",
   "metadata": {},
   "outputs": [
    {
     "data": {
      "text/plain": [
       "2.2788480315850686e-30"
      ]
     },
     "execution_count": 11,
     "metadata": {},
     "output_type": "execute_result"
    }
   ],
   "source": [
    "k2, p = stats.normaltest(g0)\n",
    "p"
   ]
  },
  {
   "cell_type": "code",
   "execution_count": 12,
   "id": "058a4657",
   "metadata": {},
   "outputs": [
    {
     "data": {
      "text/plain": [
       "0.05044400271558195"
      ]
     },
     "execution_count": 12,
     "metadata": {},
     "output_type": "execute_result"
    }
   ],
   "source": [
    "k2, p = stats.normaltest(g1)\n",
    "p"
   ]
  },
  {
   "cell_type": "code",
   "execution_count": 13,
   "id": "ddcf5dbe",
   "metadata": {},
   "outputs": [
    {
     "data": {
      "text/plain": [
       "0.08037090291661374"
      ]
     },
     "execution_count": 13,
     "metadata": {},
     "output_type": "execute_result"
    }
   ],
   "source": [
    "k2, p = stats.normaltest(g2)\n",
    "p"
   ]
  },
  {
   "cell_type": "code",
   "execution_count": 14,
   "id": "197d807f",
   "metadata": {},
   "outputs": [
    {
     "data": {
      "text/plain": [
       "3.437588498171929e-26"
      ]
     },
     "execution_count": 14,
     "metadata": {},
     "output_type": "execute_result"
    }
   ],
   "source": [
    "k2, p = stats.normaltest(g3)\n",
    "p"
   ]
  },
  {
   "cell_type": "code",
   "execution_count": 15,
   "id": "e89f9043",
   "metadata": {},
   "outputs": [
    {
     "data": {
      "text/plain": [
       "1.861885918791926e-17"
      ]
     },
     "execution_count": 15,
     "metadata": {},
     "output_type": "execute_result"
    }
   ],
   "source": [
    "k2, p = stats.normaltest(g4)\n",
    "p"
   ]
  },
  {
   "cell_type": "code",
   "execution_count": 16,
   "id": "3be62287",
   "metadata": {},
   "outputs": [
    {
     "data": {
      "text/plain": [
       "0.4595129005463522"
      ]
     },
     "execution_count": 16,
     "metadata": {},
     "output_type": "execute_result"
    }
   ],
   "source": [
    "from scipy.stats import levene\n",
    "stats,p=levene(df[df['SpecializationLevels']==0]['OfferedSalary'],df[df['SpecializationLevels']==1]['OfferedSalary'],df[df['SpecializationLevels']==2]['OfferedSalary'],df[df['SpecializationLevels']==3]['OfferedSalary'],df[df['SpecializationLevels']==4]['OfferedSalary'])\n",
    "p           #The large p-value suggests that the populations do not have equal variances."
   ]
  },
  {
   "cell_type": "code",
   "execution_count": 16,
   "id": "3d59a1a0",
   "metadata": {},
   "outputs": [],
   "source": [
    "#mod=ols('OfferedSalary~SpecializationLevels',data=df).fit()"
   ]
  },
  {
   "cell_type": "code",
   "execution_count": 17,
   "id": "a066d624",
   "metadata": {},
   "outputs": [],
   "source": [
    "#aov=sm.stats.anova_lm(mod,type=2)"
   ]
  },
  {
   "cell_type": "code",
   "execution_count": 20,
   "id": "5957e85a",
   "metadata": {},
   "outputs": [],
   "source": [
    "from pingouin import kruskal"
   ]
  },
  {
   "cell_type": "code",
   "execution_count": 21,
   "id": "5fa46e51",
   "metadata": {},
   "outputs": [
    {
     "data": {
      "text/html": [
       "<div>\n",
       "<style scoped>\n",
       "    .dataframe tbody tr th:only-of-type {\n",
       "        vertical-align: middle;\n",
       "    }\n",
       "\n",
       "    .dataframe tbody tr th {\n",
       "        vertical-align: top;\n",
       "    }\n",
       "\n",
       "    .dataframe thead th {\n",
       "        text-align: right;\n",
       "    }\n",
       "</style>\n",
       "<table border=\"1\" class=\"dataframe\">\n",
       "  <thead>\n",
       "    <tr style=\"text-align: right;\">\n",
       "      <th></th>\n",
       "      <th>Source</th>\n",
       "      <th>ddof1</th>\n",
       "      <th>H</th>\n",
       "      <th>p-unc</th>\n",
       "    </tr>\n",
       "  </thead>\n",
       "  <tbody>\n",
       "    <tr>\n",
       "      <th>Kruskal</th>\n",
       "      <td>SpecializationLevels</td>\n",
       "      <td>4</td>\n",
       "      <td>7.670774</td>\n",
       "      <td>0.10441</td>\n",
       "    </tr>\n",
       "  </tbody>\n",
       "</table>\n",
       "</div>"
      ],
      "text/plain": [
       "                       Source  ddof1         H    p-unc\n",
       "Kruskal  SpecializationLevels      4  7.670774  0.10441"
      ]
     },
     "execution_count": 21,
     "metadata": {},
     "output_type": "execute_result"
    }
   ],
   "source": [
    "kruskal(data=df,dv='OfferedSalary',between='SpecializationLevels')#No significant difference found"
   ]
  },
  {
   "cell_type": "code",
   "execution_count": 23,
   "id": "df1e140f",
   "metadata": {},
   "outputs": [],
   "source": [
    "#from scipy.stats import kruskal as kr"
   ]
  },
  {
   "cell_type": "code",
   "execution_count": 24,
   "id": "8eb7e322",
   "metadata": {},
   "outputs": [
    {
     "data": {
      "text/plain": [
       "KruskalResult(statistic=7.670774305111356, pvalue=0.10441040393607541)"
      ]
     },
     "execution_count": 24,
     "metadata": {},
     "output_type": "execute_result"
    }
   ],
   "source": [
    "#kr(g0,g1,g2,g3,g4)"
   ]
  },
  {
   "cell_type": "code",
   "execution_count": 26,
   "id": "d7d34c04",
   "metadata": {},
   "outputs": [],
   "source": [
    "#df=len(df['SpecializationLevels'].unique())-1"
   ]
  },
  {
   "cell_type": "code",
   "execution_count": 27,
   "id": "dd6254ee",
   "metadata": {},
   "outputs": [
    {
     "data": {
      "text/plain": [
       "4"
      ]
     },
     "execution_count": 27,
     "metadata": {},
     "output_type": "execute_result"
    }
   ],
   "source": [
    "#df"
   ]
  },
  {
   "cell_type": "code",
   "execution_count": null,
   "id": "f9e3ed75",
   "metadata": {},
   "outputs": [],
   "source": []
  }
 ],
 "metadata": {
  "kernelspec": {
   "display_name": "Python 3 (ipykernel)",
   "language": "python",
   "name": "python3"
  },
  "language_info": {
   "codemirror_mode": {
    "name": "ipython",
    "version": 3
   },
   "file_extension": ".py",
   "mimetype": "text/x-python",
   "name": "python",
   "nbconvert_exporter": "python",
   "pygments_lexer": "ipython3",
   "version": "3.9.7"
  }
 },
 "nbformat": 4,
 "nbformat_minor": 5
}
