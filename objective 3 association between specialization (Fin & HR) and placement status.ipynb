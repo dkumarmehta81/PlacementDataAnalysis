{
 "cells": [
  {
   "cell_type": "code",
   "execution_count": 1,
   "metadata": {},
   "outputs": [],
   "source": [
    "import plotly.express as px\n",
    "import numpy as np\n",
    "import pandas as pd\n",
    "import seaborn as sns\n",
    "import matplotlib.pyplot as plt\n",
    "from scipy.stats import ttest_ind\n",
    "import scipy.stats as stats\n",
    "pd.plotting.register_matplotlib_converters()\n",
    "from sklearn import svm"
   ]
  },
  {
   "cell_type": "code",
   "execution_count": 2,
   "metadata": {},
   "outputs": [],
   "source": [
    "df=pd.read_csv('Placement_Data_Full_Class_1.csv')"
   ]
  },
  {
   "cell_type": "code",
   "execution_count": 3,
   "metadata": {},
   "outputs": [],
   "source": [
    "df.drop(['Unnamed: 0','sl_no'],axis=1,inplace=True)"
   ]
  },
  {
   "cell_type": "code",
   "execution_count": 67,
   "metadata": {},
   "outputs": [],
   "source": [
    "def with_hue(plot, feature, Number_of_categories, hue_categories):\n",
    "    a = [p.get_height() for p in plot.patches]\n",
    "    patch = [p for p in plot.patches]\n",
    "    for i in range(Number_of_categories):\n",
    "        total = feature.value_counts().values[i]\n",
    "        for j in range(hue_categories):\n",
    "            percentage = '{:.1f}%'.format(100 * a[(j*Number_of_categories + i)]/total)\n",
    "            x = patch[(j*Number_of_categories + i)].get_x() + patch[(j*Number_of_categories + i)].get_width() / 2 - 0.15\n",
    "            y = patch[(j*Number_of_categories + i)].get_y() + patch[(j*Number_of_categories + i)].get_height() \n",
    "            ax.annotate(percentage, (x, y), size = 13)\n",
    "    plt.show()"
   ]
  },
  {
   "cell_type": "code",
   "execution_count": 72,
   "metadata": {},
   "outputs": [
    {
     "name": "stderr",
     "output_type": "stream",
     "text": [
      "The PostScript backend does not support transparency; partially transparent artists will be rendered opaque.\n",
      "The PostScript backend does not support transparency; partially transparent artists will be rendered opaque.\n"
     ]
    },
    {
     "data": {
      "image/png": "[encoded data removed]",
      "text/plain": [
       "<Figure size 576x432 with 1 Axes>"
      ]
     },
     "metadata": {},
     "output_type": "display_data"
    }
   ],
   "source": [
    "sns.set_style(style=\"whitegrid\",)\n",
    "sns.set_palette(\"hls\",3)\n",
    "fig,ax=plt.subplots(figsize=(8,6))\n",
    "ax=sns.countplot(x=\"specialisation\",hue=\"status\",data=df)\n",
    "plt.setp(ax.get_legend().get_texts(), fontsize='13') # for legend text\n",
    "plt.setp(ax.get_legend().get_title(), fontsize='13') # for legend title\n",
    "plt.title(\"Specialization Placed Students Counts\",fontsize=13,y=-0.18,fontweight='bold')\n",
    "\n",
    "plt.tick_params(labelsize=15)\n",
    "plt.ylabel(\"Counts\",fontsize=13,fontweight='bold')\n",
    "plt.xlabel(\"Specialisation\",fontsize=13,fontweight='bold')\n",
    "total = len(df['specialisation'])\n",
    "for p in ax.patches:\n",
    "        ax.annotate('{:.1f}%'.format(p.get_height()), (p.get_x()+0.1, p.get_height()),size = 14)\n",
    "#with_hue(ax,df.specialisation,2,2)\n",
    "plt.tight_layout()\n",
    "plt.savefig('Specialization Placed Student Count.eps')\n",
    "plt.show()\n"
   ]
  },
  {
   "cell_type": "code",
   "execution_count": 6,
   "metadata": {},
   "outputs": [
    {
     "data": {
      "text/html": [
       "<div>\n",
       "<style scoped>\n",
       "    .dataframe tbody tr th:only-of-type {\n",
       "        vertical-align: middle;\n",
       "    }\n",
       "\n",
       "    .dataframe tbody tr th {\n",
       "        vertical-align: top;\n",
       "    }\n",
       "\n",
       "    .dataframe thead th {\n",
       "        text-align: right;\n",
       "    }\n",
       "</style>\n",
       "<table border=\"1\" class=\"dataframe\">\n",
       "  <thead>\n",
       "    <tr style=\"text-align: right;\">\n",
       "      <th>status</th>\n",
       "      <th>Not Placed</th>\n",
       "      <th>Placed</th>\n",
       "      <th>All</th>\n",
       "    </tr>\n",
       "    <tr>\n",
       "      <th>specialisation</th>\n",
       "      <th></th>\n",
       "      <th></th>\n",
       "      <th></th>\n",
       "    </tr>\n",
       "  </thead>\n",
       "  <tbody>\n",
       "    <tr>\n",
       "      <th>Mkt&amp;Fin</th>\n",
       "      <td>25</td>\n",
       "      <td>95</td>\n",
       "      <td>120</td>\n",
       "    </tr>\n",
       "    <tr>\n",
       "      <th>Mkt&amp;HR</th>\n",
       "      <td>42</td>\n",
       "      <td>53</td>\n",
       "      <td>95</td>\n",
       "    </tr>\n",
       "    <tr>\n",
       "      <th>All</th>\n",
       "      <td>67</td>\n",
       "      <td>148</td>\n",
       "      <td>215</td>\n",
       "    </tr>\n",
       "  </tbody>\n",
       "</table>\n",
       "</div>"
      ],
      "text/plain": [
       "status          Not Placed  Placed  All\n",
       "specialisation                         \n",
       "Mkt&Fin                 25      95  120\n",
       "Mkt&HR                  42      53   95\n",
       "All                     67     148  215"
      ]
     },
     "execution_count": 6,
     "metadata": {},
     "output_type": "execute_result"
    }
   ],
   "source": [
    "con_tb=pd.crosstab(df.specialisation,df.status,margins=True)\n",
    "con_tb"
   ]
  },
  {
   "cell_type": "code",
   "execution_count": 15,
   "metadata": {},
   "outputs": [],
   "source": [
    "#chi square test of indendence\n",
    "from scipy.stats import chi2_contingency\n",
    "(chi2,p,dof,_)=chi2_contingency([con_tb.iloc[0,0:2].values,con_tb.iloc[1,0:2].values,con_tb.iloc[2,0:2].values])"
   ]
  },
  {
   "cell_type": "code",
   "execution_count": 16,
   "metadata": {},
   "outputs": [
    {
     "name": "stdout",
     "output_type": "stream",
     "text": [
      "chi2     = 13.508014470676486\n",
      "p    : 0.001166197019007658\n",
      "dof   : 2\n",
      "expected  [[ 37.39534884  82.60465116]\n",
      " [ 29.60465116  65.39534884]\n",
      " [ 67.         148.        ]]\n"
     ]
    }
   ],
   "source": [
    "print(\"chi2     =\",chi2)\n",
    "print(\"p    :\",p)\n",
    "print(\"dof   :\",dof)\n",
    "print(\"expected \",_)"
   ]
  },
  {
   "cell_type": "markdown",
   "metadata": {},
   "source": [
    "# crammer's v test"
   ]
  },
  {
   "cell_type": "code",
   "execution_count": 17,
   "metadata": {},
   "outputs": [
    {
     "data": {
      "text/plain": [
       "0.25065509027788807"
      ]
     },
     "execution_count": 17,
     "metadata": {},
     "output_type": "execute_result"
    }
   ],
   "source": [
    "np.sqrt(chi2/(df.shape[0]))"
   ]
  },
  {
   "cell_type": "markdown",
   "metadata": {},
   "source": [
    "For the range of values between -1 and 1, there are come crude estimates or rules of thumb which are as follows:\n",
    ".70 and higher — very strong positive relationship\n",
    ".40 to .69 — strong positive relationship\n",
    ".30 to .39 — moderate positive relationship\n",
    ".20 to .29 — weak positive relationship\n",
    ".01 to .19 — no or negligible relationship\n",
    "0 — no relationship\n",
    "-.01 to -.19 — no or negligible relationship\n",
    "-.20 to -.29 — weak negative relationship\n",
    "-.30 to -.39 — moderate negative relationship\n",
    "-.40 to -.69 — strong negative relationship\n",
    "-.70 and lower — very strong negative relationship"
   ]
  }
 ],
 "metadata": {
  "kernelspec": {
   "display_name": "Python 3",
   "language": "python",
   "name": "python3"
  },
  "language_info": {
   "codemirror_mode": {
    "name": "ipython",
    "version": 3
   },
   "file_extension": ".py",
   "mimetype": "text/x-python",
   "name": "python",
   "nbconvert_exporter": "python",
   "pygments_lexer": "ipython3",
   "version": "3.6.10"
  }
 },
 "nbformat": 4,
 "nbformat_minor": 4
}
