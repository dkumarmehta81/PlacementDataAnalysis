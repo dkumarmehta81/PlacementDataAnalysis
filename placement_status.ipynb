{
  "nbformat": 4,
  "nbformat_minor": 0,
  "metadata": {
    "kernelspec": {
      "display_name": "Python 3",
      "language": "python",
      "name": "python3"
    },
    "language_info": {
      "codemirror_mode": {
        "name": "ipython",
        "version": 3
      },
      "file_extension": ".py",
      "mimetype": "text/x-python",
      "name": "python",
      "nbconvert_exporter": "python",
      "pygments_lexer": "ipython3",
      "version": "3.6.10"
    },
    "colab": {
      "name": "placement status.ipynb",
      "provenance": []
    }
  },
  "cells": [
    {
      "cell_type": "code",
      "metadata": {
        "id": "gwStZ5ZT1T66"
      },
      "source": [
        "import plotly.express as px\n",
        "import numpy as np\n",
        "import pandas as pd\n",
        "import seaborn as sns\n",
        "import matplotlib.pyplot as plt\n",
        "from scipy.stats import ttest_ind\n",
        "import scipy.stats as stats\n",
        "pd.plotting.register_matplotlib_converters()\n",
        "from sklearn import svm\n",
        "from imblearn.over_sampling import SMOTE"
      ],
      "execution_count": 16,
      "outputs": []
    },
    {
      "cell_type": "code",
      "metadata": {
        "id": "Kve5g_iN1T6_"
      },
      "source": [
        "#df.drop(['ssc_b','hsc_b'], axis=1, inplace=True)"
      ],
      "execution_count": 17,
      "outputs": []
    },
    {
      "cell_type": "code",
      "metadata": {
        "id": "mjwG6x3I1T7D"
      },
      "source": [
        "df=pd.read_csv('Placement_Data_Full_Class_1.csv')\n"
      ],
      "execution_count": 18,
      "outputs": []
    },
    {
      "cell_type": "code",
      "metadata": {
        "id": "ec3zTRfy1T7J",
        "outputId": "1a990075-1a4b-4344-c157-c70fdb9d8b20",
        "colab": {
          "base_uri": "https://localhost:8080/",
          "height": 250
        }
      },
      "source": [
        "df.head()"
      ],
      "execution_count": 19,
      "outputs": [
        {
          "output_type": "execute_result",
          "data": {
            "text/html": [
              "<div>\n",
              "<style scoped>\n",
              "    .dataframe tbody tr th:only-of-type {\n",
              "        vertical-align: middle;\n",
              "    }\n",
              "\n",
              "    .dataframe tbody tr th {\n",
              "        vertical-align: top;\n",
              "    }\n",
              "\n",
              "    .dataframe thead th {\n",
              "        text-align: right;\n",
              "    }\n",
              "</style>\n",
              "<table border=\"1\" class=\"dataframe\">\n",
              "  <thead>\n",
              "    <tr style=\"text-align: right;\">\n",
              "      <th></th>\n",
              "      <th>Unnamed: 0</th>\n",
              "      <th>sl_no</th>\n",
              "      <th>gender</th>\n",
              "      <th>ssc_p</th>\n",
              "      <th>ssc_b</th>\n",
              "      <th>hsc_p</th>\n",
              "      <th>hsc_b</th>\n",
              "      <th>hsc_s</th>\n",
              "      <th>degree_p</th>\n",
              "      <th>degree_t</th>\n",
              "      <th>workex</th>\n",
              "      <th>etest_p</th>\n",
              "      <th>specialisation</th>\n",
              "      <th>mba_p</th>\n",
              "      <th>status</th>\n",
              "      <th>salary</th>\n",
              "    </tr>\n",
              "  </thead>\n",
              "  <tbody>\n",
              "    <tr>\n",
              "      <th>0</th>\n",
              "      <td>0</td>\n",
              "      <td>1</td>\n",
              "      <td>M</td>\n",
              "      <td>67.00</td>\n",
              "      <td>Others</td>\n",
              "      <td>91.00</td>\n",
              "      <td>Others</td>\n",
              "      <td>Commerce</td>\n",
              "      <td>58.00</td>\n",
              "      <td>Sci&amp;Tech</td>\n",
              "      <td>No</td>\n",
              "      <td>55.0</td>\n",
              "      <td>Mkt&amp;HR</td>\n",
              "      <td>58.80</td>\n",
              "      <td>Placed</td>\n",
              "      <td>270000.0</td>\n",
              "    </tr>\n",
              "    <tr>\n",
              "      <th>1</th>\n",
              "      <td>1</td>\n",
              "      <td>2</td>\n",
              "      <td>M</td>\n",
              "      <td>79.33</td>\n",
              "      <td>Central</td>\n",
              "      <td>78.33</td>\n",
              "      <td>Others</td>\n",
              "      <td>Science</td>\n",
              "      <td>77.48</td>\n",
              "      <td>Sci&amp;Tech</td>\n",
              "      <td>Yes</td>\n",
              "      <td>86.5</td>\n",
              "      <td>Mkt&amp;Fin</td>\n",
              "      <td>66.28</td>\n",
              "      <td>Placed</td>\n",
              "      <td>200000.0</td>\n",
              "    </tr>\n",
              "    <tr>\n",
              "      <th>2</th>\n",
              "      <td>2</td>\n",
              "      <td>3</td>\n",
              "      <td>M</td>\n",
              "      <td>65.00</td>\n",
              "      <td>Central</td>\n",
              "      <td>68.00</td>\n",
              "      <td>Central</td>\n",
              "      <td>Arts</td>\n",
              "      <td>64.00</td>\n",
              "      <td>Comm&amp;Mgmt</td>\n",
              "      <td>No</td>\n",
              "      <td>75.0</td>\n",
              "      <td>Mkt&amp;Fin</td>\n",
              "      <td>57.80</td>\n",
              "      <td>Placed</td>\n",
              "      <td>250000.0</td>\n",
              "    </tr>\n",
              "    <tr>\n",
              "      <th>3</th>\n",
              "      <td>3</td>\n",
              "      <td>4</td>\n",
              "      <td>M</td>\n",
              "      <td>56.00</td>\n",
              "      <td>Central</td>\n",
              "      <td>52.00</td>\n",
              "      <td>Central</td>\n",
              "      <td>Science</td>\n",
              "      <td>52.00</td>\n",
              "      <td>Sci&amp;Tech</td>\n",
              "      <td>No</td>\n",
              "      <td>66.0</td>\n",
              "      <td>Mkt&amp;HR</td>\n",
              "      <td>59.43</td>\n",
              "      <td>Not Placed</td>\n",
              "      <td>0.0</td>\n",
              "    </tr>\n",
              "    <tr>\n",
              "      <th>4</th>\n",
              "      <td>4</td>\n",
              "      <td>5</td>\n",
              "      <td>M</td>\n",
              "      <td>85.80</td>\n",
              "      <td>Central</td>\n",
              "      <td>73.60</td>\n",
              "      <td>Central</td>\n",
              "      <td>Commerce</td>\n",
              "      <td>73.30</td>\n",
              "      <td>Comm&amp;Mgmt</td>\n",
              "      <td>No</td>\n",
              "      <td>96.8</td>\n",
              "      <td>Mkt&amp;Fin</td>\n",
              "      <td>55.50</td>\n",
              "      <td>Placed</td>\n",
              "      <td>425000.0</td>\n",
              "    </tr>\n",
              "  </tbody>\n",
              "</table>\n",
              "</div>"
            ],
            "text/plain": [
              "   Unnamed: 0  sl_no gender  ssc_p  ... specialisation  mba_p      status    salary\n",
              "0           0      1      M  67.00  ...         Mkt&HR  58.80      Placed  270000.0\n",
              "1           1      2      M  79.33  ...        Mkt&Fin  66.28      Placed  200000.0\n",
              "2           2      3      M  65.00  ...        Mkt&Fin  57.80      Placed  250000.0\n",
              "3           3      4      M  56.00  ...         Mkt&HR  59.43  Not Placed       0.0\n",
              "4           4      5      M  85.80  ...        Mkt&Fin  55.50      Placed  425000.0\n",
              "\n",
              "[5 rows x 16 columns]"
            ]
          },
          "metadata": {
            "tags": []
          },
          "execution_count": 19
        }
      ]
    },
    {
      "cell_type": "code",
      "metadata": {
        "id": "cMF5f-IF1T7S"
      },
      "source": [
        "df.status=pd.get_dummies(df.status,drop_first=True)"
      ],
      "execution_count": 20,
      "outputs": []
    },
    {
      "cell_type": "code",
      "metadata": {
        "id": "UnXmqxV61T7Z"
      },
      "source": [
        "X=df.drop(['salary','status','Unnamed: 0','sl_no'],axis=1)\n",
        "y=df['status']"
      ],
      "execution_count": 21,
      "outputs": []
    },
    {
      "cell_type": "code",
      "metadata": {
        "id": "CLbfpPVs1T7h"
      },
      "source": [
        "X.gender=pd.get_dummies(X.gender,drop_first=True)"
      ],
      "execution_count": 22,
      "outputs": []
    },
    {
      "cell_type": "code",
      "metadata": {
        "id": "ZVUKHiE51T7m"
      },
      "source": [
        "X.ssc_b=pd.get_dummies(X.ssc_b,drop_first=True)"
      ],
      "execution_count": 23,
      "outputs": []
    },
    {
      "cell_type": "code",
      "metadata": {
        "id": "boDmbOed1T7s"
      },
      "source": [
        "X.hsc_b=pd.get_dummies(X.hsc_b,drop_first=True)"
      ],
      "execution_count": 24,
      "outputs": []
    },
    {
      "cell_type": "code",
      "metadata": {
        "id": "up6SeOFV1T7v"
      },
      "source": [
        "X.hsc_s=pd.get_dummies(X.hsc_s,drop_first=True)"
      ],
      "execution_count": 25,
      "outputs": []
    },
    {
      "cell_type": "code",
      "metadata": {
        "id": "037WVL4z1T7y"
      },
      "source": [
        "X.workex=pd.get_dummies(X.workex,drop_first=True)"
      ],
      "execution_count": 26,
      "outputs": []
    },
    {
      "cell_type": "code",
      "metadata": {
        "id": "kxkqMcX51T70"
      },
      "source": [
        "X.specialisation=pd.get_dummies(X.specialisation,drop_first=True)"
      ],
      "execution_count": 27,
      "outputs": []
    },
    {
      "cell_type": "code",
      "metadata": {
        "id": "TI4nBQak1T77"
      },
      "source": [
        "degree_t=pd.get_dummies(df.degree_t,drop_first=True)"
      ],
      "execution_count": 28,
      "outputs": []
    },
    {
      "cell_type": "code",
      "metadata": {
        "id": "N3uS-ujP1T7_"
      },
      "source": [
        "X=pd.concat([X,degree_t],axis=1)"
      ],
      "execution_count": 29,
      "outputs": []
    },
    {
      "cell_type": "code",
      "metadata": {
        "id": "VQ-gaqmO1T8E"
      },
      "source": [
        "X.drop(\"degree_t\",axis=1,inplace=True)"
      ],
      "execution_count": 30,
      "outputs": []
    },
    {
      "cell_type": "code",
      "metadata": {
        "id": "shCYpcdV1T8H",
        "outputId": "8368ebde-c692-4781-ebb9-bed8b488ad35",
        "colab": {
          "base_uri": "https://localhost:8080/",
          "height": 297
        }
      },
      "source": [
        "df.status.value_counts().plot(kind=\"bar\")\n",
        "sns.barplot(x=df.status.value_counts().index,y=df.status.value_counts(),palette='flare')\n",
        "plt.title('Placement Status Class')\n",
        "plt.xlabel('Status')\n",
        "plt.ylabel('Frequency')\n",
        "plt.tight_layout()\n",
        "plt.savefig('fig4.eps')"
      ],
      "execution_count": 36,
      "outputs": [
        {
          "output_type": "display_data",
          "data": {
            "image/png": "[encoded data removed]",
            "text/plain": [
              "<Figure size 432x288 with 1 Axes>"
            ]
          },
          "metadata": {
            "tags": [],
            "needs_background": "light"
          }
        }
      ]
    },
    {
      "cell_type": "code",
      "metadata": {
        "id": "FbvQf6bD1T8L"
      },
      "source": [
        "sm=SMOTE(random_state=0)\n",
        "X,y=sm.fit_sample(X,y)\n"
      ],
      "execution_count": 37,
      "outputs": []
    },
    {
      "cell_type": "code",
      "metadata": {
        "id": "AEDbSLY81T8O",
        "outputId": "e5e3bb67-5c45-47f3-dad8-2f0e7592faa3",
        "colab": {
          "base_uri": "https://localhost:8080/",
          "height": 297
        }
      },
      "source": [
        "colors = ['#1f77b4', '#ff7f0e', '#2ca02c', '#d62728', '#9467bd',\n",
        "          '#8c564b', '#e377c2', '#7f7f7f', '#bcbd22', '#17becf']\n",
        "labels=['Not Placed','Placed']\n",
        "label_index=[0,1]\n",
        "pd.DataFrame(y).value_counts().plot(kind=\"bar\",color=colors)\n",
        "\n",
        "#y.value_counts()\n",
        "plt.title('Placemet Status Class after Re-Sampling')\n",
        "plt.xlabel('Status')\n",
        "plt.ylabel('Frequency')\n",
        "plt.xticks(label_index,labels)\n",
        "\n",
        "plt.tight_layout()\n",
        "plt.draw()\n",
        "plt.savefig('fig4(b).eps')\n",
        "plt.show()"
      ],
      "execution_count": 68,
      "outputs": [
        {
          "output_type": "display_data",
          "data": {
            "image/png": "[encoded data removed]",
            "text/plain": [
              "<Figure size 432x288 with 1 Axes>"
            ]
          },
          "metadata": {
            "tags": [],
            "needs_background": "light"
          }
        }
      ]
    },
    {
      "cell_type": "code",
      "metadata": {
        "id": "JGXfVohl1T8R"
      },
      "source": [
        "from sklearn.model_selection import train_test_split"
      ],
      "execution_count": 69,
      "outputs": []
    },
    {
      "cell_type": "code",
      "metadata": {
        "id": "0qLKiZYo1T8T"
      },
      "source": [
        "xtrain,xtest,ytrain,ytest=train_test_split(X,y,test_size=0.2,random_state=0)"
      ],
      "execution_count": 70,
      "outputs": []
    },
    {
      "cell_type": "code",
      "metadata": {
        "id": "RTSdQU2V1T8W",
        "outputId": "691923ee-365d-4b6c-b439-799fb93e2ec0",
        "colab": {
          "base_uri": "https://localhost:8080/"
        }
      },
      "source": [
        "xtrain.shape,xtest.shape"
      ],
      "execution_count": 71,
      "outputs": [
        {
          "output_type": "execute_result",
          "data": {
            "text/plain": [
              "((236, 13), (60, 13))"
            ]
          },
          "metadata": {
            "tags": []
          },
          "execution_count": 71
        }
      ]
    },
    {
      "cell_type": "code",
      "metadata": {
        "id": "2sxaNM6W1T8b"
      },
      "source": [
        "xtrain_res=xtrain.copy()"
      ],
      "execution_count": 72,
      "outputs": []
    },
    {
      "cell_type": "code",
      "metadata": {
        "id": "sAcy4C-41T8e"
      },
      "source": [
        "ytrain_res=ytrain.copy()"
      ],
      "execution_count": 73,
      "outputs": []
    },
    {
      "cell_type": "code",
      "metadata": {
        "id": "5k1aUtbD1T8g"
      },
      "source": [
        "#xtrain_res,ytrain_res=sm.fit_sample(xtrain,ytrain.ravel())"
      ],
      "execution_count": 74,
      "outputs": []
    },
    {
      "cell_type": "code",
      "metadata": {
        "id": "fuSP3XEc1T8k",
        "outputId": "fd1f11ff-1cc1-47b8-cee1-6a2b00bc63c3",
        "colab": {
          "base_uri": "https://localhost:8080/"
        }
      },
      "source": [
        "xtrain_res.shape,ytrain_res.shape"
      ],
      "execution_count": 75,
      "outputs": [
        {
          "output_type": "execute_result",
          "data": {
            "text/plain": [
              "((236, 13), (236,))"
            ]
          },
          "metadata": {
            "tags": []
          },
          "execution_count": 75
        }
      ]
    },
    {
      "cell_type": "code",
      "metadata": {
        "id": "SvY2y4VS1T8o"
      },
      "source": [
        "from sklearn.linear_model import LogisticRegression\n",
        "from sklearn.ensemble import RandomForestClassifier\n",
        "from sklearn.preprocessing import StandardScaler\n",
        "from sklearn.model_selection import KFold, StratifiedKFold, cross_val_score,GridSearchCV"
      ],
      "execution_count": 76,
      "outputs": []
    },
    {
      "cell_type": "code",
      "metadata": {
        "id": "VjnUwfEF1T8t"
      },
      "source": [
        "#scaler=StandardScaler()\n",
        "#scaled_xtrain=scaler.fit_transform(xtrain_res)\n",
        "#scaled_xtest=scaler.transform(xtest)"
      ],
      "execution_count": 77,
      "outputs": []
    },
    {
      "cell_type": "code",
      "metadata": {
        "id": "KkoJl3aD1T8x"
      },
      "source": [
        "rf=RandomForestClassifier()"
      ],
      "execution_count": 78,
      "outputs": []
    },
    {
      "cell_type": "code",
      "metadata": {
        "id": "yqrHNlMq1T80"
      },
      "source": [
        "#param_grid = { \n",
        "#    'n_estimators': [50,100,150,200,250,300,350,400,450,500],\n",
        "#    'max_features': ['auto', 'sqrt', 'log2'],\n",
        "#    'max_depth' : range(1,12),\n",
        "#    'criterion' :['gini', 'entropy']\n",
        "#}"
      ],
      "execution_count": 79,
      "outputs": []
    },
    {
      "cell_type": "code",
      "metadata": {
        "id": "EAL8W4RI1T83"
      },
      "source": [
        "parameters_xg = {'max_depth':[3,6,7], 'learning_rate': [0.1,0.2], 'n_estimators': [300,200], \n",
        "                 'min_child_weight': [4], 'reg_alpha': [6,0], 'reg_lambda': [1,8],'max_delta_step':[2],\n",
        "                 'gamma':[0],'seed':[1]}\n",
        "\n",
        "parameters_svm = {'C':[0.9,0.01],'kernel':['rbf','linear'], 'gamma':['auto'], 'probability':[True,False],\n",
        "                  'random_state':[0,7,16],'decision_function_shape':['ovo','ovr'],'degree':[3,4,10]}\n",
        "\n",
        "parameters_rf = {'n_estimators': [100,50], 'max_features': [7,'auto',None],\n",
        "                 'n_jobs': [-1], 'min_samples_leaf': [2,4,], 'random_state':[1,7,], \n",
        "                 'min_samples_split':[2,6,], 'oob_score': [True,False],\n",
        "                 'criterion': ['gini'], 'warm_start': [True,False]}"
      ],
      "execution_count": 80,
      "outputs": []
    },
    {
      "cell_type": "code",
      "metadata": {
        "id": "DC36fktm1T88"
      },
      "source": [
        "#CV_rfc = GridSearchCV(estimator=rf, param_grid=parameters_rf, cv= 5)\n",
        "#CV_rfc.fit(X, y)"
      ],
      "execution_count": 81,
      "outputs": []
    },
    {
      "cell_type": "code",
      "metadata": {
        "id": "g8pYrktA1T9A"
      },
      "source": [
        "#CV_rfc.best_params_"
      ],
      "execution_count": 82,
      "outputs": []
    },
    {
      "cell_type": "code",
      "metadata": {
        "id": "bmF-auRf1T9E"
      },
      "source": [
        "rfc1=RandomForestClassifier(random_state=42, criterion= 'gini',\n",
        "                            max_features= 7,\n",
        "                            min_samples_leaf=2,\n",
        "                            min_samples_split= 2,\n",
        "                            n_estimators=50,\n",
        "                            n_jobs=-1,\n",
        "                            oob_score= True,\n",
        "                            warm_start= True)"
      ],
      "execution_count": 83,
      "outputs": []
    },
    {
      "cell_type": "code",
      "metadata": {
        "id": "m1V7Pd5T1T9H",
        "outputId": "2611d799-fc56-450a-b8d9-0583baf86c2e",
        "colab": {
          "base_uri": "https://localhost:8080/"
        }
      },
      "source": [
        "\n",
        "rfc1.fit(xtrain_res,ytrain_res)"
      ],
      "execution_count": 84,
      "outputs": [
        {
          "output_type": "execute_result",
          "data": {
            "text/plain": [
              "RandomForestClassifier(bootstrap=True, ccp_alpha=0.0, class_weight=None,\n",
              "                       criterion='gini', max_depth=None, max_features=7,\n",
              "                       max_leaf_nodes=None, max_samples=None,\n",
              "                       min_impurity_decrease=0.0, min_impurity_split=None,\n",
              "                       min_samples_leaf=2, min_samples_split=2,\n",
              "                       min_weight_fraction_leaf=0.0, n_estimators=50, n_jobs=-1,\n",
              "                       oob_score=True, random_state=42, verbose=0,\n",
              "                       warm_start=True)"
            ]
          },
          "metadata": {
            "tags": []
          },
          "execution_count": 84
        }
      ]
    },
    {
      "cell_type": "code",
      "metadata": {
        "id": "gWPRoH6t1T9L"
      },
      "source": [
        "rf_ypredict=rfc1.predict(xtest)"
      ],
      "execution_count": 85,
      "outputs": []
    },
    {
      "cell_type": "code",
      "metadata": {
        "id": "6x_XVNJp1T9P"
      },
      "source": [
        "from sklearn.metrics import accuracy_score,confusion_matrix,classification_report,roc_auc_score,roc_curve"
      ],
      "execution_count": 86,
      "outputs": []
    },
    {
      "cell_type": "code",
      "metadata": {
        "id": "sR3qWGxg1T9V",
        "outputId": "38f699a4-1a50-43a2-d5af-b90972181d95",
        "colab": {
          "base_uri": "https://localhost:8080/"
        }
      },
      "source": [
        "print(classification_report(ytest,rf_ypredict))"
      ],
      "execution_count": 87,
      "outputs": [
        {
          "output_type": "stream",
          "text": [
            "              precision    recall  f1-score   support\n",
            "\n",
            "           0       0.89      0.92      0.90        36\n",
            "           1       0.87      0.83      0.85        24\n",
            "\n",
            "    accuracy                           0.88        60\n",
            "   macro avg       0.88      0.88      0.88        60\n",
            "weighted avg       0.88      0.88      0.88        60\n",
            "\n"
          ],
          "name": "stdout"
        }
      ]
    },
    {
      "cell_type": "code",
      "metadata": {
        "id": "rSGwt6do1T9Y"
      },
      "source": [
        "# XGBoost Classifier\n",
        "from xgboost import XGBClassifier"
      ],
      "execution_count": 88,
      "outputs": []
    },
    {
      "cell_type": "code",
      "metadata": {
        "id": "KR4ksCVd1T9c"
      },
      "source": [
        "xgb_classifier=XGBClassifier()"
      ],
      "execution_count": 89,
      "outputs": []
    },
    {
      "cell_type": "code",
      "metadata": {
        "id": "eMkmwdMs1T9f"
      },
      "source": [
        "#CV_xgb = GridSearchCV(estimator=xgb_classifier, param_grid=parameters_xg, cv= 5)\n",
        "#CV_xgb.fit(X, y)"
      ],
      "execution_count": 90,
      "outputs": []
    },
    {
      "cell_type": "code",
      "metadata": {
        "id": "VHu51u4i1T9h"
      },
      "source": [
        "#CV_xgb.best_params_"
      ],
      "execution_count": 91,
      "outputs": []
    },
    {
      "cell_type": "code",
      "metadata": {
        "id": "dEbmtABK1T9k"
      },
      "source": [
        "xgb = XGBClassifier(gamma=0,\n",
        "                    learning_rate=0.1,\n",
        "                    max_delta_step=2,\n",
        "                    max_depth= 6,min_child_weight=4,\n",
        "                    n_estimators=200,reg_alpha=0,\n",
        "                    reg_lambda=8,seed=1)"
      ],
      "execution_count": 92,
      "outputs": []
    },
    {
      "cell_type": "code",
      "metadata": {
        "id": "3U5cX7CU1T9o",
        "outputId": "5816514b-a5c7-4ab3-9272-aff31be7d08e",
        "colab": {
          "base_uri": "https://localhost:8080/"
        }
      },
      "source": [
        "xgb_classifier.fit(xtrain_res,ytrain_res)\n"
      ],
      "execution_count": 93,
      "outputs": [
        {
          "output_type": "execute_result",
          "data": {
            "text/plain": [
              "XGBClassifier(base_score=0.5, booster='gbtree', colsample_bylevel=1,\n",
              "              colsample_bynode=1, colsample_bytree=1, gamma=0,\n",
              "              learning_rate=0.1, max_delta_step=0, max_depth=3,\n",
              "              min_child_weight=1, missing=None, n_estimators=100, n_jobs=1,\n",
              "              nthread=None, objective='binary:logistic', random_state=0,\n",
              "              reg_alpha=0, reg_lambda=1, scale_pos_weight=1, seed=None,\n",
              "              silent=None, subsample=1, verbosity=1)"
            ]
          },
          "metadata": {
            "tags": []
          },
          "execution_count": 93
        }
      ]
    },
    {
      "cell_type": "code",
      "metadata": {
        "id": "1oXHwQT-1T9q"
      },
      "source": [
        "xgb_ypredict=xgb_classifier.predict(xtest)"
      ],
      "execution_count": 94,
      "outputs": []
    },
    {
      "cell_type": "code",
      "metadata": {
        "id": "_Pu3CgA51T9y",
        "outputId": "de08ace4-7f9d-4bc6-993a-439d3c85a746",
        "colab": {
          "base_uri": "https://localhost:8080/"
        }
      },
      "source": [
        "print(classification_report(ytest,xgb_ypredict))"
      ],
      "execution_count": 95,
      "outputs": [
        {
          "output_type": "stream",
          "text": [
            "              precision    recall  f1-score   support\n",
            "\n",
            "           0       0.85      0.92      0.88        36\n",
            "           1       0.86      0.75      0.80        24\n",
            "\n",
            "    accuracy                           0.85        60\n",
            "   macro avg       0.85      0.83      0.84        60\n",
            "weighted avg       0.85      0.85      0.85        60\n",
            "\n"
          ],
          "name": "stdout"
        }
      ]
    },
    {
      "cell_type": "code",
      "metadata": {
        "id": "anHJHy8k1T91"
      },
      "source": [
        "from sklearn.svm import SVC"
      ],
      "execution_count": 96,
      "outputs": []
    },
    {
      "cell_type": "code",
      "metadata": {
        "id": "mwo60qdq1T95"
      },
      "source": [
        "svm_classifier=SVC()"
      ],
      "execution_count": 97,
      "outputs": []
    },
    {
      "cell_type": "code",
      "metadata": {
        "id": "irStpWVM1T99"
      },
      "source": [
        "#CV_svm = GridSearchCV(estimator=svm_classifier, param_grid=parameters_svm, cv= 5)\n",
        "#CV_svm.fit(X, y)"
      ],
      "execution_count": 98,
      "outputs": []
    },
    {
      "cell_type": "code",
      "metadata": {
        "id": "ba-haH5L1T-A"
      },
      "source": [
        "#CV_svm.best_params_"
      ],
      "execution_count": 99,
      "outputs": []
    },
    {
      "cell_type": "code",
      "metadata": {
        "id": "NCBVsLry1T-D"
      },
      "source": [
        "svm = SVC(C=0.01,\n",
        "          decision_function_shape= 'ovo',\n",
        "          degree= 3,\n",
        "          gamma= 'auto',\n",
        "          kernel= 'linear',\n",
        "          probability= True, random_state=0)"
      ],
      "execution_count": 100,
      "outputs": []
    },
    {
      "cell_type": "code",
      "metadata": {
        "id": "hBhXE5dO1T-G",
        "outputId": "8ebe99a0-61a7-4a2a-8c51-da4a4e23ac96",
        "colab": {
          "base_uri": "https://localhost:8080/"
        }
      },
      "source": [
        "svm.fit(xtrain_res,ytrain_res)\n"
      ],
      "execution_count": 101,
      "outputs": [
        {
          "output_type": "execute_result",
          "data": {
            "text/plain": [
              "SVC(C=0.01, break_ties=False, cache_size=200, class_weight=None, coef0=0.0,\n",
              "    decision_function_shape='ovo', degree=3, gamma='auto', kernel='linear',\n",
              "    max_iter=-1, probability=True, random_state=0, shrinking=True, tol=0.001,\n",
              "    verbose=False)"
            ]
          },
          "metadata": {
            "tags": []
          },
          "execution_count": 101
        }
      ]
    },
    {
      "cell_type": "code",
      "metadata": {
        "id": "tADWeoYa1T-K"
      },
      "source": [
        "svm_ypred=svm.predict(xtest)"
      ],
      "execution_count": 102,
      "outputs": []
    },
    {
      "cell_type": "code",
      "metadata": {
        "id": "SrkLd4041T-S",
        "outputId": "2aabea0b-420e-4a61-964f-99ca7ecff146",
        "colab": {
          "base_uri": "https://localhost:8080/"
        }
      },
      "source": [
        "print(classification_report(ytest,svm_ypred))"
      ],
      "execution_count": 103,
      "outputs": [
        {
          "output_type": "stream",
          "text": [
            "              precision    recall  f1-score   support\n",
            "\n",
            "           0       0.94      0.89      0.91        36\n",
            "           1       0.85      0.92      0.88        24\n",
            "\n",
            "    accuracy                           0.90        60\n",
            "   macro avg       0.89      0.90      0.90        60\n",
            "weighted avg       0.90      0.90      0.90        60\n",
            "\n"
          ],
          "name": "stdout"
        }
      ]
    },
    {
      "cell_type": "code",
      "metadata": {
        "id": "5wbsmPD51T-V"
      },
      "source": [
        "#feature importance"
      ],
      "execution_count": 104,
      "outputs": []
    },
    {
      "cell_type": "code",
      "metadata": {
        "id": "nLhRjyhh1T-X",
        "outputId": "f323f05c-5fde-44e7-c186-7b2375d33697",
        "colab": {
          "base_uri": "https://localhost:8080/",
          "height": 228
        }
      },
      "source": [
        "def f_importances(coef, names, top=-1):\n",
        "    imp = coef\n",
        "    imp, names = zip(*sorted(list(zip(imp, names))))\n",
        "\n",
        "    # Show all features\n",
        "    if top == -1:\n",
        "        top = len(names)\n",
        "\n",
        "    plt.figure(figsize=(15,5))\n",
        "    plt.bar(range(top), imp[::-1][0:top], align='center')\n",
        "    plt.xticks(range(top), names[::-1][0:top])\n",
        "    plt.show()\n",
        "\n",
        "# whatever your features are called\n",
        "features_names = X.columns \n",
        "# Specify your top n features you want to visualize.\n",
        "# You can also discard the abs() function \n",
        "# if you are interested in negative contribution of features\n",
        "f_importances(abs(svm.coef_[0]), features_names, top=10)\n"
      ],
      "execution_count": 105,
      "outputs": [
        {
          "output_type": "error",
          "ename": "AttributeError",
          "evalue": "ignored",
          "traceback": [
            "\u001b[0;31m---------------------------------------------------------------------------\u001b[0m",
            "\u001b[0;31mAttributeError\u001b[0m                            Traceback (most recent call last)",
            "\u001b[0;32m<ipython-input-105-d58c14d1b4da>\u001b[0m in \u001b[0;36m<module>\u001b[0;34m()\u001b[0m\n\u001b[1;32m     13\u001b[0m \u001b[0;34m\u001b[0m\u001b[0m\n\u001b[1;32m     14\u001b[0m \u001b[0;31m# whatever your features are called\u001b[0m\u001b[0;34m\u001b[0m\u001b[0;34m\u001b[0m\u001b[0;34m\u001b[0m\u001b[0m\n\u001b[0;32m---> 15\u001b[0;31m \u001b[0mfeatures_names\u001b[0m \u001b[0;34m=\u001b[0m \u001b[0mX\u001b[0m\u001b[0;34m.\u001b[0m\u001b[0mcolumns\u001b[0m\u001b[0;34m\u001b[0m\u001b[0;34m\u001b[0m\u001b[0m\n\u001b[0m\u001b[1;32m     16\u001b[0m \u001b[0;31m# Specify your top n features you want to visualize.\u001b[0m\u001b[0;34m\u001b[0m\u001b[0;34m\u001b[0m\u001b[0;34m\u001b[0m\u001b[0m\n\u001b[1;32m     17\u001b[0m \u001b[0;31m# You can also discard the abs() function\u001b[0m\u001b[0;34m\u001b[0m\u001b[0;34m\u001b[0m\u001b[0;34m\u001b[0m\u001b[0m\n",
            "\u001b[0;31mAttributeError\u001b[0m: 'numpy.ndarray' object has no attribute 'columns'"
          ]
        }
      ]
    },
    {
      "cell_type": "code",
      "metadata": {
        "id": "vnrapiR41T-c"
      },
      "source": [
        "#logistic regression"
      ],
      "execution_count": 106,
      "outputs": []
    },
    {
      "cell_type": "code",
      "metadata": {
        "id": "cHInnOdX1T-h"
      },
      "source": [
        "lr=LogisticRegression(solver='lbfgs',class_weight='balanced', max_iter=10000)\n",
        "lr.fit(xtrain_res,ytrain_res)\n",
        "lr_yrped=lr.predict(xtest)\n"
      ],
      "execution_count": 107,
      "outputs": []
    },
    {
      "cell_type": "code",
      "metadata": {
        "id": "5er3ulOo1T-m",
        "outputId": "4990b578-b1a1-409d-c787-fc0c12d9682f",
        "colab": {
          "base_uri": "https://localhost:8080/"
        }
      },
      "source": [
        "print(classification_report(ytest,lr_yrped))"
      ],
      "execution_count": 108,
      "outputs": [
        {
          "output_type": "stream",
          "text": [
            "              precision    recall  f1-score   support\n",
            "\n",
            "           0       0.91      0.89      0.90        36\n",
            "           1       0.84      0.88      0.86        24\n",
            "\n",
            "    accuracy                           0.88        60\n",
            "   macro avg       0.88      0.88      0.88        60\n",
            "weighted avg       0.88      0.88      0.88        60\n",
            "\n"
          ],
          "name": "stdout"
        }
      ]
    },
    {
      "cell_type": "code",
      "metadata": {
        "id": "UOoMY8c51T-o",
        "outputId": "2bd52f3e-a0f9-49a0-856f-90c166ee00f7",
        "colab": {
          "base_uri": "https://localhost:8080/",
          "height": 228
        }
      },
      "source": [
        "rows=list(X.columns)\n",
        "imp=pd.DataFrame(np.zeros(6*len(rows)).reshape(2*len(rows),3))\n",
        "imp.columns=['Classifier',\"Feature\",\"Importnace\"]\n",
        "for index in range(0,2*len(rows),2):\n",
        "    imp.iloc[index]=[\"Random Forest\",rows[index//2],(100*rfc1.feature_importances_[index//2])]\n",
        "    imp.iloc[index+1]=[\"XGB Classifier\",rows[index//2],(100*xgb_classifier.feature_importances_[index//2])]\n",
        "    "
      ],
      "execution_count": 109,
      "outputs": [
        {
          "output_type": "error",
          "ename": "AttributeError",
          "evalue": "ignored",
          "traceback": [
            "\u001b[0;31m---------------------------------------------------------------------------\u001b[0m",
            "\u001b[0;31mAttributeError\u001b[0m                            Traceback (most recent call last)",
            "\u001b[0;32m<ipython-input-109-6db2f834d506>\u001b[0m in \u001b[0;36m<module>\u001b[0;34m()\u001b[0m\n\u001b[0;32m----> 1\u001b[0;31m \u001b[0mrows\u001b[0m\u001b[0;34m=\u001b[0m\u001b[0mlist\u001b[0m\u001b[0;34m(\u001b[0m\u001b[0mX\u001b[0m\u001b[0;34m.\u001b[0m\u001b[0mcolumns\u001b[0m\u001b[0;34m)\u001b[0m\u001b[0;34m\u001b[0m\u001b[0;34m\u001b[0m\u001b[0m\n\u001b[0m\u001b[1;32m      2\u001b[0m \u001b[0mimp\u001b[0m\u001b[0;34m=\u001b[0m\u001b[0mpd\u001b[0m\u001b[0;34m.\u001b[0m\u001b[0mDataFrame\u001b[0m\u001b[0;34m(\u001b[0m\u001b[0mnp\u001b[0m\u001b[0;34m.\u001b[0m\u001b[0mzeros\u001b[0m\u001b[0;34m(\u001b[0m\u001b[0;36m6\u001b[0m\u001b[0;34m*\u001b[0m\u001b[0mlen\u001b[0m\u001b[0;34m(\u001b[0m\u001b[0mrows\u001b[0m\u001b[0;34m)\u001b[0m\u001b[0;34m)\u001b[0m\u001b[0;34m.\u001b[0m\u001b[0mreshape\u001b[0m\u001b[0;34m(\u001b[0m\u001b[0;36m2\u001b[0m\u001b[0;34m*\u001b[0m\u001b[0mlen\u001b[0m\u001b[0;34m(\u001b[0m\u001b[0mrows\u001b[0m\u001b[0;34m)\u001b[0m\u001b[0;34m,\u001b[0m\u001b[0;36m3\u001b[0m\u001b[0;34m)\u001b[0m\u001b[0;34m)\u001b[0m\u001b[0;34m\u001b[0m\u001b[0;34m\u001b[0m\u001b[0m\n\u001b[1;32m      3\u001b[0m \u001b[0mimp\u001b[0m\u001b[0;34m.\u001b[0m\u001b[0mcolumns\u001b[0m\u001b[0;34m=\u001b[0m\u001b[0;34m[\u001b[0m\u001b[0;34m'Classifier'\u001b[0m\u001b[0;34m,\u001b[0m\u001b[0;34m\"Feature\"\u001b[0m\u001b[0;34m,\u001b[0m\u001b[0;34m\"Importnace\"\u001b[0m\u001b[0;34m]\u001b[0m\u001b[0;34m\u001b[0m\u001b[0;34m\u001b[0m\u001b[0m\n\u001b[1;32m      4\u001b[0m \u001b[0;32mfor\u001b[0m \u001b[0mindex\u001b[0m \u001b[0;32min\u001b[0m \u001b[0mrange\u001b[0m\u001b[0;34m(\u001b[0m\u001b[0;36m0\u001b[0m\u001b[0;34m,\u001b[0m\u001b[0;36m2\u001b[0m\u001b[0;34m*\u001b[0m\u001b[0mlen\u001b[0m\u001b[0;34m(\u001b[0m\u001b[0mrows\u001b[0m\u001b[0;34m)\u001b[0m\u001b[0;34m,\u001b[0m\u001b[0;36m2\u001b[0m\u001b[0;34m)\u001b[0m\u001b[0;34m:\u001b[0m\u001b[0;34m\u001b[0m\u001b[0;34m\u001b[0m\u001b[0m\n\u001b[1;32m      5\u001b[0m     \u001b[0mimp\u001b[0m\u001b[0;34m.\u001b[0m\u001b[0miloc\u001b[0m\u001b[0;34m[\u001b[0m\u001b[0mindex\u001b[0m\u001b[0;34m]\u001b[0m\u001b[0;34m=\u001b[0m\u001b[0;34m[\u001b[0m\u001b[0;34m\"Random Forest\"\u001b[0m\u001b[0;34m,\u001b[0m\u001b[0mrows\u001b[0m\u001b[0;34m[\u001b[0m\u001b[0mindex\u001b[0m\u001b[0;34m//\u001b[0m\u001b[0;36m2\u001b[0m\u001b[0;34m]\u001b[0m\u001b[0;34m,\u001b[0m\u001b[0;34m(\u001b[0m\u001b[0;36m100\u001b[0m\u001b[0;34m*\u001b[0m\u001b[0mrfc1\u001b[0m\u001b[0;34m.\u001b[0m\u001b[0mfeature_importances_\u001b[0m\u001b[0;34m[\u001b[0m\u001b[0mindex\u001b[0m\u001b[0;34m//\u001b[0m\u001b[0;36m2\u001b[0m\u001b[0;34m]\u001b[0m\u001b[0;34m)\u001b[0m\u001b[0;34m]\u001b[0m\u001b[0;34m\u001b[0m\u001b[0;34m\u001b[0m\u001b[0m\n",
            "\u001b[0;31mAttributeError\u001b[0m: 'numpy.ndarray' object has no attribute 'columns'"
          ]
        }
      ]
    },
    {
      "cell_type": "code",
      "metadata": {
        "id": "TkA7okR41T-r",
        "outputId": "3d3d7b36-86cc-4f4c-fb9c-7778896739e3",
        "colab": {
          "base_uri": "https://localhost:8080/",
          "height": 228
        }
      },
      "source": [
        "plt.figure(figsize=(15,5))\n",
        "sns.barplot(\"Feature\",\"Importnace\",hue=\"Classifier\",data=imp)\n",
        "plt.title(\"Computer Feature Importance\")\n",
        "plt.show()"
      ],
      "execution_count": 110,
      "outputs": [
        {
          "output_type": "error",
          "ename": "NameError",
          "evalue": "ignored",
          "traceback": [
            "\u001b[0;31m---------------------------------------------------------------------------\u001b[0m",
            "\u001b[0;31mNameError\u001b[0m                                 Traceback (most recent call last)",
            "\u001b[0;32m<ipython-input-110-81eb08e83150>\u001b[0m in \u001b[0;36m<module>\u001b[0;34m()\u001b[0m\n\u001b[1;32m      1\u001b[0m \u001b[0mplt\u001b[0m\u001b[0;34m.\u001b[0m\u001b[0mfigure\u001b[0m\u001b[0;34m(\u001b[0m\u001b[0mfigsize\u001b[0m\u001b[0;34m=\u001b[0m\u001b[0;34m(\u001b[0m\u001b[0;36m15\u001b[0m\u001b[0;34m,\u001b[0m\u001b[0;36m5\u001b[0m\u001b[0;34m)\u001b[0m\u001b[0;34m)\u001b[0m\u001b[0;34m\u001b[0m\u001b[0;34m\u001b[0m\u001b[0m\n\u001b[0;32m----> 2\u001b[0;31m \u001b[0msns\u001b[0m\u001b[0;34m.\u001b[0m\u001b[0mbarplot\u001b[0m\u001b[0;34m(\u001b[0m\u001b[0;34m\"Feature\"\u001b[0m\u001b[0;34m,\u001b[0m\u001b[0;34m\"Importnace\"\u001b[0m\u001b[0;34m,\u001b[0m\u001b[0mhue\u001b[0m\u001b[0;34m=\u001b[0m\u001b[0;34m\"Classifier\"\u001b[0m\u001b[0;34m,\u001b[0m\u001b[0mdata\u001b[0m\u001b[0;34m=\u001b[0m\u001b[0mimp\u001b[0m\u001b[0;34m)\u001b[0m\u001b[0;34m\u001b[0m\u001b[0;34m\u001b[0m\u001b[0m\n\u001b[0m\u001b[1;32m      3\u001b[0m \u001b[0mplt\u001b[0m\u001b[0;34m.\u001b[0m\u001b[0mtitle\u001b[0m\u001b[0;34m(\u001b[0m\u001b[0;34m\"Computer Feature Importance\"\u001b[0m\u001b[0;34m)\u001b[0m\u001b[0;34m\u001b[0m\u001b[0;34m\u001b[0m\u001b[0m\n\u001b[1;32m      4\u001b[0m \u001b[0mplt\u001b[0m\u001b[0;34m.\u001b[0m\u001b[0mshow\u001b[0m\u001b[0;34m(\u001b[0m\u001b[0;34m)\u001b[0m\u001b[0;34m\u001b[0m\u001b[0;34m\u001b[0m\u001b[0m\n",
            "\u001b[0;31mNameError\u001b[0m: name 'imp' is not defined"
          ]
        },
        {
          "output_type": "display_data",
          "data": {
            "text/plain": [
              "<Figure size 1080x360 with 0 Axes>"
            ]
          },
          "metadata": {
            "tags": []
          }
        }
      ]
    },
    {
      "cell_type": "code",
      "metadata": {
        "id": "M7E9jxfw1T-w",
        "outputId": "907603fc-3a54-4883-fde4-46c4a2ad43f7",
        "colab": {
          "base_uri": "https://localhost:8080/",
          "height": 329
        }
      },
      "source": [
        "#Mean Decrease Accuracy Feature Importance\n",
        "import eli5\n",
        "from eli5.sklearn import PermutationImportance"
      ],
      "execution_count": 111,
      "outputs": [
        {
          "output_type": "error",
          "ename": "ModuleNotFoundError",
          "evalue": "ignored",
          "traceback": [
            "\u001b[0;31m---------------------------------------------------------------------------\u001b[0m",
            "\u001b[0;31mModuleNotFoundError\u001b[0m                       Traceback (most recent call last)",
            "\u001b[0;32m<ipython-input-111-f274605170a6>\u001b[0m in \u001b[0;36m<module>\u001b[0;34m()\u001b[0m\n\u001b[1;32m      1\u001b[0m \u001b[0;31m#Mean Decrease Accuracy Feature Importance\u001b[0m\u001b[0;34m\u001b[0m\u001b[0;34m\u001b[0m\u001b[0;34m\u001b[0m\u001b[0m\n\u001b[0;32m----> 2\u001b[0;31m \u001b[0;32mimport\u001b[0m \u001b[0meli5\u001b[0m\u001b[0;34m\u001b[0m\u001b[0;34m\u001b[0m\u001b[0m\n\u001b[0m\u001b[1;32m      3\u001b[0m \u001b[0;32mfrom\u001b[0m \u001b[0meli5\u001b[0m\u001b[0;34m.\u001b[0m\u001b[0msklearn\u001b[0m \u001b[0;32mimport\u001b[0m \u001b[0mPermutationImportance\u001b[0m\u001b[0;34m\u001b[0m\u001b[0;34m\u001b[0m\u001b[0m\n",
            "\u001b[0;31mModuleNotFoundError\u001b[0m: No module named 'eli5'",
            "",
            "\u001b[0;31m---------------------------------------------------------------------------\u001b[0;32m\nNOTE: If your import is failing due to a missing package, you can\nmanually install dependencies using either !pip or !apt.\n\nTo view examples of installing some common dependencies, click the\n\"Open Examples\" button below.\n\u001b[0;31m---------------------------------------------------------------------------\u001b[0m\n"
          ]
        }
      ]
    },
    {
      "cell_type": "code",
      "metadata": {
        "id": "86IjH2HC1T-1",
        "outputId": "04a775d6-fc6a-47f2-aecd-12fbde7dc0e8",
        "colab": {
          "base_uri": "https://localhost:8080/",
          "height": 212
        }
      },
      "source": [
        "perm=PermutationImportance(svm).fit(xtrain_res,ytrain_res)\n",
        "perm1=PermutationImportance(xgb_classifier).fit(xtrain_res,ytrain_res)\n",
        "perm2=PermutationImportance(rfc1).fit(xtrain_res,ytrain_res)\n",
        "eli5.show_weights(perm)"
      ],
      "execution_count": 112,
      "outputs": [
        {
          "output_type": "error",
          "ename": "NameError",
          "evalue": "ignored",
          "traceback": [
            "\u001b[0;31m---------------------------------------------------------------------------\u001b[0m",
            "\u001b[0;31mNameError\u001b[0m                                 Traceback (most recent call last)",
            "\u001b[0;32m<ipython-input-112-7eeac3e89b59>\u001b[0m in \u001b[0;36m<module>\u001b[0;34m()\u001b[0m\n\u001b[0;32m----> 1\u001b[0;31m \u001b[0mperm\u001b[0m\u001b[0;34m=\u001b[0m\u001b[0mPermutationImportance\u001b[0m\u001b[0;34m(\u001b[0m\u001b[0msvm\u001b[0m\u001b[0;34m)\u001b[0m\u001b[0;34m.\u001b[0m\u001b[0mfit\u001b[0m\u001b[0;34m(\u001b[0m\u001b[0mxtrain_res\u001b[0m\u001b[0;34m,\u001b[0m\u001b[0mytrain_res\u001b[0m\u001b[0;34m)\u001b[0m\u001b[0;34m\u001b[0m\u001b[0;34m\u001b[0m\u001b[0m\n\u001b[0m\u001b[1;32m      2\u001b[0m \u001b[0mperm1\u001b[0m\u001b[0;34m=\u001b[0m\u001b[0mPermutationImportance\u001b[0m\u001b[0;34m(\u001b[0m\u001b[0mxgb_classifier\u001b[0m\u001b[0;34m)\u001b[0m\u001b[0;34m.\u001b[0m\u001b[0mfit\u001b[0m\u001b[0;34m(\u001b[0m\u001b[0mxtrain_res\u001b[0m\u001b[0;34m,\u001b[0m\u001b[0mytrain_res\u001b[0m\u001b[0;34m)\u001b[0m\u001b[0;34m\u001b[0m\u001b[0;34m\u001b[0m\u001b[0m\n\u001b[1;32m      3\u001b[0m \u001b[0mperm2\u001b[0m\u001b[0;34m=\u001b[0m\u001b[0mPermutationImportance\u001b[0m\u001b[0;34m(\u001b[0m\u001b[0mrfc1\u001b[0m\u001b[0;34m)\u001b[0m\u001b[0;34m.\u001b[0m\u001b[0mfit\u001b[0m\u001b[0;34m(\u001b[0m\u001b[0mxtrain_res\u001b[0m\u001b[0;34m,\u001b[0m\u001b[0mytrain_res\u001b[0m\u001b[0;34m)\u001b[0m\u001b[0;34m\u001b[0m\u001b[0;34m\u001b[0m\u001b[0m\n\u001b[1;32m      4\u001b[0m \u001b[0meli5\u001b[0m\u001b[0;34m.\u001b[0m\u001b[0mshow_weights\u001b[0m\u001b[0;34m(\u001b[0m\u001b[0mperm\u001b[0m\u001b[0;34m)\u001b[0m\u001b[0;34m\u001b[0m\u001b[0;34m\u001b[0m\u001b[0m\n",
            "\u001b[0;31mNameError\u001b[0m: name 'PermutationImportance' is not defined"
          ]
        }
      ]
    },
    {
      "cell_type": "code",
      "metadata": {
        "id": "u7cSTvbc1T-4",
        "outputId": "64382a66-3680-42f4-ee61-ae9f0f1fa347",
        "colab": {
          "base_uri": "https://localhost:8080/",
          "height": 161
        }
      },
      "source": [
        "eli5.show_weights(perm1)"
      ],
      "execution_count": 113,
      "outputs": [
        {
          "output_type": "error",
          "ename": "NameError",
          "evalue": "ignored",
          "traceback": [
            "\u001b[0;31m---------------------------------------------------------------------------\u001b[0m",
            "\u001b[0;31mNameError\u001b[0m                                 Traceback (most recent call last)",
            "\u001b[0;32m<ipython-input-113-e5bd63e690c6>\u001b[0m in \u001b[0;36m<module>\u001b[0;34m()\u001b[0m\n\u001b[0;32m----> 1\u001b[0;31m \u001b[0meli5\u001b[0m\u001b[0;34m.\u001b[0m\u001b[0mshow_weights\u001b[0m\u001b[0;34m(\u001b[0m\u001b[0mperm1\u001b[0m\u001b[0;34m)\u001b[0m\u001b[0;34m\u001b[0m\u001b[0;34m\u001b[0m\u001b[0m\n\u001b[0m",
            "\u001b[0;31mNameError\u001b[0m: name 'eli5' is not defined"
          ]
        }
      ]
    },
    {
      "cell_type": "code",
      "metadata": {
        "id": "DllJ96ND1T-6",
        "outputId": "c62a4e7d-e5d8-45ff-f9e1-1e256bec8d79",
        "colab": {
          "base_uri": "https://localhost:8080/",
          "height": 161
        }
      },
      "source": [
        "eli5.show_weights(perm2)"
      ],
      "execution_count": 114,
      "outputs": [
        {
          "output_type": "error",
          "ename": "NameError",
          "evalue": "ignored",
          "traceback": [
            "\u001b[0;31m---------------------------------------------------------------------------\u001b[0m",
            "\u001b[0;31mNameError\u001b[0m                                 Traceback (most recent call last)",
            "\u001b[0;32m<ipython-input-114-01b19944623c>\u001b[0m in \u001b[0;36m<module>\u001b[0;34m()\u001b[0m\n\u001b[0;32m----> 1\u001b[0;31m \u001b[0meli5\u001b[0m\u001b[0;34m.\u001b[0m\u001b[0mshow_weights\u001b[0m\u001b[0;34m(\u001b[0m\u001b[0mperm2\u001b[0m\u001b[0;34m)\u001b[0m\u001b[0;34m\u001b[0m\u001b[0;34m\u001b[0m\u001b[0m\n\u001b[0m",
            "\u001b[0;31mNameError\u001b[0m: name 'eli5' is not defined"
          ]
        }
      ]
    },
    {
      "cell_type": "code",
      "metadata": {
        "id": "ARnIdLva1T-8"
      },
      "source": [
        "\n",
        "plt.figure(figsize=(15,8))\n",
        "plt.bar(rows,perm.feature_importances_std_*100)\n",
        "plt.bar(rows,perm1.feature_importances_std_*100)\n",
        "plt.bar(rows,perm2.feature_importances_std_*100)\n",
        "plt.legend([\"SVM\",\"XGboost\",\"Random Forest\"])\n",
        "plt.show()"
      ],
      "execution_count": null,
      "outputs": []
    },
    {
      "cell_type": "code",
      "metadata": {
        "id": "Ln09p_YO1T-_"
      },
      "source": [
        "# Subplot of confusion matrix"
      ],
      "execution_count": 115,
      "outputs": []
    },
    {
      "cell_type": "code",
      "metadata": {
        "id": "lTmHwsP11T_D",
        "outputId": "dee15d3a-f191-43da-84d8-885c88511d7a",
        "colab": {
          "base_uri": "https://localhost:8080/",
          "height": 607
        }
      },
      "source": [
        "fig,axes=plt.subplots(2,2,figsize=(15,10),sharey=True)\n",
        "\n",
        "sns.heatmap(confusion_matrix(ytest,lr_yrped),annot=True,ax=axes[0,0])\n",
        "axes[0,0].set_title(\"(a) Logistic Regression Confusion Matrix\")\n",
        "\n",
        "sns.heatmap(confusion_matrix(ytest,svm_ypred),annot=True,ax=axes[0,1])\n",
        "axes[0,1].set_title(\"(b) SVM Classifier Confusion Matrix\")\n",
        "\n",
        "sns.heatmap(confusion_matrix(ytest,xgb_ypredict),annot=True,ax=axes[1,0])\n",
        "axes[1,0].set_title(\"(c) XGBoost Classifier Confusion Matrix\")\n",
        "\n",
        "sns.heatmap(confusion_matrix(ytest,rf_ypredict),annot=True,ax=axes[1,1])\n",
        "axes[1,1].set_title(\"(d) Radom Forest Classifier Confusion Matrix\")\n",
        "\n",
        "plt.savefig('fig5.eps')\n"
      ],
      "execution_count": 118,
      "outputs": [
        {
          "output_type": "display_data",
          "data": {
            "image/png": "[encoded data removed]",
            "text/plain": [
              "<Figure size 1080x720 with 8 Axes>"
            ]
          },
          "metadata": {
            "tags": [],
            "needs_background": "light"
          }
        }
      ]
    },
    {
      "cell_type": "code",
      "metadata": {
        "id": "TodXJRAw1T_F"
      },
      "source": [
        "#Roc curve"
      ],
      "execution_count": 119,
      "outputs": []
    },
    {
      "cell_type": "code",
      "metadata": {
        "id": "Ek5w0p6f1T_G"
      },
      "source": [
        "from sklearn import metrics\n",
        "from sklearn.metrics import (confusion_matrix, precision_recall_curve, auc, roc_curve, recall_score, \n",
        "                             classification_report, f1_score, average_precision_score, precision_recall_fscore_support)\n"
      ],
      "execution_count": 120,
      "outputs": []
    },
    {
      "cell_type": "code",
      "metadata": {
        "id": "TfYAebdb1T_J"
      },
      "source": [
        "# Logistic regression\n",
        "modelLR = LogisticRegression(solver='lbfgs', max_iter=10000)\n",
        "modelLR.fit(xtrain_res,ytrain_res)\n",
        "y_pred_prob_lr = modelLR.predict_proba(xtest)[:,1]\n",
        "fpr_lr, tpr_lr, thresholds_lr = roc_curve(ytest, y_pred_prob_lr)\n",
        "roc_auc_lr = auc(fpr_lr, tpr_lr)\n",
        "precision_lr, recall_lr, th_lr = precision_recall_curve(ytest, y_pred_prob_lr)\n",
        "\n",
        "\n",
        "# SVM with linear\n",
        "modelSVMlinear=SVC(C=0.01,\n",
        "          decision_function_shape= 'ovo',\n",
        "          degree= 3,\n",
        "          gamma= 'auto',\n",
        "          kernel= 'linear',\n",
        "          probability= True, random_state=0)\n",
        "modelSVMlinear.fit(xtrain_res,ytrain_res)\n",
        "y_pred_prob_SVMlinear = modelSVMlinear.predict_proba(xtest)[:,1]\n",
        "fpr_SVMlinear, tpr_SVMlinear, thresholds_SVMlinear = roc_curve(ytest, y_pred_prob_SVMlinear)\n",
        "roc_auc_SVMlinear = auc(fpr_SVMlinear, tpr_SVMlinear)\n",
        "precision_SVMlinear, recall_SVMlinear, th_SVMlinear = precision_recall_curve(ytest, y_pred_prob_SVMlinear)\n",
        "\n",
        "\n",
        "# Random forest\n",
        "modelRF= RandomForestClassifier(random_state=42, criterion= 'gini',\n",
        "                            max_features= 7,\n",
        "                            min_samples_leaf=2,\n",
        "                            min_samples_split= 2,\n",
        "                            n_estimators=50,\n",
        "                            n_jobs=-1,\n",
        "                            oob_score= True,\n",
        "                            warm_start= True)\n",
        "modelRF.fit(xtrain_res,ytrain_res)\n",
        "y_pred_prob_rf = modelRF.predict_proba(xtest)[:,1]\n",
        "fpr_rf, tpr_rf, thresholds_rf = roc_curve(ytest, y_pred_prob_rf)\n",
        "roc_auc_rf = auc(fpr_rf, tpr_rf)\n",
        "precision_rf, recall_rf, th_rf = precision_recall_curve(ytest, y_pred_prob_rf)\n",
        "\n",
        "modelxg= XGBClassifier(gamma=0,\n",
        "                    learning_rate=0.1,\n",
        "                    max_delta_step=2,\n",
        "                    max_depth= 6,min_child_weight=4,\n",
        "                    n_estimators=200,reg_alpha=0,\n",
        "                    reg_lambda=8,seed=1)\n",
        "modelxg.fit(xtrain_res,ytrain_res)\n",
        "y_pred_prob_xg = modelxg.predict_proba(xtest)[:,1]\n",
        "fpr_xg, tpr_xg, thresholds_xg = roc_curve(ytest, y_pred_prob_xg)\n",
        "roc_auc_xg = auc(fpr_xg, tpr_xg)\n",
        "precision_xg, recall_xg, th_xg = precision_recall_curve(ytest, y_pred_prob_xg)\n",
        "\n"
      ],
      "execution_count": 121,
      "outputs": []
    },
    {
      "cell_type": "code",
      "metadata": {
        "id": "tTOqrQze1T_N",
        "outputId": "77a0b438-1e02-4cad-c3dc-5249a058b265",
        "colab": {
          "base_uri": "https://localhost:8080/",
          "height": 438
        }
      },
      "source": [
        "# Plot ROC curve\n",
        "plt.figure(figsize=(8,6))\n",
        "plt.plot([0, 1], [0, 1], 'k--')\n",
        "plt.plot(fpr_lr, tpr_lr, label='Log Reg (area = %0.3f)' % roc_auc_lr)\n",
        "plt.plot(fpr_SVMlinear, tpr_SVMlinear, label='SVM linear (area = %0.3f)' % roc_auc_SVMlinear)\n",
        "plt.plot(fpr_rf, tpr_rf, label='RF (area = %0.3f)' % roc_auc_rf)\n",
        "plt.plot(fpr_xg, tpr_xg, label='XGB (area = %0.3f)' % roc_auc_xg)\n",
        "plt.xlabel('False Positive Rate')\n",
        "plt.ylabel('True Positive Rate')\n",
        "plt.title('ROC curves from the investigated models')\n",
        "plt.legend(loc='best')\n",
        "\n",
        "#plt.savefig('All ROC curve.eps')\n",
        "plt.savefig('fig6.eps')\n",
        "plt.show()"
      ],
      "execution_count": 123,
      "outputs": [
        {
          "output_type": "stream",
          "text": [
            "The PostScript backend does not support transparency; partially transparent artists will be rendered opaque.\n",
            "The PostScript backend does not support transparency; partially transparent artists will be rendered opaque.\n"
          ],
          "name": "stderr"
        },
        {
          "output_type": "display_data",
          "data": {
            "image/png": "[encoded data removed]",
            "text/plain": [
              "<Figure size 576x432 with 1 Axes>"
            ]
          },
          "metadata": {
            "tags": [],
            "needs_background": "light"
          }
        }
      ]
    },
    {
      "cell_type": "code",
      "metadata": {
        "id": "5cZZBWaB1T_O"
      },
      "source": [
        "#Precision Recall curve"
      ],
      "execution_count": null,
      "outputs": []
    },
    {
      "cell_type": "code",
      "metadata": {
        "id": "Q9JmHO1F1T_S",
        "outputId": "fa41fc67-9643-4dfe-a6ea-527bbd4af42b"
      },
      "source": [
        "plt.figure(figsize=(8,6))\n",
        "plt.plot([1, 0], [0, 1], 'k--')\n",
        "plt.plot(recall_lr, precision_lr, label='Log Reg')\n",
        "plt.plot(recall_SVMlinear, precision_SVMlinear, label='SVM linear')\n",
        "plt.plot(recall_rf, precision_rf, label='RF')\n",
        "plt.plot(recall_xg, precision_xg, label='XGB')\n",
        "plt.title('Precision vs. Recall')\n",
        "plt.xlabel('Recall')\n",
        "plt.ylabel('Precision')\n",
        "plt.legend(loc='best')\n",
        "plt.show()"
      ],
      "execution_count": null,
      "outputs": [
        {
          "output_type": "display_data",
          "data": {
            "image/png": "[encoded data removed]",
            "text/plain": [
              "<Figure size 576x432 with 1 Axes>"
            ]
          },
          "metadata": {
            "tags": [],
            "needs_background": "light"
          }
        }
      ]
    },
    {
      "cell_type": "code",
      "metadata": {
        "id": "ZnKGXDiT1T_U"
      },
      "source": [
        ""
      ],
      "execution_count": null,
      "outputs": []
    },
    {
      "cell_type": "code",
      "metadata": {
        "id": "mpi0cTSU1T_W"
      },
      "source": [
        ""
      ],
      "execution_count": null,
      "outputs": []
    }
  ]
}